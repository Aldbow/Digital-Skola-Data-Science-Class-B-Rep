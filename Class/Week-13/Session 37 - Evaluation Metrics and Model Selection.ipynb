{
  "nbformat": 4,
  "nbformat_minor": 0,
  "metadata": {
    "colab": {
      "name": "session37.ipynb",
      "provenance": [],
      "collapsed_sections": [],
      "toc_visible": true
    },
    "kernelspec": {
      "name": "python3",
      "display_name": "Python 3"
    },
    "language_info": {
      "name": "python"
    }
  },
  "cells": [
    {
      "cell_type": "markdown",
      "metadata": {
        "id": "HYDnLorfaLu9"
      },
      "source": [
        "#Session 36. Evaluation metrics and model selection"
      ]
    },
    {
      "cell_type": "markdown",
      "metadata": {
        "id": "NeYk43_9aUnb"
      },
      "source": [
        "## Read dataset"
      ]
    },
    {
      "cell_type": "code",
      "metadata": {
        "colab": {
          "base_uri": "https://localhost:8080/",
          "height": 256
        },
        "id": "VcglHHrjanTM",
        "outputId": "db97fba7-1886-4357-b052-fbf40ec40c4f"
      },
      "source": [
        "import pandas as pd\n",
        "df = pd.read_csv('https://raw.githubusercontent.com/ganjar87/data_science_practice/main/healthcare-dataset-stroke-data.csv', delimiter = \",\")\n",
        "df.head()\n",
        "#df.columns"
      ],
      "execution_count": 1,
      "outputs": [
        {
          "output_type": "execute_result",
          "data": {
            "text/html": [
              "<div>\n",
              "<style scoped>\n",
              "    .dataframe tbody tr th:only-of-type {\n",
              "        vertical-align: middle;\n",
              "    }\n",
              "\n",
              "    .dataframe tbody tr th {\n",
              "        vertical-align: top;\n",
              "    }\n",
              "\n",
              "    .dataframe thead th {\n",
              "        text-align: right;\n",
              "    }\n",
              "</style>\n",
              "<table border=\"1\" class=\"dataframe\">\n",
              "  <thead>\n",
              "    <tr style=\"text-align: right;\">\n",
              "      <th></th>\n",
              "      <th>id</th>\n",
              "      <th>gender</th>\n",
              "      <th>age</th>\n",
              "      <th>hypertension</th>\n",
              "      <th>heart_disease</th>\n",
              "      <th>ever_married</th>\n",
              "      <th>work_type</th>\n",
              "      <th>Residence_type</th>\n",
              "      <th>avg_glucose_level</th>\n",
              "      <th>bmi</th>\n",
              "      <th>smoking_status</th>\n",
              "      <th>stroke</th>\n",
              "    </tr>\n",
              "  </thead>\n",
              "  <tbody>\n",
              "    <tr>\n",
              "      <th>0</th>\n",
              "      <td>9046</td>\n",
              "      <td>Male</td>\n",
              "      <td>67.0</td>\n",
              "      <td>0</td>\n",
              "      <td>1</td>\n",
              "      <td>Yes</td>\n",
              "      <td>Private</td>\n",
              "      <td>Urban</td>\n",
              "      <td>228.69</td>\n",
              "      <td>36.6</td>\n",
              "      <td>formerly smoked</td>\n",
              "      <td>1</td>\n",
              "    </tr>\n",
              "    <tr>\n",
              "      <th>1</th>\n",
              "      <td>51676</td>\n",
              "      <td>Female</td>\n",
              "      <td>61.0</td>\n",
              "      <td>0</td>\n",
              "      <td>0</td>\n",
              "      <td>Yes</td>\n",
              "      <td>Self-employed</td>\n",
              "      <td>Rural</td>\n",
              "      <td>202.21</td>\n",
              "      <td>NaN</td>\n",
              "      <td>never smoked</td>\n",
              "      <td>1</td>\n",
              "    </tr>\n",
              "    <tr>\n",
              "      <th>2</th>\n",
              "      <td>31112</td>\n",
              "      <td>Male</td>\n",
              "      <td>80.0</td>\n",
              "      <td>0</td>\n",
              "      <td>1</td>\n",
              "      <td>Yes</td>\n",
              "      <td>Private</td>\n",
              "      <td>Rural</td>\n",
              "      <td>105.92</td>\n",
              "      <td>32.5</td>\n",
              "      <td>never smoked</td>\n",
              "      <td>1</td>\n",
              "    </tr>\n",
              "    <tr>\n",
              "      <th>3</th>\n",
              "      <td>60182</td>\n",
              "      <td>Female</td>\n",
              "      <td>49.0</td>\n",
              "      <td>0</td>\n",
              "      <td>0</td>\n",
              "      <td>Yes</td>\n",
              "      <td>Private</td>\n",
              "      <td>Urban</td>\n",
              "      <td>171.23</td>\n",
              "      <td>34.4</td>\n",
              "      <td>smokes</td>\n",
              "      <td>1</td>\n",
              "    </tr>\n",
              "    <tr>\n",
              "      <th>4</th>\n",
              "      <td>1665</td>\n",
              "      <td>Female</td>\n",
              "      <td>79.0</td>\n",
              "      <td>1</td>\n",
              "      <td>0</td>\n",
              "      <td>Yes</td>\n",
              "      <td>Self-employed</td>\n",
              "      <td>Rural</td>\n",
              "      <td>174.12</td>\n",
              "      <td>24.0</td>\n",
              "      <td>never smoked</td>\n",
              "      <td>1</td>\n",
              "    </tr>\n",
              "  </tbody>\n",
              "</table>\n",
              "</div>"
            ],
            "text/plain": [
              "      id  gender   age  ...   bmi   smoking_status stroke\n",
              "0   9046    Male  67.0  ...  36.6  formerly smoked      1\n",
              "1  51676  Female  61.0  ...   NaN     never smoked      1\n",
              "2  31112    Male  80.0  ...  32.5     never smoked      1\n",
              "3  60182  Female  49.0  ...  34.4           smokes      1\n",
              "4   1665  Female  79.0  ...  24.0     never smoked      1\n",
              "\n",
              "[5 rows x 12 columns]"
            ]
          },
          "metadata": {},
          "execution_count": 1
        }
      ]
    },
    {
      "cell_type": "code",
      "metadata": {
        "colab": {
          "base_uri": "https://localhost:8080/",
          "height": 256
        },
        "id": "M-CApoWI-Q5T",
        "outputId": "cd796044-c4dc-4f04-ebd9-593187ad1c73"
      },
      "source": [
        "df.tail()"
      ],
      "execution_count": 2,
      "outputs": [
        {
          "output_type": "execute_result",
          "data": {
            "text/html": [
              "<div>\n",
              "<style scoped>\n",
              "    .dataframe tbody tr th:only-of-type {\n",
              "        vertical-align: middle;\n",
              "    }\n",
              "\n",
              "    .dataframe tbody tr th {\n",
              "        vertical-align: top;\n",
              "    }\n",
              "\n",
              "    .dataframe thead th {\n",
              "        text-align: right;\n",
              "    }\n",
              "</style>\n",
              "<table border=\"1\" class=\"dataframe\">\n",
              "  <thead>\n",
              "    <tr style=\"text-align: right;\">\n",
              "      <th></th>\n",
              "      <th>id</th>\n",
              "      <th>gender</th>\n",
              "      <th>age</th>\n",
              "      <th>hypertension</th>\n",
              "      <th>heart_disease</th>\n",
              "      <th>ever_married</th>\n",
              "      <th>work_type</th>\n",
              "      <th>Residence_type</th>\n",
              "      <th>avg_glucose_level</th>\n",
              "      <th>bmi</th>\n",
              "      <th>smoking_status</th>\n",
              "      <th>stroke</th>\n",
              "    </tr>\n",
              "  </thead>\n",
              "  <tbody>\n",
              "    <tr>\n",
              "      <th>5105</th>\n",
              "      <td>18234</td>\n",
              "      <td>Female</td>\n",
              "      <td>80.0</td>\n",
              "      <td>1</td>\n",
              "      <td>0</td>\n",
              "      <td>Yes</td>\n",
              "      <td>Private</td>\n",
              "      <td>Urban</td>\n",
              "      <td>83.75</td>\n",
              "      <td>NaN</td>\n",
              "      <td>never smoked</td>\n",
              "      <td>0</td>\n",
              "    </tr>\n",
              "    <tr>\n",
              "      <th>5106</th>\n",
              "      <td>44873</td>\n",
              "      <td>Female</td>\n",
              "      <td>81.0</td>\n",
              "      <td>0</td>\n",
              "      <td>0</td>\n",
              "      <td>Yes</td>\n",
              "      <td>Self-employed</td>\n",
              "      <td>Urban</td>\n",
              "      <td>125.20</td>\n",
              "      <td>40.0</td>\n",
              "      <td>never smoked</td>\n",
              "      <td>0</td>\n",
              "    </tr>\n",
              "    <tr>\n",
              "      <th>5107</th>\n",
              "      <td>19723</td>\n",
              "      <td>Female</td>\n",
              "      <td>35.0</td>\n",
              "      <td>0</td>\n",
              "      <td>0</td>\n",
              "      <td>Yes</td>\n",
              "      <td>Self-employed</td>\n",
              "      <td>Rural</td>\n",
              "      <td>82.99</td>\n",
              "      <td>30.6</td>\n",
              "      <td>never smoked</td>\n",
              "      <td>0</td>\n",
              "    </tr>\n",
              "    <tr>\n",
              "      <th>5108</th>\n",
              "      <td>37544</td>\n",
              "      <td>Male</td>\n",
              "      <td>51.0</td>\n",
              "      <td>0</td>\n",
              "      <td>0</td>\n",
              "      <td>Yes</td>\n",
              "      <td>Private</td>\n",
              "      <td>Rural</td>\n",
              "      <td>166.29</td>\n",
              "      <td>25.6</td>\n",
              "      <td>formerly smoked</td>\n",
              "      <td>0</td>\n",
              "    </tr>\n",
              "    <tr>\n",
              "      <th>5109</th>\n",
              "      <td>44679</td>\n",
              "      <td>Female</td>\n",
              "      <td>44.0</td>\n",
              "      <td>0</td>\n",
              "      <td>0</td>\n",
              "      <td>Yes</td>\n",
              "      <td>Govt_job</td>\n",
              "      <td>Urban</td>\n",
              "      <td>85.28</td>\n",
              "      <td>26.2</td>\n",
              "      <td>Unknown</td>\n",
              "      <td>0</td>\n",
              "    </tr>\n",
              "  </tbody>\n",
              "</table>\n",
              "</div>"
            ],
            "text/plain": [
              "         id  gender   age  ...   bmi   smoking_status stroke\n",
              "5105  18234  Female  80.0  ...   NaN     never smoked      0\n",
              "5106  44873  Female  81.0  ...  40.0     never smoked      0\n",
              "5107  19723  Female  35.0  ...  30.6     never smoked      0\n",
              "5108  37544    Male  51.0  ...  25.6  formerly smoked      0\n",
              "5109  44679  Female  44.0  ...  26.2          Unknown      0\n",
              "\n",
              "[5 rows x 12 columns]"
            ]
          },
          "metadata": {},
          "execution_count": 2
        }
      ]
    },
    {
      "cell_type": "code",
      "metadata": {
        "colab": {
          "base_uri": "https://localhost:8080/",
          "height": 248
        },
        "id": "IM38mW5rap0R",
        "outputId": "2d015588-4b48-43ab-d29f-9f9925069743"
      },
      "source": [
        "import matplotlib.pyplot as plt\n",
        "plt.pie(df['stroke'].value_counts(), autopct='%1.2f%%')\n",
        "plt.legend(['Normal', 'Stroke'])\n",
        "plt.show()"
      ],
      "execution_count": 3,
      "outputs": [
        {
          "output_type": "display_data",
          "data": {
            "image/png": "[encoded data removed]",
            "text/plain": [
              "<Figure size 432x288 with 1 Axes>"
            ]
          },
          "metadata": {}
        }
      ]
    },
    {
      "cell_type": "code",
      "metadata": {
        "colab": {
          "base_uri": "https://localhost:8080/"
        },
        "id": "rARFDtRZbao6",
        "outputId": "c0f953c8-f9b1-470e-92e0-ec360bbd6748"
      },
      "source": [
        "df.isnull().sum()"
      ],
      "execution_count": 11,
      "outputs": [
        {
          "output_type": "execute_result",
          "data": {
            "text/plain": [
              "id                     0\n",
              "gender                 0\n",
              "age                    0\n",
              "hypertension           0\n",
              "heart_disease          0\n",
              "ever_married           0\n",
              "work_type              0\n",
              "Residence_type         0\n",
              "avg_glucose_level      0\n",
              "bmi                  201\n",
              "smoking_status         0\n",
              "stroke                 0\n",
              "dtype: int64"
            ]
          },
          "metadata": {},
          "execution_count": 11
        }
      ]
    },
    {
      "cell_type": "markdown",
      "metadata": {
        "id": "-q74IyhegxXv"
      },
      "source": [
        "## Data preprocessing"
      ]
    },
    {
      "cell_type": "code",
      "metadata": {
        "id": "AfweiBYjgzoT"
      },
      "source": [
        "from sklearn.preprocessing import StandardScaler\n",
        "from sklearn.preprocessing import LabelEncoder\n",
        "\n",
        "df_X = df.drop(['id','stroke'],axis=1)\n",
        "df_y = df['stroke']\n",
        "#imputation\n",
        "df_X['bmi'].fillna(df_X['bmi'].median(), inplace=True)\n",
        "#categorical encoding\n",
        "cats = df_X.select_dtypes(include=['object', 'bool']).columns\n",
        "cat_features = list(cats.values)\n",
        "\n",
        "le = LabelEncoder()\n",
        "for i in cat_features:\n",
        "  df_X[i] = le.fit_transform(df_X[i])\n",
        "\n",
        "X = df_X.astype(float).values\n",
        "y = df_y.astype(float).values\n",
        "\n"
      ],
      "execution_count": 12,
      "outputs": []
    },
    {
      "cell_type": "markdown",
      "metadata": {
        "id": "SMrFIVbdT0VQ"
      },
      "source": [
        "## Evaluation metrics with holdout"
      ]
    },
    {
      "cell_type": "code",
      "metadata": {
        "colab": {
          "base_uri": "https://localhost:8080/",
          "height": 430
        },
        "id": "IHdhUdyVbo3D",
        "outputId": "835a97ed-88b8-46bf-af5e-199cc94022ad"
      },
      "source": [
        "from sklearn.model_selection import train_test_split\n",
        "from sklearn.tree import DecisionTreeClassifier\n",
        "from sklearn.metrics import accuracy_score\n",
        "from sklearn.metrics import precision_score\n",
        "from sklearn.metrics import recall_score\n",
        "from sklearn.metrics import confusion_matrix\n",
        "from sklearn.metrics import plot_confusion_matrix\n",
        "from imblearn.metrics import sensitivity_specificity_support\n",
        "from sklearn.metrics import f1_score\n",
        "\n",
        "# import warnings filter\n",
        "from warnings import simplefilter\n",
        "# ignore all future warnings\n",
        "simplefilter(action='ignore', category=FutureWarning)\n",
        "\n",
        "X_train, X_test, y_train, y_test = train_test_split(X, y, test_size=0.3, random_state=42)\n",
        "#scaling\n",
        "scaler = StandardScaler().fit(X_train)\n",
        "X_train = scaler.transform(X_train)\n",
        "X_test = scaler.transform(X_test)\n",
        "\n",
        "model=DecisionTreeClassifier(random_state=42)\n",
        "model.fit(X_train, y_train)\n",
        "y_pred = model.predict(X_test)\n",
        "\n",
        "print('Accuracy : ',accuracy_score(y_test, y_pred))    \n",
        "print('Precision : ',precision_score(y_test, y_pred, average='binary'))  \n",
        "print('Recall/ sensitivity : ',recall_score(y_test, y_pred, average='binary')) \n",
        "sens, spec, sup = sensitivity_specificity_support(y_test,y_pred, average='binary')\n",
        "print('Specificity : ',spec)\n",
        "print('F1 Score : ',f1_score(y_test, y_pred, average='binary')) \n",
        "\n",
        "print('Confusion matrix :')\n",
        "print(confusion_matrix(y_test, y_pred))\n",
        "print('Plot Confusion Matrix :')\n",
        "plot_confusion_matrix(model, X_test, y_test, cmap=plt.cm.Blues)  \n",
        "plt.show()\n"
      ],
      "execution_count": 13,
      "outputs": [
        {
          "output_type": "stream",
          "name": "stdout",
          "text": [
            "Accuracy :  0.9060665362035225\n",
            "Precision :  0.19101123595505617\n",
            "Recall/ sensitivity :  0.19101123595505617\n",
            "Specificity :  0.9501385041551247\n",
            "F1 Score :  0.1910112359550562\n",
            "Confusion matrix :\n",
            "[[1372   72]\n",
            " [  72   17]]\n",
            "Plot Confusion Matrix :\n"
          ]
        },
        {
          "output_type": "display_data",
          "data": {
            "image/png": "[encoded data removed]",
            "text/plain": [
              "<Figure size 432x288 with 2 Axes>"
            ]
          },
          "metadata": {
            "needs_background": "light"
          }
        }
      ]
    },
    {
      "cell_type": "code",
      "metadata": {
        "colab": {
          "base_uri": "https://localhost:8080/"
        },
        "id": "SR1Ojm1zjIAL",
        "outputId": "308a83ca-0482-499c-bf21-a3eff59ef59d"
      },
      "source": [
        "sensitivity_specificity_support(y_test,y_pred, average='binary')"
      ],
      "execution_count": 85,
      "outputs": [
        {
          "output_type": "execute_result",
          "data": {
            "text/plain": [
              "(0.19101123595505617, 0.9501385041551247, None)"
            ]
          },
          "metadata": {},
          "execution_count": 85
        }
      ]
    },
    {
      "cell_type": "code",
      "metadata": {
        "colab": {
          "base_uri": "https://localhost:8080/",
          "height": 312
        },
        "id": "YDwwtpYaPqWe",
        "outputId": "cee4196d-8bc6-462f-826d-a4052b6937f0"
      },
      "source": [
        "from sklearn.metrics import roc_auc_score\n",
        "from sklearn.metrics import roc_curve, auc\n",
        "\n",
        "auc_val = roc_auc_score(y_test, y_pred)\n",
        "# bisa pakai cara ini, untuk dapat AUC\n",
        "print('AUC = ', auc_val)\n",
        "\n",
        "# atau bisa pakai cara ini, untuk AUC\n",
        "fpr, tpr, thresholds = roc_curve(y_test, y_pred)\n",
        "roc_auc = auc(fpr, tpr)\n",
        "\n",
        "plt.figure()\n",
        "plt.plot(fpr, tpr, label='ROC curve (area = %0.2f)' % roc_auc)\n",
        "plt.plot([0, 1], [0, 1], 'k--')\n",
        "\n",
        "plt.xlabel('False Positive Rate')\n",
        "plt.ylabel('True Positive Rate')\n",
        "plt.title('Receiver operating characteristic example')\n",
        "plt.legend(loc=\"lower right\")\n",
        "plt.show()"
      ],
      "execution_count": 14,
      "outputs": [
        {
          "output_type": "stream",
          "name": "stdout",
          "text": [
            "AUC =  0.5705748700550904\n"
          ]
        },
        {
          "output_type": "display_data",
          "data": {
            "image/png": "[encoded data removed]",
            "text/plain": [
              "<Figure size 432x288 with 1 Axes>"
            ]
          },
          "metadata": {
            "needs_background": "light"
          }
        }
      ]
    },
    {
      "cell_type": "code",
      "metadata": {
        "colab": {
          "base_uri": "https://localhost:8080/"
        },
        "id": "kWDHw4-YUBXd",
        "outputId": "9ddef449-8a25-4c4d-ca89-a59ae5c06140"
      },
      "source": [
        "roc_auc"
      ],
      "execution_count": 15,
      "outputs": [
        {
          "output_type": "execute_result",
          "data": {
            "text/plain": [
              "0.5705748700550904"
            ]
          },
          "metadata": {},
          "execution_count": 15
        }
      ]
    },
    {
      "cell_type": "markdown",
      "metadata": {
        "id": "7jyzGWHumgjz"
      },
      "source": [
        "## cross validation v1"
      ]
    },
    {
      "cell_type": "code",
      "metadata": {
        "colab": {
          "base_uri": "https://localhost:8080/"
        },
        "id": "GWslTRHw3ly0",
        "outputId": "dac04f4e-9277-4f9f-aba7-a2ecc9403337"
      },
      "source": [
        "from sklearn.preprocessing import LabelEncoder\n",
        "from sklearn.tree import DecisionTreeClassifier\n",
        "from sklearn.model_selection import cross_validate\n",
        "from sklearn.model_selection import StratifiedKFold\n",
        "from sklearn.model_selection import KFold\n",
        "\n",
        "scaler = StandardScaler().fit(X)\n",
        "X = scaler.transform(X)\n",
        "\n",
        "dt=DecisionTreeClassifier(random_state=42)\n",
        "kfold = KFold(10, shuffle=True)\n",
        "scores = cross_validate(dt, X, y, cv=kfold, scoring=['accuracy','precision','recall', 'f1'])\n",
        "\n",
        "print('Accuracy : ',scores['test_accuracy'].mean())    \n",
        "print('Precision : ',scores['test_precision'].mean())  \n",
        "print('Recall/ sensitivity : ',scores['test_recall'].mean()) \n",
        "print('F1 : ',scores['test_f1'].mean()) "
      ],
      "execution_count": 18,
      "outputs": [
        {
          "output_type": "stream",
          "name": "stdout",
          "text": [
            "Accuracy :  0.9068493150684931\n",
            "Precision :  0.12539706017007807\n",
            "Recall/ sensitivity :  0.1539781333485449\n",
            "F1 :  0.13381220997258064\n"
          ]
        }
      ]
    },
    {
      "cell_type": "code",
      "metadata": {
        "colab": {
          "base_uri": "https://localhost:8080/"
        },
        "id": "dQLcPsQkUAQ_",
        "outputId": "0f0ed5a2-2a1a-48b6-c8a6-e4cc6f59a632"
      },
      "source": [
        "scores"
      ],
      "execution_count": 19,
      "outputs": [
        {
          "output_type": "execute_result",
          "data": {
            "text/plain": [
              "{'fit_time': array([0.01566863, 0.01313567, 0.01351428, 0.01502323, 0.01487589,\n",
              "        0.01513147, 0.01368117, 0.0198257 , 0.01469064, 0.01465106]),\n",
              " 'score_time': array([0.00453639, 0.00409913, 0.00490665, 0.0043385 , 0.00402904,\n",
              "        0.00392365, 0.00381827, 0.00478554, 0.00489402, 0.0049417 ]),\n",
              " 'test_accuracy': array([0.90215264, 0.88649706, 0.90998043, 0.89041096, 0.92563601,\n",
              "        0.90998043, 0.90802348, 0.8962818 , 0.90998043, 0.9295499 ]),\n",
              " 'test_f1': array([0.03846154, 0.03333333, 0.17857143, 0.06666667, 0.17391304,\n",
              "        0.20689655, 0.11320755, 0.07017544, 0.20689655, 0.25      ]),\n",
              " 'test_precision': array([0.04545455, 0.02941176, 0.2       , 0.05882353, 0.14285714,\n",
              "        0.1875    , 0.125     , 0.05405405, 0.15      , 0.26086957]),\n",
              " 'test_recall': array([0.03333333, 0.03846154, 0.16129032, 0.07692308, 0.22222222,\n",
              "        0.23076923, 0.10344828, 0.1       , 0.33333333, 0.24      ])}"
            ]
          },
          "metadata": {},
          "execution_count": 19
        }
      ]
    },
    {
      "cell_type": "markdown",
      "metadata": {
        "id": "QBDv4HkH4OJB"
      },
      "source": [
        "## CV Version ver 2"
      ]
    },
    {
      "cell_type": "code",
      "metadata": {
        "id": "xyXPKSO85DdH"
      },
      "source": [
        "from sklearn.preprocessing import LabelEncoder\n",
        "from sklearn.tree import DecisionTreeClassifier\n",
        "from sklearn.metrics import accuracy_score\n",
        "from sklearn.metrics import precision_score\n",
        "from sklearn.metrics import recall_score\n",
        "from imblearn.metrics import sensitivity_specificity_support\n",
        "from sklearn.metrics import f1_score\n",
        "\n",
        "def dt(X_train, y_train, X_test, y_test):\n",
        "  model=DecisionTreeClassifier(random_state=42)\n",
        "  model.fit(X_train, y_train)\n",
        "  y_pred = model.predict(X_test)\n",
        "  acc=accuracy_score(y_test, y_pred)\n",
        "  prec= precision_score(y_test, y_pred, average='binary')\n",
        "  rec= recall_score(y_test, y_pred, average='binary')\n",
        "  sens, spec, sup = sensitivity_specificity_support(y_test,y_pred, average='binary')\n",
        "  f1= f1_score(y_test, y_pred, average='binary')\n",
        "  return acc, prec, rec, spec,f1\n",
        "\n"
      ],
      "execution_count": 20,
      "outputs": []
    },
    {
      "cell_type": "code",
      "metadata": {
        "colab": {
          "base_uri": "https://localhost:8080/"
        },
        "id": "G4PW-5rC3jO4",
        "outputId": "ba1b9f81-afa1-47fd-9831-59daa306cdc3"
      },
      "source": [
        "from sklearn.preprocessing import LabelEncoder\n",
        "from sklearn.tree import DecisionTreeClassifier\n",
        "from sklearn.model_selection import cross_validate\n",
        "from sklearn.model_selection import StratifiedKFold\n",
        "from sklearn.model_selection import KFold\n",
        "import numpy as np\n",
        "\n",
        "accs, precs, recs, specs,f1s = list(), list(), list(), list(), list()\n",
        "i=1\n",
        "kfold = KFold(10, shuffle=True)\n",
        "for train_ix, test_ix in kfold.split(X,y):\n",
        "    X_train, y_train = X[train_ix], y[train_ix]\n",
        "    X_test, y_test = X[test_ix], y[test_ix]\n",
        "    #print(pd.DataFrame(y_test).value_counts())\n",
        "    #scaling\n",
        "    scaler = StandardScaler().fit(X_train)\n",
        "    X_train = scaler.transform(X_train)\n",
        "    X_test = scaler.transform(X_test)\n",
        "\n",
        "    acc, prec, rec, spec,f1 = dt(X_train, y_train, X_test, y_test)\n",
        "    print('iteration ', i)\n",
        "    print('accuracy ', acc, 'precision ', prec, 'recall ', rec, 'specificity ', spec, 'f1 ', f1)\n",
        "    accs.append(acc)\n",
        "    precs.append(prec)\n",
        "    recs.append(rec)\n",
        "    specs.append(spec)\n",
        "    f1s.append(f1)\n",
        "    print('-----------')\n",
        "    i = i + 1\n",
        "\n",
        "print('------')\n",
        "print('Final Accuracy: %.3f' % (np.mean(accs)))\n",
        "print('Final Precision: %.3f' % (np.mean(precs)))\n",
        "print('Final Specificity: %.3f' % (np.mean(specs)))\n",
        "print('Final Recall: %.3f' % (np.mean(recs)))\n",
        "print('Final F1: %.3f' % (np.mean(f1s)))\n"
      ],
      "execution_count": 22,
      "outputs": [
        {
          "output_type": "stream",
          "name": "stdout",
          "text": [
            "iteration  1\n",
            "accuracy  0.923679060665362 precision  0.19230769230769232 recall  0.21739130434782608 specificity  0.9569672131147541 f1  0.20408163265306123\n",
            "-----------\n",
            "iteration  2\n",
            "accuracy  0.9119373776908023 precision  0.27586206896551724 recall  0.25 specificity  0.9561586638830898 f1  0.26229508196721313\n",
            "-----------\n",
            "iteration  3\n",
            "accuracy  0.9256360078277887 precision  0.18181818181818182 recall  0.16666666666666666 specificity  0.9630390143737166 f1  0.17391304347826086\n",
            "-----------\n",
            "iteration  4\n",
            "accuracy  0.9041095890410958 precision  0.2 recall  0.14705882352941177 specificity  0.9580712788259959 f1  0.16949152542372883\n",
            "-----------\n",
            "iteration  5\n",
            "accuracy  0.9060665362035225 precision  0.02857142857142857 recall  0.06666666666666667 specificity  0.9314516129032258 f1  0.04\n",
            "-----------\n",
            "iteration  6\n",
            "accuracy  0.913894324853229 precision  0.07407407407407407 recall  0.09523809523809523 specificity  0.9489795918367347 f1  0.08333333333333333\n",
            "-----------\n",
            "iteration  7\n",
            "accuracy  0.9099804305283757 precision  0.18518518518518517 recall  0.1724137931034483 specificity  0.9543568464730291 f1  0.17857142857142858\n",
            "-----------\n",
            "iteration  8\n",
            "accuracy  0.9001956947162426 precision  0.09090909090909091 recall  0.125 specificity  0.9383983572895277 f1  0.10526315789473685\n",
            "-----------\n",
            "iteration  9\n",
            "accuracy  0.9001956947162426 precision  0.16216216216216217 recall  0.23076923076923078 specificity  0.9360824742268041 f1  0.19047619047619047\n",
            "-----------\n",
            "iteration  10\n",
            "accuracy  0.9119373776908023 precision  0.125 recall  0.19047619047619047 specificity  0.9428571428571428 f1  0.1509433962264151\n",
            "-----------\n",
            "------\n",
            "Final Accuracy: 0.911\n",
            "Final Precision: 0.152\n",
            "Final Specificity: 0.949\n",
            "Final Recall: 0.166\n",
            "Final F1: 0.156\n"
          ]
        }
      ]
    },
    {
      "cell_type": "markdown",
      "metadata": {
        "id": "CtFQkXhFrwF0"
      },
      "source": [
        "## Stratified CV ver 1"
      ]
    },
    {
      "cell_type": "code",
      "metadata": {
        "colab": {
          "base_uri": "https://localhost:8080/"
        },
        "id": "bRVqfxU2rzXP",
        "outputId": "d9762fb4-3696-492d-bc51-6c16086ea3b7"
      },
      "source": [
        "from sklearn.preprocessing import LabelEncoder\n",
        "from sklearn.tree import DecisionTreeClassifier\n",
        "from sklearn.model_selection import cross_validate\n",
        "from sklearn.model_selection import StratifiedKFold\n",
        "from sklearn.model_selection import KFold\n",
        "\n",
        "scaler = StandardScaler().fit(X)\n",
        "X = scaler.transform(X)\n",
        "\n",
        "dt=DecisionTreeClassifier(random_state=42)\n",
        "scores = cross_validate(dt, X, y, cv=10, scoring=['accuracy','precision','recall','f1'])\n",
        "\n",
        "print('Accuracy : ',scores['test_accuracy'].mean())    \n",
        "print('Precision : ',scores['test_precision'].mean())  \n",
        "print('Recall/ sensitivity : ',scores['test_recall'].mean()) \n",
        "print('F1 : ',scores['test_f1'].mean())  "
      ],
      "execution_count": 23,
      "outputs": [
        {
          "output_type": "stream",
          "name": "stdout",
          "text": [
            "Accuracy :  0.9129158512720157\n",
            "Precision :  0.1520416970014113\n",
            "Recall/ sensitivity :  0.1726666666666667\n",
            "F1 :  0.1596357449098163\n"
          ]
        }
      ]
    },
    {
      "cell_type": "markdown",
      "metadata": {
        "id": "T_cqFMBo8w-i"
      },
      "source": [
        "## stratified CV ver 2"
      ]
    },
    {
      "cell_type": "code",
      "metadata": {
        "id": "ozsmeKyIBcN5"
      },
      "source": [
        "from sklearn.preprocessing import LabelEncoder\n",
        "from sklearn.tree import DecisionTreeClassifier\n",
        "from sklearn.metrics import accuracy_score\n",
        "from sklearn.metrics import precision_score\n",
        "from sklearn.metrics import recall_score\n",
        "from imblearn.metrics import sensitivity_specificity_support\n",
        "\n",
        "def dt(X_train, y_train, X_test, y_test):\n",
        "  model=DecisionTreeClassifier(random_state=42)\n",
        "  model.fit(X_train, y_train)\n",
        "  y_pred = model.predict(X_test)\n",
        "  acc=accuracy_score(y_test, y_pred)\n",
        "  prec= precision_score(y_test, y_pred, average='binary')\n",
        "  rec= recall_score(y_test, y_pred, average='binary')\n",
        "  sens, spec, sup = sensitivity_specificity_support(y_test,y_pred, average='binary')\n",
        "  f1= f1_score(y_test, y_pred, average='binary')\n",
        "  return acc, prec, rec, spec,f1"
      ],
      "execution_count": 24,
      "outputs": []
    },
    {
      "cell_type": "code",
      "metadata": {
        "colab": {
          "base_uri": "https://localhost:8080/"
        },
        "id": "EIDHlzUG9n-T",
        "outputId": "ae8a05db-6421-4441-ad55-ed8ae461aaec"
      },
      "source": [
        "from sklearn.preprocessing import LabelEncoder\n",
        "from sklearn.tree import DecisionTreeClassifier\n",
        "from sklearn.model_selection import cross_validate\n",
        "from sklearn.model_selection import StratifiedKFold\n",
        "from sklearn.model_selection import KFold\n",
        "import numpy as np\n",
        "\n",
        "\n",
        "accs, precs, recs, specs, f1s = list(), list(), list(), list(), list()\n",
        "i=1\n",
        "kfold = StratifiedKFold(10)\n",
        "for train_ix, test_ix in kfold.split(X,y):\n",
        "    X_train, y_train = X[train_ix], y[train_ix]\n",
        "    X_test, y_test = X[test_ix], y[test_ix]\n",
        "    #print(pd.DataFrame(y_test).value_counts())\n",
        "    #scaling\n",
        "    scaler = StandardScaler().fit(X_train)\n",
        "    X_train = scaler.transform(X_train)\n",
        "    X_test = scaler.transform(X_test)\n",
        "    acc, prec, rec, spec, f1 = dt(X_train, y_train, X_test, y_test)\n",
        "    print('iteration ', i)\n",
        "    print('accuracy ', acc, 'precision ', prec, 'recall ', rec, 'specificity ', spec, 'f1 ', f1)\n",
        "    accs.append(acc)\n",
        "    precs.append(prec)\n",
        "    recs.append(rec)\n",
        "    specs.append(spec)\n",
        "    f1s.append(f1)\n",
        "    print('-----------')\n",
        "    i = i + 1\n",
        "\n",
        "print('------')\n",
        "print('Final Accuracy: %.3f' % (np.mean(accs)))\n",
        "print('Final Precision: %.3f' % (np.mean(precs)))\n",
        "print('Final Specificity: %.3f' % (np.mean(specs)))\n",
        "print('Final Recall: %.3f' % (np.mean(recs)))\n",
        "print('Final F1: %.3f' % (np.mean(f1s)))"
      ],
      "execution_count": 27,
      "outputs": [
        {
          "output_type": "stream",
          "name": "stdout",
          "text": [
            "iteration  1\n",
            "accuracy  0.9119373776908023 precision  0.16666666666666666 recall  0.2 specificity  0.948559670781893 f1  0.1818181818181818\n",
            "-----------\n",
            "iteration  2\n",
            "accuracy  0.913894324853229 precision  0.08695652173913043 recall  0.08 specificity  0.9567901234567902 f1  0.08333333333333333\n",
            "-----------\n",
            "iteration  3\n",
            "accuracy  0.9060665362035225 precision  0.17142857142857143 recall  0.24 specificity  0.9403292181069959 f1  0.19999999999999998\n",
            "-----------\n",
            "iteration  4\n",
            "accuracy  0.9099804305283757 precision  0.13793103448275862 recall  0.16 specificity  0.948559670781893 f1  0.14814814814814817\n",
            "-----------\n",
            "iteration  5\n",
            "accuracy  0.8962818003913894 precision  0.13157894736842105 recall  0.2 specificity  0.9320987654320988 f1  0.1587301587301587\n",
            "-----------\n",
            "iteration  6\n",
            "accuracy  0.9041095890410958 precision  0.14705882352941177 recall  0.2 specificity  0.9403292181069959 f1  0.16949152542372883\n",
            "-----------\n",
            "iteration  7\n",
            "accuracy  0.913894324853229 precision  0.1935483870967742 recall  0.24 specificity  0.948559670781893 f1  0.21428571428571427\n",
            "-----------\n",
            "iteration  8\n",
            "accuracy  0.9275929549902152 precision  0.16666666666666666 recall  0.12 specificity  0.9691358024691358 f1  0.13953488372093023\n",
            "-----------\n",
            "iteration  9\n",
            "accuracy  0.9197651663405088 precision  0.13636363636363635 recall  0.12 specificity  0.9609053497942387 f1  0.1276595744680851\n",
            "-----------\n",
            "iteration  10\n",
            "accuracy  0.9217221135029354 precision  0.16666666666666666 recall  0.16666666666666666 specificity  0.9589322381930184 f1  0.16666666666666666\n",
            "-----------\n",
            "------\n",
            "Final Accuracy: 0.913\n",
            "Final Precision: 0.150\n",
            "Final Specificity: 0.950\n",
            "Final Recall: 0.173\n",
            "Final F1: 0.159\n"
          ]
        }
      ]
    },
    {
      "cell_type": "markdown",
      "metadata": {
        "id": "zuZ2K4kg0Rfs"
      },
      "source": [
        "## grid search"
      ]
    },
    {
      "cell_type": "code",
      "metadata": {
        "colab": {
          "base_uri": "https://localhost:8080/",
          "height": 463
        },
        "id": "CfeeK1A80TdA",
        "outputId": "743572f1-0a1b-4016-aed5-0c6fa5fd0088"
      },
      "source": [
        "from sklearn.model_selection import train_test_split\n",
        "from sklearn.model_selection import GridSearchCV\n",
        "from sklearn.preprocessing import LabelEncoder\n",
        "from sklearn.tree import DecisionTreeClassifier\n",
        "from sklearn.metrics import accuracy_score\n",
        "from sklearn.metrics import precision_score\n",
        "from sklearn.metrics import recall_score\n",
        "from imblearn.metrics import sensitivity_specificity_support\n",
        "from sklearn.metrics import plot_confusion_matrix\n",
        "from sklearn.metrics import confusion_matrix\n",
        "import matplotlib.pyplot as plt\n",
        "\n",
        "X_train, X_test, y_train, y_test = train_test_split(X, y, test_size=0.3, random_state=42, shuffle=True)\n",
        "#scaling\n",
        "scaler = StandardScaler().fit(X_train)\n",
        "X_train = scaler.transform(X_train)\n",
        "X_test = scaler.transform(X_test)\n",
        "\n",
        "dt=DecisionTreeClassifier(random_state=42)\n",
        "\n",
        "grid_values = {'max_depth': [3, 15, 20, 40, 60],'criterion':['gini', 'entropy' ]}\n",
        "grid_dt = GridSearchCV(dt, param_grid = grid_values,scoring = 'recall', cv=10)\n",
        "grid_dt.fit(X_train, y_train)\n",
        "#Predict values based on new parameters\n",
        "y_pred = grid_dt.predict(X_test)\n",
        "#best hyperparameters\n",
        "print(grid_dt.best_params_)\n",
        "print(grid_dt.best_estimator_)\n",
        "\n",
        "print('Accuracy : ',accuracy_score(y_test, y_pred))    \n",
        "print('Precision : ',precision_score(y_test, y_pred, average='binary'))  \n",
        "print('Recall/ sensitivity : ',recall_score(y_test, y_pred, average='binary')) \n",
        "print('F1 : ',f1_score(y_test, y_pred, average='binary')) \n",
        "sens, spec, sup = sensitivity_specificity_support(y_test,y_pred, average='binary')\n",
        "print('Specificity : ',spec)\n",
        "print('Confusion matrix :')\n",
        "print(confusion_matrix(y_test, y_pred))\n",
        "print('Plot Confusion Matrix :')\n",
        "plot_confusion_matrix(grid_dt, X_test, y_test, cmap=plt.cm.Blues)  \n",
        "plt.show()\n"
      ],
      "execution_count": 29,
      "outputs": [
        {
          "output_type": "stream",
          "name": "stdout",
          "text": [
            "{'criterion': 'gini', 'max_depth': 15}\n",
            "DecisionTreeClassifier(max_depth=15, random_state=42)\n",
            "Accuracy :  0.9125896934116112\n",
            "Precision :  0.2289156626506024\n",
            "Recall/ sensitivity :  0.21348314606741572\n",
            "F1 :  0.2209302325581395\n",
            "Specificity :  0.9556786703601108\n",
            "Confusion matrix :\n",
            "[[1380   64]\n",
            " [  70   19]]\n",
            "Plot Confusion Matrix :\n"
          ]
        },
        {
          "output_type": "display_data",
          "data": {
            "image/png": "[encoded data removed]",
            "text/plain": [
              "<Figure size 432x288 with 2 Axes>"
            ]
          },
          "metadata": {
            "needs_background": "light"
          }
        }
      ]
    },
    {
      "cell_type": "markdown",
      "metadata": {
        "id": "nW9xhODt5GOq"
      },
      "source": [
        "## randomized search"
      ]
    },
    {
      "cell_type": "code",
      "metadata": {
        "colab": {
          "base_uri": "https://localhost:8080/",
          "height": 463
        },
        "id": "rzKdiUTb5quX",
        "outputId": "f68e766a-ff10-4305-b62c-ab1594e59ecd"
      },
      "source": [
        "from sklearn.model_selection import train_test_split\n",
        "from sklearn.model_selection import RandomizedSearchCV\n",
        "from sklearn.preprocessing import LabelEncoder\n",
        "from sklearn.tree import DecisionTreeClassifier\n",
        "from sklearn.metrics import accuracy_score\n",
        "from sklearn.metrics import precision_score\n",
        "from sklearn.metrics import recall_score\n",
        "from imblearn.metrics import sensitivity_specificity_support\n",
        "from sklearn.metrics import plot_confusion_matrix\n",
        "from sklearn.metrics import confusion_matrix\n",
        "import matplotlib.pyplot as plt\n",
        "import random\n",
        "\n",
        "X_train, X_test, y_train, y_test = train_test_split(X, y, test_size=0.3, random_state=42, shuffle=True)\n",
        "#scaling\n",
        "scaler = StandardScaler().fit(X_train)\n",
        "X_train = scaler.transform(X_train)\n",
        "X_test = scaler.transform(X_test)\n",
        "\n",
        "dt=DecisionTreeClassifier(random_state=42)\n",
        "rand_values = {'max_depth': [3, 15, 20, 40, 60],'criterion':['gini', 'entropy' ]}\n",
        "rand_dt = RandomizedSearchCV(dt, param_distributions = rand_values,scoring = 'recall', cv=10, n_iter=3, random_state=42)\n",
        "rand_dt.fit(X_train, y_train)\n",
        "\n",
        "#Predict values based on new parameters\n",
        "y_pred = rand_dt.predict(X_test)\n",
        "#best hyperparameters\n",
        "print(rand_dt.best_params_)\n",
        "print(rand_dt.best_estimator_)\n",
        "print('Accuracy : ',accuracy_score(y_test, y_pred))    \n",
        "print('Precision : ',precision_score(y_test, y_pred, average='binary'))  \n",
        "print('Recall/ sensitivity : ',recall_score(y_test, y_pred, average='binary')) \n",
        "print('F1 : ',f1_score(y_test, y_pred, average='binary')) \n",
        "sens, spec, sp = sensitivity_specificity_support(y_test,y_pred, average='binary')\n",
        "print('Specificity : ',spec)\n",
        "print('Confusion matrix :')\n",
        "print(confusion_matrix(y_test, y_pred))\n",
        "print('Plot Confusion Matrix :')\n",
        "plot_confusion_matrix(rand_dt, X_test, y_test, cmap=plt.cm.Blues)  \n",
        "plt.show()"
      ],
      "execution_count": 30,
      "outputs": [
        {
          "output_type": "stream",
          "name": "stdout",
          "text": [
            "{'max_depth': 15, 'criterion': 'gini'}\n",
            "DecisionTreeClassifier(max_depth=15, random_state=42)\n",
            "Accuracy :  0.9125896934116112\n",
            "Precision :  0.2289156626506024\n",
            "Recall/ sensitivity :  0.21348314606741572\n",
            "F1 :  0.2209302325581395\n",
            "Specificity :  0.9556786703601108\n",
            "Confusion matrix :\n",
            "[[1380   64]\n",
            " [  70   19]]\n",
            "Plot Confusion Matrix :\n"
          ]
        },
        {
          "output_type": "display_data",
          "data": {
            "image/png": "[encoded data removed]",
            "text/plain": [
              "<Figure size 432x288 with 2 Axes>"
            ]
          },
          "metadata": {
            "needs_background": "light"
          }
        }
      ]
    },
    {
      "cell_type": "markdown",
      "metadata": {
        "id": "I2TbwXV2932K"
      },
      "source": [
        "## model selection"
      ]
    },
    {
      "cell_type": "code",
      "metadata": {
        "colab": {
          "base_uri": "https://localhost:8080/"
        },
        "id": "ncj7ZoAS9_49",
        "outputId": "e00d9c2e-d880-4c84-b7ab-e38166d35195"
      },
      "source": [
        "from sklearn.preprocessing import LabelEncoder\n",
        "from sklearn.tree import DecisionTreeClassifier\n",
        "from sklearn.ensemble import RandomForestClassifier\n",
        "from sklearn.neighbors import KNeighborsClassifier\n",
        "from sklearn.linear_model import LogisticRegression\n",
        "from sklearn.svm import SVC\n",
        "from sklearn.ensemble import BaggingClassifier\n",
        "\n",
        "from sklearn.model_selection import cross_validate\n",
        "from sklearn.model_selection import StratifiedKFold\n",
        "from sklearn.model_selection import KFold\n",
        "from sklearn.pipeline import Pipeline, make_pipeline\n",
        "#from imblearn.pipeline import Pipeline \n",
        "from sklearn.preprocessing import StandardScaler\n",
        "\n",
        "import warnings\n",
        "warnings.filterwarnings('ignore')\n",
        "\n",
        "X_train, X_test, y_train, y_test = train_test_split(X, y, test_size=0.3, random_state=42)\n",
        "'''\n",
        "#contoh penggunaan Pipeline\n",
        "pipeline = Pipeline(steps=[('preprocessor', preprocessor), ('scaling', StandardScaler()), \n",
        "                           ('feature_selection', SelectFromModel(ExtraTreesClassifier(random_state=2), prefit=False)),\n",
        "                           ('balance', SMOTE()),\n",
        "                           ('classifier', DecisionTreeClassifier(random_state=42, max_depth=10))])\n",
        "'''\n",
        "# Construct some pipelines\n",
        "pipe_dt = Pipeline(steps=[('scaling',StandardScaler()), \n",
        "                          ('classifier', DecisionTreeClassifier\n",
        "                           (random_state=42, max_depth=15, criterion='gini'))])\n",
        "pipe_knn = Pipeline(steps=[('scaling',StandardScaler()), \n",
        "                          ('classifier', KNeighborsClassifier())])\n",
        "pipe_lr = Pipeline(steps=[('scaling',StandardScaler()), \n",
        "                          ('classifier', LogisticRegression(random_state=42))])\n",
        "pipe_rf = Pipeline(steps=[('scaling',StandardScaler()), \n",
        "                          ('classifier', RandomForestClassifier(random_state=42))])\n",
        "pipe_svc = Pipeline(steps=[('scaling',StandardScaler()), \n",
        "                          ('classifier', SVC(random_state=42))])\n",
        "pipe_bag = Pipeline(steps=[('scaling',StandardScaler()), \n",
        "                          ('classifier', BaggingClassifier(random_state=42))])\n",
        "\n",
        "\n",
        "pipes = [pipe_dt, pipe_knn, pipe_lr, pipe_rf, pipe_svc, pipe_bag]\n",
        "names_pipes = ['DT','KNN','LR','RF','SVM','Bagging']\n",
        "\n",
        "for i in range(len(pipes)):\n",
        "  print(names_pipes[i])\n",
        "  pipes[i].fit(X_train, y_train)\n",
        "  y_pred = pipes[i].predict(X_test)\n",
        "  print('Accuracy : ',accuracy_score(y_test, y_pred))    \n",
        "  print('Precision : ',precision_score(y_test, y_pred, average='binary'))  \n",
        "  print('Recall/ sensitivity : ',recall_score(y_test, y_pred, average='binary')) \n",
        "  print('F1 : ',f1_score(y_test, y_pred, average='binary')) \n",
        "  sens, spec, sup = sensitivity_specificity_support(y_test,y_pred, average='binary')\n",
        "  print('Specificity : ',spec)\n",
        "  print('--------')\n",
        "  print('')\n",
        "\n"
      ],
      "execution_count": 31,
      "outputs": [
        {
          "output_type": "stream",
          "name": "stdout",
          "text": [
            "DT\n",
            "Accuracy :  0.9125896934116112\n",
            "Precision :  0.2289156626506024\n",
            "Recall/ sensitivity :  0.21348314606741572\n",
            "F1 :  0.2209302325581395\n",
            "Specificity :  0.9556786703601108\n",
            "--------\n",
            "\n",
            "KNN\n",
            "Accuracy :  0.9406392694063926\n",
            "Precision :  0.25\n",
            "Recall/ sensitivity :  0.011235955056179775\n",
            "F1 :  0.02150537634408602\n",
            "Specificity :  0.9979224376731302\n",
            "--------\n",
            "\n",
            "LR\n",
            "Accuracy :  0.9419439008480104\n",
            "Precision :  0.0\n",
            "Recall/ sensitivity :  0.0\n",
            "F1 :  0.0\n",
            "Specificity :  1.0\n",
            "--------\n",
            "\n",
            "RF\n",
            "Accuracy :  0.9406392694063926\n",
            "Precision :  0.0\n",
            "Recall/ sensitivity :  0.0\n",
            "F1 :  0.0\n",
            "Specificity :  0.9986149584487535\n",
            "--------\n",
            "\n",
            "SVM\n",
            "Accuracy :  0.9419439008480104\n",
            "Precision :  0.0\n",
            "Recall/ sensitivity :  0.0\n",
            "F1 :  0.0\n",
            "Specificity :  1.0\n",
            "--------\n",
            "\n",
            "Bagging\n",
            "Accuracy :  0.9334637964774951\n",
            "Precision :  0.11764705882352941\n",
            "Recall/ sensitivity :  0.02247191011235955\n",
            "F1 :  0.03773584905660377\n",
            "Specificity :  0.989612188365651\n",
            "--------\n",
            "\n"
          ]
        }
      ]
    },
    {
      "cell_type": "markdown",
      "metadata": {
        "id": "CK9N_v2EbvXi"
      },
      "source": [
        "# Confusion matrix (contoh sederhana)"
      ]
    },
    {
      "cell_type": "markdown",
      "metadata": {
        "id": "Sru9jPXyVxfl"
      },
      "source": [
        "### balanced dataset"
      ]
    },
    {
      "cell_type": "code",
      "metadata": {
        "colab": {
          "base_uri": "https://localhost:8080/"
        },
        "id": "Te48-IRRb1BP",
        "outputId": "22a2ab89-0cd7-4ee6-b5ca-dca8976ae168"
      },
      "source": [
        "y_true = [0,0,0,0,0,1,1,1,1,1]\n",
        "y_pred = [0,0,0,0,0,1,1,1,1,1]\n",
        "\n",
        "y_test = y_true\n",
        "print('Accuracy : ',accuracy_score(y_test, y_pred))    \n",
        "print('Precision : ',precision_score(y_test, y_pred, average='binary'))  \n",
        "print('Recall/ sensitivity : ',recall_score(y_test, y_pred, average='binary')) \n",
        "print('F1 : ',f1_score(y_test, y_pred, average='binary')) \n",
        "sens, spec, sup = sensitivity_specificity_support(y_test,y_pred, average='binary')\n",
        "print('Specificity : ',spec)\n",
        "print('Confusion matrix :')\n",
        "print(confusion_matrix(y_test, y_pred))\n"
      ],
      "execution_count": 32,
      "outputs": [
        {
          "output_type": "stream",
          "name": "stdout",
          "text": [
            "Accuracy :  1.0\n",
            "Precision :  1.0\n",
            "Recall/ sensitivity :  1.0\n",
            "F1 :  1.0\n",
            "Specificity :  1.0\n",
            "Confusion matrix :\n",
            "[[5 0]\n",
            " [0 5]]\n"
          ]
        }
      ]
    },
    {
      "cell_type": "code",
      "metadata": {
        "colab": {
          "base_uri": "https://localhost:8080/"
        },
        "id": "zvJu7fcPdSYa",
        "outputId": "3f3ecf88-6664-44a2-d095-fc85ad99cb52"
      },
      "source": [
        "y_true = [0,0,0,0,0,1,1,1,1,1]\n",
        "y_pred = [1,0,0,0,0,0,0,0,1,1]\n",
        "\n",
        "y_test = y_true\n",
        "print('Accuracy : ',accuracy_score(y_test, y_pred))    \n",
        "print('Precision : ',precision_score(y_test, y_pred, average='binary'))  \n",
        "print('Recall/ sensitivity : ',recall_score(y_test, y_pred, average='binary')) \n",
        "print('F1 : ',f1_score(y_test, y_pred, average='binary')) \n",
        "sens, spec, sup = sensitivity_specificity_support(y_test,y_pred, average='binary')\n",
        "print('Specificity : ',spec)\n",
        "print('Confusion matrix :')\n",
        "print(confusion_matrix(y_test, y_pred))"
      ],
      "execution_count": 33,
      "outputs": [
        {
          "output_type": "stream",
          "name": "stdout",
          "text": [
            "Accuracy :  0.6\n",
            "Precision :  0.6666666666666666\n",
            "Recall/ sensitivity :  0.4\n",
            "F1 :  0.5\n",
            "Specificity :  0.8\n",
            "Confusion matrix :\n",
            "[[4 1]\n",
            " [3 2]]\n"
          ]
        }
      ]
    },
    {
      "cell_type": "markdown",
      "metadata": {
        "id": "TrQLv1Dc7_Q7"
      },
      "source": [
        "### imbalanced dataset"
      ]
    },
    {
      "cell_type": "code",
      "metadata": {
        "colab": {
          "base_uri": "https://localhost:8080/"
        },
        "id": "YaYF_D5d5YW_",
        "outputId": "c1f2b574-f7e0-47cd-ef68-8f19d7f65230"
      },
      "source": [
        "\n",
        "\n",
        "y_true = [0,0,0,0,0,0,0,0,1,1]\n",
        "y_pred = [1,1,0,0,0,0,0,0,0,1]\n",
        "\n",
        "y_test = y_true\n",
        "print('Accuracy : ',accuracy_score(y_test, y_pred))    \n",
        "print('Precision : ',precision_score(y_test, y_pred, average='binary'))  \n",
        "print('Recall/ sensitivity : ',recall_score(y_test, y_pred, average='binary')) \n",
        "print('F1 : ',f1_score(y_test, y_pred, average='binary')) \n",
        "sens, spec, sup = sensitivity_specificity_support(y_test,y_pred, average='binary')\n",
        "print('Specificity : ',spec)\n",
        "print('Confusion matrix :')\n",
        "print(confusion_matrix(y_test, y_pred))"
      ],
      "execution_count": 34,
      "outputs": [
        {
          "output_type": "stream",
          "name": "stdout",
          "text": [
            "Accuracy :  0.7\n",
            "Precision :  0.3333333333333333\n",
            "Recall/ sensitivity :  0.5\n",
            "F1 :  0.4\n",
            "Specificity :  0.75\n",
            "Confusion matrix :\n",
            "[[6 2]\n",
            " [1 1]]\n"
          ]
        }
      ]
    },
    {
      "cell_type": "markdown",
      "metadata": {
        "id": "DdotSLtXL7uR"
      },
      "source": [
        "# Evaluation metrics for regression"
      ]
    },
    {
      "cell_type": "code",
      "metadata": {
        "colab": {
          "base_uri": "https://localhost:8080/",
          "height": 222
        },
        "id": "CkWYYYgfL-R-",
        "outputId": "b48b8883-35a8-4443-a4db-ff8db53b6097"
      },
      "source": [
        "import pandas as pd\n",
        "df = pd.read_csv('https://raw.githubusercontent.com/ganjar87/data_science_practice/main/kc_house_data.csv', delimiter=',')\n",
        "df.head()"
      ],
      "execution_count": 35,
      "outputs": [
        {
          "output_type": "execute_result",
          "data": {
            "text/html": [
              "<div>\n",
              "<style scoped>\n",
              "    .dataframe tbody tr th:only-of-type {\n",
              "        vertical-align: middle;\n",
              "    }\n",
              "\n",
              "    .dataframe tbody tr th {\n",
              "        vertical-align: top;\n",
              "    }\n",
              "\n",
              "    .dataframe thead th {\n",
              "        text-align: right;\n",
              "    }\n",
              "</style>\n",
              "<table border=\"1\" class=\"dataframe\">\n",
              "  <thead>\n",
              "    <tr style=\"text-align: right;\">\n",
              "      <th></th>\n",
              "      <th>id</th>\n",
              "      <th>date</th>\n",
              "      <th>price</th>\n",
              "      <th>bedrooms</th>\n",
              "      <th>bathrooms</th>\n",
              "      <th>sqft_living</th>\n",
              "      <th>sqft_lot</th>\n",
              "      <th>floors</th>\n",
              "      <th>waterfront</th>\n",
              "      <th>view</th>\n",
              "      <th>condition</th>\n",
              "      <th>grade</th>\n",
              "      <th>sqft_above</th>\n",
              "      <th>sqft_basement</th>\n",
              "      <th>yr_built</th>\n",
              "      <th>yr_renovated</th>\n",
              "      <th>zipcode</th>\n",
              "      <th>lat</th>\n",
              "      <th>long</th>\n",
              "      <th>sqft_living15</th>\n",
              "      <th>sqft_lot15</th>\n",
              "    </tr>\n",
              "  </thead>\n",
              "  <tbody>\n",
              "    <tr>\n",
              "      <th>0</th>\n",
              "      <td>7129300520</td>\n",
              "      <td>20141013T000000</td>\n",
              "      <td>221900.0</td>\n",
              "      <td>3</td>\n",
              "      <td>1.00</td>\n",
              "      <td>1180</td>\n",
              "      <td>5650</td>\n",
              "      <td>1.0</td>\n",
              "      <td>0</td>\n",
              "      <td>0</td>\n",
              "      <td>3</td>\n",
              "      <td>7</td>\n",
              "      <td>1180</td>\n",
              "      <td>0</td>\n",
              "      <td>1955</td>\n",
              "      <td>0</td>\n",
              "      <td>98178</td>\n",
              "      <td>47.5112</td>\n",
              "      <td>-122.257</td>\n",
              "      <td>1340</td>\n",
              "      <td>5650</td>\n",
              "    </tr>\n",
              "    <tr>\n",
              "      <th>1</th>\n",
              "      <td>6414100192</td>\n",
              "      <td>20141209T000000</td>\n",
              "      <td>538000.0</td>\n",
              "      <td>3</td>\n",
              "      <td>2.25</td>\n",
              "      <td>2570</td>\n",
              "      <td>7242</td>\n",
              "      <td>2.0</td>\n",
              "      <td>0</td>\n",
              "      <td>0</td>\n",
              "      <td>3</td>\n",
              "      <td>7</td>\n",
              "      <td>2170</td>\n",
              "      <td>400</td>\n",
              "      <td>1951</td>\n",
              "      <td>1991</td>\n",
              "      <td>98125</td>\n",
              "      <td>47.7210</td>\n",
              "      <td>-122.319</td>\n",
              "      <td>1690</td>\n",
              "      <td>7639</td>\n",
              "    </tr>\n",
              "    <tr>\n",
              "      <th>2</th>\n",
              "      <td>5631500400</td>\n",
              "      <td>20150225T000000</td>\n",
              "      <td>180000.0</td>\n",
              "      <td>2</td>\n",
              "      <td>1.00</td>\n",
              "      <td>770</td>\n",
              "      <td>10000</td>\n",
              "      <td>1.0</td>\n",
              "      <td>0</td>\n",
              "      <td>0</td>\n",
              "      <td>3</td>\n",
              "      <td>6</td>\n",
              "      <td>770</td>\n",
              "      <td>0</td>\n",
              "      <td>1933</td>\n",
              "      <td>0</td>\n",
              "      <td>98028</td>\n",
              "      <td>47.7379</td>\n",
              "      <td>-122.233</td>\n",
              "      <td>2720</td>\n",
              "      <td>8062</td>\n",
              "    </tr>\n",
              "    <tr>\n",
              "      <th>3</th>\n",
              "      <td>2487200875</td>\n",
              "      <td>20141209T000000</td>\n",
              "      <td>604000.0</td>\n",
              "      <td>4</td>\n",
              "      <td>3.00</td>\n",
              "      <td>1960</td>\n",
              "      <td>5000</td>\n",
              "      <td>1.0</td>\n",
              "      <td>0</td>\n",
              "      <td>0</td>\n",
              "      <td>5</td>\n",
              "      <td>7</td>\n",
              "      <td>1050</td>\n",
              "      <td>910</td>\n",
              "      <td>1965</td>\n",
              "      <td>0</td>\n",
              "      <td>98136</td>\n",
              "      <td>47.5208</td>\n",
              "      <td>-122.393</td>\n",
              "      <td>1360</td>\n",
              "      <td>5000</td>\n",
              "    </tr>\n",
              "    <tr>\n",
              "      <th>4</th>\n",
              "      <td>1954400510</td>\n",
              "      <td>20150218T000000</td>\n",
              "      <td>510000.0</td>\n",
              "      <td>3</td>\n",
              "      <td>2.00</td>\n",
              "      <td>1680</td>\n",
              "      <td>8080</td>\n",
              "      <td>1.0</td>\n",
              "      <td>0</td>\n",
              "      <td>0</td>\n",
              "      <td>3</td>\n",
              "      <td>8</td>\n",
              "      <td>1680</td>\n",
              "      <td>0</td>\n",
              "      <td>1987</td>\n",
              "      <td>0</td>\n",
              "      <td>98074</td>\n",
              "      <td>47.6168</td>\n",
              "      <td>-122.045</td>\n",
              "      <td>1800</td>\n",
              "      <td>7503</td>\n",
              "    </tr>\n",
              "  </tbody>\n",
              "</table>\n",
              "</div>"
            ],
            "text/plain": [
              "           id             date     price  ...     long  sqft_living15  sqft_lot15\n",
              "0  7129300520  20141013T000000  221900.0  ... -122.257           1340        5650\n",
              "1  6414100192  20141209T000000  538000.0  ... -122.319           1690        7639\n",
              "2  5631500400  20150225T000000  180000.0  ... -122.233           2720        8062\n",
              "3  2487200875  20141209T000000  604000.0  ... -122.393           1360        5000\n",
              "4  1954400510  20150218T000000  510000.0  ... -122.045           1800        7503\n",
              "\n",
              "[5 rows x 21 columns]"
            ]
          },
          "metadata": {},
          "execution_count": 35
        }
      ]
    },
    {
      "cell_type": "code",
      "metadata": {
        "colab": {
          "base_uri": "https://localhost:8080/"
        },
        "id": "pJc1-kL_MEn8",
        "outputId": "bb1a157e-97e4-4548-f6b7-5a934ceeb4cc"
      },
      "source": [
        "from sklearn.ensemble import RandomForestRegressor\n",
        "from sklearn.model_selection import train_test_split\n",
        "\n",
        "df_X = df.drop(['id', 'date','price'], axis=1)\n",
        "df_y = df['price']\n",
        "\n",
        "X = df_X.astype(float).values\n",
        "y = df_y.astype(float).values\n",
        "\n",
        "X_train, X_test, y_train, y_test = train_test_split(X, y, test_size=0.3, random_state=42)\n",
        "rf = RandomForestRegressor()\n",
        "rf.fit(X_train, y_train)\n",
        "\n",
        "print('coef of determination training ', rf.score(X_train, y_train))\n",
        "print('coef of determination testing ', rf.score(X_test, y_test))\n",
        "\n",
        "print('prediction')\n",
        "y_pred = rf.predict(X_test)\n",
        "print(y_pred[:10])\n",
        "print('real value')\n",
        "print(y_test[0:10])"
      ],
      "execution_count": 36,
      "outputs": [
        {
          "output_type": "stream",
          "name": "stdout",
          "text": [
            "coef of determination training  0.9817419148462312\n",
            "coef of determination testing  0.8578742588446702\n",
            "prediction\n",
            "[ 385061.5   875414.01 1132820.9  2158089.    713092.3   246939.99\n",
            "  846984.49  628537.49  398242.35  536181.4 ]\n",
            "real value\n",
            "[ 365000.  865000. 1038000. 1490000.  711000.  211000.  790000.  680000.\n",
            "  384500.  605000.]\n"
          ]
        }
      ]
    },
    {
      "cell_type": "code",
      "metadata": {
        "colab": {
          "base_uri": "https://localhost:8080/"
        },
        "id": "O7p_cWuRMJU_",
        "outputId": "e1c0ed75-5f96-474d-de75-28472269ea99"
      },
      "source": [
        "from sklearn.metrics import mean_squared_error\n",
        "from sklearn.metrics import r2_score\n",
        "from sklearn.metrics import mean_absolute_error\n",
        "from scipy import stats\n",
        "import numpy as np\n",
        "mse = mean_squared_error(y_test,y_pred)\n",
        "rmse = np.sqrt(mse)\n",
        "r2 = r2_score(y_test,y_pred)\n",
        "mae = mean_absolute_error(y_test, y_pred)\n",
        "#pakai scipy, cara 1\n",
        "pearson_r, pval = stats.pearsonr(y_test, y_pred)\n",
        "#pakai numpy, cara 2\n",
        "r = np.corrcoef(y_test, y_pred)\n",
        "print('rmse : ', rmse)\n",
        "print('r2 :', r2)\n",
        "print('mae : ', mae)\n",
        "print('pearson r : ', pearson_r)\n",
        "print('pearson r : ', r[0,1])"
      ],
      "execution_count": 37,
      "outputs": [
        {
          "output_type": "stream",
          "name": "stdout",
          "text": [
            "rmse :  143241.75474042213\n",
            "r2 : 0.8578742588446702\n",
            "mae :  73646.09158989895\n",
            "pearson r :  0.926220748999251\n",
            "pearson r :  0.9262207489992507\n"
          ]
        }
      ]
    },
    {
      "cell_type": "code",
      "metadata": {
        "colab": {
          "base_uri": "https://localhost:8080/",
          "height": 298
        },
        "id": "ChTi8rU2MJ1U",
        "outputId": "5a9f701b-6bb3-4803-dd7b-f8afe2ef33c3"
      },
      "source": [
        "import seaborn as sns\n",
        "import matplotlib.pyplot as plt\n",
        "\n",
        "\n",
        "data1 = pd.DataFrame(y_test[:30], columns = ['real'])\n",
        "data2 = pd.DataFrame(y_pred[:30], columns = ['predicted'])\n",
        "df_new = pd.concat([data1, data2], axis=1) \n",
        "df_new.plot(kind='bar') \n",
        "\n",
        "plt.title(\"RF regression\")\n",
        "plt.xlabel('Sample i') \n",
        "plt.ylabel('House Price') \n",
        "\n",
        "plt.show()"
      ],
      "execution_count": 38,
      "outputs": [
        {
          "output_type": "display_data",
          "data": {
            "image/png": "[encoded data removed]",
            "text/plain": [
              "<Figure size 432x288 with 1 Axes>"
            ]
          },
          "metadata": {
            "needs_background": "light"
          }
        }
      ]
    }
  ]
}