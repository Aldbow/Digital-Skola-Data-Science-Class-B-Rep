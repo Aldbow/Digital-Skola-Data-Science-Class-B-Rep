{
  "nbformat": 4,
  "nbformat_minor": 0,
  "metadata": {
    "colab": {
      "name": "Session46.ipynb",
      "provenance": [],
      "collapsed_sections": [],
      "toc_visible": true
    },
    "kernelspec": {
      "name": "python3",
      "display_name": "Python 3"
    },
    "language_info": {
      "name": "python"
    }
  },
  "cells": [
    {
      "cell_type": "markdown",
      "metadata": {
        "id": "2UAm9RtOaZdZ"
      },
      "source": [
        "#Session 46. Advanced Data Preprocessing for Text"
      ]
    },
    {
      "cell_type": "markdown",
      "metadata": {
        "id": "umBVpowHabMp"
      },
      "source": [
        "# Read dataset"
      ]
    },
    {
      "cell_type": "code",
      "metadata": {
        "colab": {
          "base_uri": "https://localhost:8080/",
          "height": 206
        },
        "id": "LGgIGIIea0mL",
        "outputId": "56be2ad4-1e47-4270-ea7f-84b9a81a75b7"
      },
      "source": [
        "import pandas as pd\n",
        "df = pd.read_csv('https://raw.githubusercontent.com/ganjar87/data_science_practice/main/IMDB_small_size.csv', delimiter=',')\n",
        "df.head()"
      ],
      "execution_count": 28,
      "outputs": [
        {
          "output_type": "execute_result",
          "data": {
            "text/html": [
              "<div>\n",
              "<style scoped>\n",
              "    .dataframe tbody tr th:only-of-type {\n",
              "        vertical-align: middle;\n",
              "    }\n",
              "\n",
              "    .dataframe tbody tr th {\n",
              "        vertical-align: top;\n",
              "    }\n",
              "\n",
              "    .dataframe thead th {\n",
              "        text-align: right;\n",
              "    }\n",
              "</style>\n",
              "<table border=\"1\" class=\"dataframe\">\n",
              "  <thead>\n",
              "    <tr style=\"text-align: right;\">\n",
              "      <th></th>\n",
              "      <th>review</th>\n",
              "      <th>sentiment</th>\n",
              "    </tr>\n",
              "  </thead>\n",
              "  <tbody>\n",
              "    <tr>\n",
              "      <th>0</th>\n",
              "      <td>One of the other reviewers has mentioned that ...</td>\n",
              "      <td>positive</td>\n",
              "    </tr>\n",
              "    <tr>\n",
              "      <th>1</th>\n",
              "      <td>A wonderful little production. &lt;br /&gt;&lt;br /&gt;The...</td>\n",
              "      <td>positive</td>\n",
              "    </tr>\n",
              "    <tr>\n",
              "      <th>2</th>\n",
              "      <td>I thought this was a wonderful way to spend ti...</td>\n",
              "      <td>positive</td>\n",
              "    </tr>\n",
              "    <tr>\n",
              "      <th>3</th>\n",
              "      <td>Basically there's a family where a little boy ...</td>\n",
              "      <td>negative</td>\n",
              "    </tr>\n",
              "    <tr>\n",
              "      <th>4</th>\n",
              "      <td>Petter Mattei's \"Love in the Time of Money\" is...</td>\n",
              "      <td>positive</td>\n",
              "    </tr>\n",
              "  </tbody>\n",
              "</table>\n",
              "</div>"
            ],
            "text/plain": [
              "                                              review sentiment\n",
              "0  One of the other reviewers has mentioned that ...  positive\n",
              "1  A wonderful little production. <br /><br />The...  positive\n",
              "2  I thought this was a wonderful way to spend ti...  positive\n",
              "3  Basically there's a family where a little boy ...  negative\n",
              "4  Petter Mattei's \"Love in the Time of Money\" is...  positive"
            ]
          },
          "metadata": {},
          "execution_count": 28
        }
      ]
    },
    {
      "cell_type": "code",
      "metadata": {
        "colab": {
          "base_uri": "https://localhost:8080/"
        },
        "id": "sMvPTy3lw5O2",
        "outputId": "b288b929-0355-431e-f2b2-6db92cb4337d"
      },
      "source": [
        "df.shape"
      ],
      "execution_count": 29,
      "outputs": [
        {
          "output_type": "execute_result",
          "data": {
            "text/plain": [
              "(10000, 2)"
            ]
          },
          "metadata": {},
          "execution_count": 29
        }
      ]
    },
    {
      "cell_type": "code",
      "metadata": {
        "id": "XYOjg_4yu4xU"
      },
      "source": [
        "df_resize = df[:10]"
      ],
      "execution_count": 38,
      "outputs": []
    },
    {
      "cell_type": "code",
      "metadata": {
        "colab": {
          "base_uri": "https://localhost:8080/"
        },
        "id": "d7nYBEX7AnpN",
        "outputId": "9a719ded-9309-4e42-bfdc-0e6d2a7569c6"
      },
      "source": [
        "df.iloc[1]"
      ],
      "execution_count": 39,
      "outputs": [
        {
          "output_type": "execute_result",
          "data": {
            "text/plain": [
              "review       A wonderful little production. <br /><br />The...\n",
              "sentiment                                             positive\n",
              "Name: 1, dtype: object"
            ]
          },
          "metadata": {},
          "execution_count": 39
        }
      ]
    },
    {
      "cell_type": "markdown",
      "metadata": {
        "id": "aCdjQORBb9i0"
      },
      "source": [
        "## tokenization"
      ]
    },
    {
      "cell_type": "code",
      "metadata": {
        "id": "xQ6k8P_8KAjV",
        "colab": {
          "base_uri": "https://localhost:8080/"
        },
        "outputId": "e3826b90-d49d-49e5-d87b-68c553c8af99"
      },
      "source": [
        "import nltk\n",
        "nltk.download('punkt')\n",
        "from nltk.tokenize import word_tokenize\n",
        "\n",
        "\n",
        "df_text = df_resize['review'].astype(str)\n",
        "df_class = df_resize['sentiment']\n",
        "\n",
        "lines = df_text.values.tolist()\n",
        "\n",
        "list_tokens = list()\n",
        "for line in lines:\n",
        "  line = line.replace(\"<br />\",\"\")\n",
        "  \n",
        "  tokens = word_tokenize(line)\n",
        "  list_tokens.append(tokens)"
      ],
      "execution_count": 40,
      "outputs": [
        {
          "output_type": "stream",
          "name": "stdout",
          "text": [
            "[nltk_data] Downloading package punkt to /root/nltk_data...\n",
            "[nltk_data]   Package punkt is already up-to-date!\n"
          ]
        }
      ]
    },
    {
      "cell_type": "code",
      "metadata": {
        "colab": {
          "base_uri": "https://localhost:8080/"
        },
        "id": "1dLFGpaLBQNZ",
        "outputId": "b453878b-7002-4d8b-e294-e6ddceffc368"
      },
      "source": [
        "print(lines[0])\n",
        "print(list_tokens[0])"
      ],
      "execution_count": 41,
      "outputs": [
        {
          "output_type": "stream",
          "name": "stdout",
          "text": [
            "One of the other reviewers has mentioned that after watching just 1 Oz episode you'll be hooked. They are right, as this is exactly what happened with me.<br /><br />The first thing that struck me about Oz was its brutality and unflinching scenes of violence, which set in right from the word GO. Trust me, this is not a show for the faint hearted or timid. This show pulls no punches with regards to drugs, sex or violence. Its is hardcore, in the classic use of the word.<br /><br />It is called OZ as that is the nickname given to the Oswald Maximum Security State Penitentary. It focuses mainly on Emerald City, an experimental section of the prison where all the cells have glass fronts and face inwards, so privacy is not high on the agenda. Em City is home to many..Aryans, Muslims, gangstas, Latinos, Christians, Italians, Irish and more....so scuffles, death stares, dodgy dealings and shady agreements are never far away.<br /><br />I would say the main appeal of the show is due to the fact that it goes where other shows wouldn't dare. Forget pretty pictures painted for mainstream audiences, forget charm, forget romance...OZ doesn't mess around. The first episode I ever saw struck me as so nasty it was surreal, I couldn't say I was ready for it, but as I watched more, I developed a taste for Oz, and got accustomed to the high levels of graphic violence. Not just violence, but injustice (crooked guards who'll be sold out for a nickel, inmates who'll kill on order and get away with it, well mannered, middle class inmates being turned into prison bitches due to their lack of street skills or prison experience) Watching Oz, you may become comfortable with what is uncomfortable viewing....thats if you can get in touch with your darker side.\n",
            "['One', 'of', 'the', 'other', 'reviewers', 'has', 'mentioned', 'that', 'after', 'watching', 'just', '1', 'Oz', 'episode', 'you', \"'ll\", 'be', 'hooked', '.', 'They', 'are', 'right', ',', 'as', 'this', 'is', 'exactly', 'what', 'happened', 'with', 'me.The', 'first', 'thing', 'that', 'struck', 'me', 'about', 'Oz', 'was', 'its', 'brutality', 'and', 'unflinching', 'scenes', 'of', 'violence', ',', 'which', 'set', 'in', 'right', 'from', 'the', 'word', 'GO', '.', 'Trust', 'me', ',', 'this', 'is', 'not', 'a', 'show', 'for', 'the', 'faint', 'hearted', 'or', 'timid', '.', 'This', 'show', 'pulls', 'no', 'punches', 'with', 'regards', 'to', 'drugs', ',', 'sex', 'or', 'violence', '.', 'Its', 'is', 'hardcore', ',', 'in', 'the', 'classic', 'use', 'of', 'the', 'word.It', 'is', 'called', 'OZ', 'as', 'that', 'is', 'the', 'nickname', 'given', 'to', 'the', 'Oswald', 'Maximum', 'Security', 'State', 'Penitentary', '.', 'It', 'focuses', 'mainly', 'on', 'Emerald', 'City', ',', 'an', 'experimental', 'section', 'of', 'the', 'prison', 'where', 'all', 'the', 'cells', 'have', 'glass', 'fronts', 'and', 'face', 'inwards', ',', 'so', 'privacy', 'is', 'not', 'high', 'on', 'the', 'agenda', '.', 'Em', 'City', 'is', 'home', 'to', 'many..Aryans', ',', 'Muslims', ',', 'gangstas', ',', 'Latinos', ',', 'Christians', ',', 'Italians', ',', 'Irish', 'and', 'more', '...', '.so', 'scuffles', ',', 'death', 'stares', ',', 'dodgy', 'dealings', 'and', 'shady', 'agreements', 'are', 'never', 'far', 'away.I', 'would', 'say', 'the', 'main', 'appeal', 'of', 'the', 'show', 'is', 'due', 'to', 'the', 'fact', 'that', 'it', 'goes', 'where', 'other', 'shows', 'would', \"n't\", 'dare', '.', 'Forget', 'pretty', 'pictures', 'painted', 'for', 'mainstream', 'audiences', ',', 'forget', 'charm', ',', 'forget', 'romance', '...', 'OZ', 'does', \"n't\", 'mess', 'around', '.', 'The', 'first', 'episode', 'I', 'ever', 'saw', 'struck', 'me', 'as', 'so', 'nasty', 'it', 'was', 'surreal', ',', 'I', 'could', \"n't\", 'say', 'I', 'was', 'ready', 'for', 'it', ',', 'but', 'as', 'I', 'watched', 'more', ',', 'I', 'developed', 'a', 'taste', 'for', 'Oz', ',', 'and', 'got', 'accustomed', 'to', 'the', 'high', 'levels', 'of', 'graphic', 'violence', '.', 'Not', 'just', 'violence', ',', 'but', 'injustice', '(', 'crooked', 'guards', 'who', \"'ll\", 'be', 'sold', 'out', 'for', 'a', 'nickel', ',', 'inmates', 'who', \"'ll\", 'kill', 'on', 'order', 'and', 'get', 'away', 'with', 'it', ',', 'well', 'mannered', ',', 'middle', 'class', 'inmates', 'being', 'turned', 'into', 'prison', 'bitches', 'due', 'to', 'their', 'lack', 'of', 'street', 'skills', 'or', 'prison', 'experience', ')', 'Watching', 'Oz', ',', 'you', 'may', 'become', 'comfortable', 'with', 'what', 'is', 'uncomfortable', 'viewing', '...', '.thats', 'if', 'you', 'can', 'get', 'in', 'touch', 'with', 'your', 'darker', 'side', '.']\n"
          ]
        }
      ]
    },
    {
      "cell_type": "markdown",
      "metadata": {
        "id": "6WVN-XPuKJ7d"
      },
      "source": [
        "## tokenization, removing stopwords, stemming"
      ]
    },
    {
      "cell_type": "code",
      "metadata": {
        "colab": {
          "base_uri": "https://localhost:8080/"
        },
        "id": "neHimsugbI64",
        "outputId": "c4a8ddbe-c9ad-4099-ab9b-c5c21374084f"
      },
      "source": [
        "import nltk\n",
        "nltk.download('punkt')\n",
        "from nltk.tokenize import word_tokenize\n",
        "nltk.download('stopwords')\n",
        "from nltk.corpus import stopwords\n",
        "from nltk.stem import PorterStemmer\n",
        "\n",
        "stopwords.words('english')\n",
        "df_text = df_resize['review'].astype(str)\n",
        "df_class = df_resize['sentiment']\n",
        "lines = df_text.values.tolist()\n",
        "list_tokens = list()\n",
        "porter = PorterStemmer()\n",
        "\n",
        "for line in lines:\n",
        "  line = line.replace(\"<br />\",\"\")\n",
        "  tokens = word_tokenize(line)\n",
        "  \n",
        "  \n",
        "  # merubah tokens menjadi huruf kecil semua\n",
        "  tokens = [w.lower() for w in tokens]\n",
        "  tokens = [word for word in tokens if word.isalpha()]\n",
        "  # menghapus stop words\n",
        "  tokens = [word for word in tokens if not word in stopwords.words()]\n",
        "  # melakukan stemming\n",
        "  tokens = [porter.stem(word) for word in tokens]\n",
        "  list_tokens.append(tokens)\n"
      ],
      "execution_count": 44,
      "outputs": [
        {
          "output_type": "stream",
          "name": "stdout",
          "text": [
            "[nltk_data] Downloading package punkt to /root/nltk_data...\n",
            "[nltk_data]   Package punkt is already up-to-date!\n",
            "[nltk_data] Downloading package stopwords to /root/nltk_data...\n",
            "[nltk_data]   Package stopwords is already up-to-date!\n"
          ]
        }
      ]
    },
    {
      "cell_type": "code",
      "metadata": {
        "colab": {
          "base_uri": "https://localhost:8080/"
        },
        "id": "WWs22Of0chuV",
        "outputId": "dc838564-c28b-4cd8-93b5-c6fa3dcd8d7f"
      },
      "source": [
        "print(lines[0])\n",
        "print(list_tokens[0])\n"
      ],
      "execution_count": 46,
      "outputs": [
        {
          "output_type": "stream",
          "name": "stdout",
          "text": [
            "One of the other reviewers has mentioned that after watching just 1 Oz episode you'll be hooked. They are right, as this is exactly what happened with me.<br /><br />The first thing that struck me about Oz was its brutality and unflinching scenes of violence, which set in right from the word GO. Trust me, this is not a show for the faint hearted or timid. This show pulls no punches with regards to drugs, sex or violence. Its is hardcore, in the classic use of the word.<br /><br />It is called OZ as that is the nickname given to the Oswald Maximum Security State Penitentary. It focuses mainly on Emerald City, an experimental section of the prison where all the cells have glass fronts and face inwards, so privacy is not high on the agenda. Em City is home to many..Aryans, Muslims, gangstas, Latinos, Christians, Italians, Irish and more....so scuffles, death stares, dodgy dealings and shady agreements are never far away.<br /><br />I would say the main appeal of the show is due to the fact that it goes where other shows wouldn't dare. Forget pretty pictures painted for mainstream audiences, forget charm, forget romance...OZ doesn't mess around. The first episode I ever saw struck me as so nasty it was surreal, I couldn't say I was ready for it, but as I watched more, I developed a taste for Oz, and got accustomed to the high levels of graphic violence. Not just violence, but injustice (crooked guards who'll be sold out for a nickel, inmates who'll kill on order and get away with it, well mannered, middle class inmates being turned into prison bitches due to their lack of street skills or prison experience) Watching Oz, you may become comfortable with what is uncomfortable viewing....thats if you can get in touch with your darker side.\n",
            "['review', 'mention', 'watch', 'oz', 'episod', 'hook', 'right', 'exactli', 'happen', 'first', 'thing', 'struck', 'oz', 'brutal', 'unflinch', 'scene', 'violenc', 'set', 'right', 'word', 'go', 'trust', 'show', 'faint', 'heart', 'timid', 'show', 'pull', 'punch', 'regard', 'drug', 'sex', 'violenc', 'hardcor', 'classic', 'use', 'call', 'oz', 'nicknam', 'given', 'oswald', 'maximum', 'secur', 'state', 'penitentari', 'focus', 'mainli', 'emerald', 'citi', 'experiment', 'section', 'prison', 'cell', 'glass', 'front', 'inward', 'privaci', 'high', 'agenda', 'citi', 'home', 'muslim', 'gangsta', 'latino', 'christian', 'italian', 'irish', 'scuffl', 'death', 'stare', 'dodgi', 'deal', 'shadi', 'agreement', 'never', 'far', 'would', 'say', 'main', 'appeal', 'show', 'due', 'fact', 'goe', 'show', 'would', 'dare', 'forget', 'pretti', 'pictur', 'paint', 'mainstream', 'audienc', 'forget', 'charm', 'forget', 'romanc', 'oz', 'mess', 'around', 'first', 'episod', 'ever', 'saw', 'struck', 'nasti', 'surreal', 'could', 'say', 'readi', 'watch', 'develop', 'tast', 'oz', 'got', 'accustom', 'high', 'level', 'graphic', 'violenc', 'violenc', 'injustic', 'crook', 'guard', 'sold', 'nickel', 'inmat', 'kill', 'order', 'get', 'away', 'well', 'manner', 'middl', 'class', 'inmat', 'turn', 'prison', 'bitch', 'due', 'lack', 'street', 'skill', 'prison', 'experi', 'watch', 'oz', 'may', 'becom', 'comfort', 'uncomfort', 'view', 'get', 'touch', 'darker', 'side']\n"
          ]
        }
      ]
    },
    {
      "cell_type": "markdown",
      "metadata": {
        "id": "JXbVTskBhkCA"
      },
      "source": [
        "## removing stopword + lemmatization"
      ]
    },
    {
      "cell_type": "code",
      "metadata": {
        "colab": {
          "base_uri": "https://localhost:8080/"
        },
        "id": "s5HBdKTVhjsm",
        "outputId": "3b6b5cc6-770a-47dd-fee6-a8c1f1ad4852"
      },
      "source": [
        "import nltk\n",
        "nltk.download('punkt')\n",
        "from nltk.tokenize import word_tokenize\n",
        "nltk.download('stopwords')\n",
        "from nltk.corpus import stopwords\n",
        "#from nltk.stem import PorterStemmer\n",
        "\n",
        "nltk.download('wordnet')\n",
        "from nltk.stem import WordNetLemmatizer\n",
        "\n",
        "df_resize = df[:10]\n",
        "df_text = df_resize['review'].astype(str)\n",
        "df_class = df_resize['sentiment']\n",
        "lines = df_text.values.tolist()\n",
        "list_tokens = list()\n",
        "#porter = PorterStemmer()\n",
        "lemmatizer = WordNetLemmatizer()\n",
        "\n",
        "for line in lines:\n",
        "  line = line.replace(\"<br />\",\"\")\n",
        "  tokens = word_tokenize(line)\n",
        "  \n",
        "  \n",
        "  # merubah tokens menjadi huruf kecil semua\n",
        "  tokens = [w.lower() for w in tokens]\n",
        "  tokens = [word for word in tokens if word.isalpha()]\n",
        "  # menghapus stop words\n",
        "  tokens = [word for word in tokens if not word in stopwords.words()]\n",
        "  # melakukan stemming\n",
        "  #tokens = [porter.stem(word) for word in tokens]\n",
        "  # melakukan lemmatization\n",
        "  tokens = [lemmatizer.lemmatize(word) for word in tokens]\n",
        "  list_tokens.append(tokens)"
      ],
      "execution_count": 47,
      "outputs": [
        {
          "output_type": "stream",
          "name": "stdout",
          "text": [
            "[nltk_data] Downloading package punkt to /root/nltk_data...\n",
            "[nltk_data]   Package punkt is already up-to-date!\n",
            "[nltk_data] Downloading package stopwords to /root/nltk_data...\n",
            "[nltk_data]   Package stopwords is already up-to-date!\n",
            "[nltk_data] Downloading package wordnet to /root/nltk_data...\n",
            "[nltk_data]   Package wordnet is already up-to-date!\n"
          ]
        }
      ]
    },
    {
      "cell_type": "code",
      "metadata": {
        "colab": {
          "base_uri": "https://localhost:8080/"
        },
        "id": "hX4e2ed2iIQX",
        "outputId": "069c4459-42ce-40f6-817a-25240e5a7370"
      },
      "source": [
        "print(lines[0])\n",
        "print(list_tokens[0])"
      ],
      "execution_count": 49,
      "outputs": [
        {
          "output_type": "stream",
          "name": "stdout",
          "text": [
            "One of the other reviewers has mentioned that after watching just 1 Oz episode you'll be hooked. They are right, as this is exactly what happened with me.<br /><br />The first thing that struck me about Oz was its brutality and unflinching scenes of violence, which set in right from the word GO. Trust me, this is not a show for the faint hearted or timid. This show pulls no punches with regards to drugs, sex or violence. Its is hardcore, in the classic use of the word.<br /><br />It is called OZ as that is the nickname given to the Oswald Maximum Security State Penitentary. It focuses mainly on Emerald City, an experimental section of the prison where all the cells have glass fronts and face inwards, so privacy is not high on the agenda. Em City is home to many..Aryans, Muslims, gangstas, Latinos, Christians, Italians, Irish and more....so scuffles, death stares, dodgy dealings and shady agreements are never far away.<br /><br />I would say the main appeal of the show is due to the fact that it goes where other shows wouldn't dare. Forget pretty pictures painted for mainstream audiences, forget charm, forget romance...OZ doesn't mess around. The first episode I ever saw struck me as so nasty it was surreal, I couldn't say I was ready for it, but as I watched more, I developed a taste for Oz, and got accustomed to the high levels of graphic violence. Not just violence, but injustice (crooked guards who'll be sold out for a nickel, inmates who'll kill on order and get away with it, well mannered, middle class inmates being turned into prison bitches due to their lack of street skills or prison experience) Watching Oz, you may become comfortable with what is uncomfortable viewing....thats if you can get in touch with your darker side.\n",
            "['reviewer', 'mentioned', 'watching', 'oz', 'episode', 'hooked', 'right', 'exactly', 'happened', 'first', 'thing', 'struck', 'oz', 'brutality', 'unflinching', 'scene', 'violence', 'set', 'right', 'word', 'go', 'trust', 'show', 'faint', 'hearted', 'timid', 'show', 'pull', 'punch', 'regard', 'drug', 'sex', 'violence', 'hardcore', 'classic', 'use', 'called', 'oz', 'nickname', 'given', 'oswald', 'maximum', 'security', 'state', 'penitentary', 'focus', 'mainly', 'emerald', 'city', 'experimental', 'section', 'prison', 'cell', 'glass', 'front', 'inwards', 'privacy', 'high', 'agenda', 'city', 'home', 'muslim', 'gangsta', 'latino', 'christian', 'italian', 'irish', 'scuffle', 'death', 'stare', 'dodgy', 'dealing', 'shady', 'agreement', 'never', 'far', 'would', 'say', 'main', 'appeal', 'show', 'due', 'fact', 'go', 'show', 'would', 'dare', 'forget', 'pretty', 'picture', 'painted', 'mainstream', 'audience', 'forget', 'charm', 'forget', 'romance', 'oz', 'mess', 'around', 'first', 'episode', 'ever', 'saw', 'struck', 'nasty', 'surreal', 'could', 'say', 'ready', 'watched', 'developed', 'taste', 'oz', 'got', 'accustomed', 'high', 'level', 'graphic', 'violence', 'violence', 'injustice', 'crooked', 'guard', 'sold', 'nickel', 'inmate', 'kill', 'order', 'get', 'away', 'well', 'mannered', 'middle', 'class', 'inmate', 'turned', 'prison', 'bitch', 'due', 'lack', 'street', 'skill', 'prison', 'experience', 'watching', 'oz', 'may', 'become', 'comfortable', 'uncomfortable', 'viewing', 'get', 'touch', 'darker', 'side']\n"
          ]
        }
      ]
    },
    {
      "cell_type": "markdown",
      "metadata": {
        "id": "AckoE_K6tsKe"
      },
      "source": [
        "# Feature Extraction"
      ]
    },
    {
      "cell_type": "markdown",
      "metadata": {
        "id": "oTtc3ymUiYbI"
      },
      "source": [
        "## bag of words"
      ]
    },
    {
      "cell_type": "markdown",
      "metadata": {
        "id": "m1oqea1jwgYj"
      },
      "source": [
        "### contoh sederhana"
      ]
    },
    {
      "cell_type": "code",
      "metadata": {
        "colab": {
          "base_uri": "https://localhost:8080/"
        },
        "id": "CyfedjaxKf9j",
        "outputId": "e8a43648-e93f-4a31-f23b-95b855139881"
      },
      "source": [
        "from sklearn.feature_extraction.text import CountVectorizer\n",
        "doc1 = \"saya belajar pemrograman dan belajar melukis\"\n",
        "doc2 = \"saya membantu adik saya belajar menulis\"\n",
        "doc3 = \"ibu belajar menjahit\"\n",
        "\n",
        "new_doc = [doc1, doc2, doc3]\n",
        "\n",
        "vectorizer = CountVectorizer()\n",
        "X_input = vectorizer.fit_transform(new_doc)\n",
        "\n",
        "print(vectorizer.get_feature_names())\n",
        "print(X_input.toarray())\n",
        "\n",
        "print(vectorizer.vocabulary_)"
      ],
      "execution_count": 50,
      "outputs": [
        {
          "output_type": "stream",
          "name": "stdout",
          "text": [
            "['adik', 'belajar', 'dan', 'ibu', 'melukis', 'membantu', 'menjahit', 'menulis', 'pemrograman', 'saya']\n",
            "[[0 2 1 0 1 0 0 0 1 1]\n",
            " [1 1 0 0 0 1 0 1 0 2]\n",
            " [0 1 0 1 0 0 1 0 0 0]]\n",
            "{'saya': 9, 'belajar': 1, 'pemrograman': 8, 'dan': 2, 'melukis': 4, 'membantu': 5, 'adik': 0, 'menulis': 7, 'ibu': 3, 'menjahit': 6}\n"
          ]
        },
        {
          "output_type": "stream",
          "name": "stderr",
          "text": [
            "/usr/local/lib/python3.7/dist-packages/sklearn/utils/deprecation.py:87: FutureWarning: Function get_feature_names is deprecated; get_feature_names is deprecated in 1.0 and will be removed in 1.2. Please use get_feature_names_out instead.\n",
            "  warnings.warn(msg, category=FutureWarning)\n"
          ]
        }
      ]
    },
    {
      "cell_type": "code",
      "metadata": {
        "colab": {
          "base_uri": "https://localhost:8080/"
        },
        "id": "N_7JF963vYHH",
        "outputId": "878e9e42-a81e-493c-e965-5d57a09e5bd7"
      },
      "source": [
        "new_doc"
      ],
      "execution_count": 51,
      "outputs": [
        {
          "output_type": "execute_result",
          "data": {
            "text/plain": [
              "['saya belajar pemrograman dan belajar melukis',\n",
              " 'saya membantu adik saya belajar menulis',\n",
              " 'ibu belajar menjahit']"
            ]
          },
          "metadata": {},
          "execution_count": 51
        }
      ]
    },
    {
      "cell_type": "markdown",
      "metadata": {
        "id": "lRBt2od3wjR_"
      },
      "source": [
        "### review dataset"
      ]
    },
    {
      "cell_type": "code",
      "metadata": {
        "id": "seHeer8xkSk8"
      },
      "source": [
        "from sklearn.feature_extraction.text import CountVectorizer\n",
        "\n",
        "new_doc = list()\n",
        "for doc in list_tokens:\n",
        "  row = ' '.join(doc)\n",
        "  new_doc.append(row)\n",
        "\n",
        "vectorizer = CountVectorizer(max_features=1000)\n",
        "X_input = vectorizer.fit_transform(new_doc)"
      ],
      "execution_count": 52,
      "outputs": []
    },
    {
      "cell_type": "code",
      "metadata": {
        "colab": {
          "base_uri": "https://localhost:8080/"
        },
        "id": "WhIBvRBzKpzn",
        "outputId": "2c84c138-d1e4-4193-a240-a1e120c19e3a"
      },
      "source": [
        "new_doc"
      ],
      "execution_count": 53,
      "outputs": [
        {
          "output_type": "execute_result",
          "data": {
            "text/plain": [
              "['reviewer mentioned watching oz episode hooked right exactly happened first thing struck oz brutality unflinching scene violence set right word go trust show faint hearted timid show pull punch regard drug sex violence hardcore classic use called oz nickname given oswald maximum security state penitentary focus mainly emerald city experimental section prison cell glass front inwards privacy high agenda city home muslim gangsta latino christian italian irish scuffle death stare dodgy dealing shady agreement never far would say main appeal show due fact go show would dare forget pretty picture painted mainstream audience forget charm forget romance oz mess around first episode ever saw struck nasty surreal could say ready watched developed taste oz got accustomed high level graphic violence violence injustice crooked guard sold nickel inmate kill order get away well mannered middle class inmate turned prison bitch due lack street skill prison experience watching oz may become comfortable uncomfortable viewing get touch darker side',\n",
              " 'wonderful little production filming technique fashion give comforting sometimes discomforting sense realism entire piece actor extremely well michael sheen got polari voice pat truly see seamless editing guided reference williams diary entry well worth watching terrificly written performed piece masterful production great master comedy life realism really come home little thing fantasy guard rather use traditional technique remains solid disappears play knowledge sens particularly scene concerning orton halliwell set particularly flat halliwell mural decorating every surface terribly well done',\n",
              " 'thought wonderful way spend time hot summer weekend sitting air conditioned theater watching comedy plot simplistic dialogue witty character likable even well bread suspected serial killer may disappointed realize match point risk addiction thought proof woody still fully control style many u grown laughed woody comedy year dare say decade never impressed scarlet johanson managed tone sexy image jumped right average spirited young may crown jewel career wittier devil wear prada interesting superman great comedy go see friend',\n",
              " 'basically family little boy jake think zombie closet parent fighting movie slower soap opera suddenly jake decides become rambo kill first going make film must decide thriller drama drama movie watchable parent divorcing arguing like real life jake closet totally ruin film expected see boogeyman similar movie instead watched drama meaningless thriller well playing parent descent dialog shot jake ignore',\n",
              " 'petter mattei love time money visually stunning film watch mattei offer u vivid portrait human relation movie seems telling u money power success people different situation encounter variation arthur schnitzler play theme director transfer action present time new york different character meet connect connected way another next person seems know previous point contact stylishly film sophisticated luxurious look taken see people live world live thing get soul picture different stage loneliness inhabits big city exactly best place human relation find sincere fulfillment discerns case people acting good mattei direction steve buscemi rosario dawson carol kane michael imperioli adrian grenier rest talented cast make character wish mattei good luck await anxiously next work',\n",
              " 'probably favorite movie story selflessness sacrifice dedication noble cause preachy boring never get old despite seen time last year paul lukas performance brings tear eye bette davis truly sympathetic role delight kid grandma say like midget child make fun watch mother slow awakening happening world roof believable startling dozen thumb movie',\n",
              " 'sure would like see resurrection dated seahunt series tech today would bring back kid excitement grew black white tv seahunt gunsmoke hero every vote comeback new need change pace tv would work world water way thank outlet like view many viewpoint tv many way believe got wan nice read plus point rhyme would line would let submit leave doubt quit must go let',\n",
              " 'show amazing fresh innovative idea first aired first year brilliant thing dropped show really funny anymore continued decline complete waste time truly disgraceful far show fallen writing painfully bad performance almost bad mildly entertaining respite show probably would still air find hard believe creator original cast chose band hack followed recognize brilliance see fit replace mediocrity felt must give star respect original cast made show huge success show awful believe still air',\n",
              " 'encouraged positive comment film looking forward watching film bad mistake seen film truly worst awful almost every way editing pacing storyline soundtrack film song lame country tune played le four time film look cheap nasty boring extreme rarely happy see credit film thing prevents giving harvey keitel far best performance least seems making bit effort keitel obsessive',\n",
              " 'like original gut wrenching laughter like movie young old love movie hell even mom liked camp']"
            ]
          },
          "metadata": {},
          "execution_count": 53
        }
      ]
    },
    {
      "cell_type": "code",
      "metadata": {
        "colab": {
          "base_uri": "https://localhost:8080/"
        },
        "id": "z5YV_GNtloNJ",
        "outputId": "bc07f3aa-c69a-47cd-977a-e10d408b1f9c"
      },
      "source": [
        "print(vectorizer.get_feature_names())\n",
        "print(X_input.toarray())\n",
        "print(vectorizer.vocabulary_)\n",
        "print(X_input.shape)\n"
      ],
      "execution_count": 54,
      "outputs": [
        {
          "output_type": "stream",
          "name": "stdout",
          "text": [
            "['accustomed', 'acting', 'action', 'actor', 'addiction', 'adrian', 'agenda', 'agreement', 'air', 'aired', 'almost', 'amazing', 'another', 'anxiously', 'anymore', 'appeal', 'arguing', 'around', 'arthur', 'audience', 'average', 'await', 'awakening', 'away', 'awful', 'back', 'bad', 'band', 'basically', 'become', 'believable', 'believe', 'best', 'bette', 'big', 'bit', 'bitch', 'black', 'boogeyman', 'boring', 'boy', 'bread', 'brilliance', 'brilliant', 'bring', 'brings', 'brutality', 'buscemi', 'called', 'camp', 'career', 'carol', 'case', 'cast', 'cause', 'cell', 'change', 'character', 'charm', 'cheap', 'child', 'chose', 'christian', 'city', 'class', 'classic', 'closet', 'come', 'comeback', 'comedy', 'comfortable', 'comforting', 'comment', 'complete', 'concerning', 'conditioned', 'connect', 'connected', 'contact', 'continued', 'control', 'could', 'country', 'creator', 'credit', 'crooked', 'crown', 'dare', 'darker', 'dated', 'davis', 'dawson', 'dealing', 'death', 'decade', 'decide', 'decides', 'decline', 'decorating', 'dedication', 'delight', 'descent', 'despite', 'developed', 'devil', 'dialog', 'dialogue', 'diary', 'different', 'direction', 'director', 'disappears', 'disappointed', 'discerns', 'discomforting', 'disgraceful', 'divorcing', 'dodgy', 'done', 'doubt', 'dozen', 'drama', 'dropped', 'drug', 'due', 'editing', 'effort', 'emerald', 'encounter', 'encouraged', 'entertaining', 'entire', 'entry', 'episode', 'even', 'ever', 'every', 'exactly', 'excitement', 'expected', 'experience', 'experimental', 'extreme', 'extremely', 'eye', 'fact', 'faint', 'fallen', 'family', 'fantasy', 'far', 'fashion', 'favorite', 'felt', 'fighting', 'film', 'filming', 'find', 'first', 'fit', 'flat', 'focus', 'followed', 'forget', 'forward', 'four', 'fresh', 'friend', 'front', 'fulfillment', 'fully', 'fun', 'funny', 'gangsta', 'get', 'give', 'given', 'giving', 'glass', 'go', 'going', 'good', 'got', 'grandma', 'graphic', 'great', 'grenier', 'grew', 'grown', 'guard', 'guided', 'gunsmoke', 'gut', 'hack', 'halliwell', 'happened', 'happening', 'happy', 'hard', 'hardcore', 'harvey', 'hearted', 'hell', 'hero', 'high', 'home', 'hooked', 'hot', 'huge', 'human', 'idea', 'ignore', 'image', 'imperioli', 'impressed', 'inhabits', 'injustice', 'inmate', 'innovative', 'instead', 'interesting', 'inwards', 'irish', 'italian', 'jake', 'jewel', 'johanson', 'jumped', 'kane', 'keitel', 'kid', 'kill', 'killer', 'know', 'knowledge', 'lack', 'lame', 'last', 'latino', 'laughed', 'laughter', 'le', 'least', 'leave', 'let', 'level', 'life', 'likable', 'like', 'liked', 'line', 'little', 'live', 'loneliness', 'look', 'looking', 'love', 'luck', 'lukas', 'luxurious', 'made', 'main', 'mainly', 'mainstream', 'make', 'making', 'managed', 'mannered', 'many', 'master', 'masterful', 'match', 'mattei', 'maximum', 'may', 'meaningless', 'mediocrity', 'meet', 'mentioned', 'mess', 'michael', 'middle', 'midget', 'mildly', 'mistake', 'mom', 'money', 'mother', 'movie', 'mural', 'muslim', 'must', 'nasty', 'need', 'never', 'new', 'next', 'nice', 'nickel', 'nickname', 'noble', 'obsessive', 'offer', 'old', 'opera', 'order', 'original', 'orton', 'oswald', 'outlet', 'oz', 'pace', 'pacing', 'painfully', 'painted', 'parent', 'particularly', 'pat', 'paul', 'penitentary', 'people', 'performance', 'performed', 'person', 'petter', 'picture', 'piece', 'place', 'play', 'played', 'playing', 'plot', 'plus', 'point', 'polari', 'portrait', 'positive', 'power', 'prada', 'preachy', 'present', 'pretty', 'prevents', 'previous', 'prison', 'privacy', 'probably', 'production', 'proof', 'pull', 'punch', 'quit', 'rambo', 'rarely', 'rather', 'read', 'ready', 'real', 'realism', 'realize', 'really', 'recognize', 'reference', 'regard', 'relation', 'remains', 'replace', 'respect', 'respite', 'rest', 'resurrection', 'reviewer', 'rhyme', 'right', 'risk', 'role', 'romance', 'roof', 'rosario', 'ruin', 'sacrifice', 'saw', 'say', 'scarlet', 'scene', 'schnitzler', 'scuffle', 'seahunt', 'seamless', 'section', 'security', 'see', 'seems', 'seen', 'selflessness', 'sens', 'sense', 'serial', 'series', 'set', 'sex', 'sexy', 'shady', 'sheen', 'shot', 'show', 'side', 'similar', 'simplistic', 'sincere', 'sitting', 'situation', 'skill', 'slow', 'slower', 'soap', 'sold', 'solid', 'sometimes', 'song', 'sophisticated', 'soul', 'soundtrack', 'spend', 'spirited', 'stage', 'star', 'stare', 'startling', 'state', 'steve', 'still', 'story', 'storyline', 'street', 'struck', 'stunning', 'style', 'stylishly', 'submit', 'success', 'suddenly', 'summer', 'superman', 'sure', 'surface', 'surreal', 'suspected', 'sympathetic', 'taken', 'talented', 'taste', 'tear', 'tech', 'technique', 'telling', 'terribly', 'terrificly', 'thank', 'theater', 'theme', 'thing', 'think', 'thought', 'thriller', 'thumb', 'time', 'timid', 'today', 'tone', 'totally', 'touch', 'traditional', 'transfer', 'truly', 'trust', 'tune', 'turned', 'tv', 'uncomfortable', 'unflinching', 'use', 'variation', 'view', 'viewing', 'viewpoint', 'violence', 'visually', 'vivid', 'voice', 'vote', 'wan', 'waste', 'watch', 'watchable', 'watched', 'watching', 'water', 'way', 'wear', 'weekend', 'well', 'white', 'williams', 'wish', 'wittier', 'witty', 'wonderful', 'woody', 'word', 'work', 'world', 'worst', 'worth', 'would', 'wrenching', 'writing', 'written', 'year', 'york', 'young', 'zombie']\n",
            "[[1 0 0 ... 0 0 0]\n",
            " [0 0 0 ... 0 0 0]\n",
            " [0 0 0 ... 0 1 0]\n",
            " ...\n",
            " [0 0 0 ... 0 0 0]\n",
            " [0 0 0 ... 0 0 0]\n",
            " [0 0 0 ... 0 1 0]]\n",
            "{'reviewer': 371, 'mentioned': 278, 'watching': 496, 'oz': 310, 'episode': 133, 'hooked': 206, 'right': 373, 'exactly': 137, 'happened': 195, 'first': 158, 'thing': 461, 'struck': 435, 'brutality': 46, 'unflinching': 480, 'scene': 384, 'violence': 486, 'set': 399, 'word': 509, 'go': 179, 'trust': 475, 'show': 405, 'faint': 146, 'hearted': 201, 'timid': 467, 'pull': 349, 'punch': 350, 'regard': 363, 'drug': 123, 'sex': 400, 'hardcore': 199, 'classic': 65, 'use': 481, 'called': 48, 'nickname': 299, 'given': 176, 'oswald': 308, 'maximum': 273, 'security': 390, 'state': 429, 'penitentary': 319, 'focus': 161, 'mainly': 262, 'emerald': 127, 'city': 63, 'experimental': 141, 'section': 389, 'prison': 344, 'cell': 55, 'glass': 178, 'front': 168, 'inwards': 221, 'privacy': 345, 'high': 204, 'agenda': 6, 'home': 205, 'muslim': 290, 'gangsta': 173, 'latino': 238, 'christian': 62, 'italian': 223, 'irish': 222, 'scuffle': 386, 'death': 93, 'stare': 427, 'dodgy': 117, 'dealing': 92, 'shady': 402, 'agreement': 7, 'never': 294, 'far': 150, 'would': 514, 'say': 382, 'main': 261, 'appeal': 15, 'due': 124, 'fact': 145, 'dare': 87, 'forget': 163, 'pretty': 341, 'picture': 325, 'painted': 314, 'mainstream': 263, 'audience': 19, 'charm': 58, 'romance': 376, 'mess': 279, 'around': 17, 'ever': 135, 'saw': 381, 'nasty': 292, 'surreal': 446, 'could': 81, 'ready': 356, 'watched': 495, 'developed': 103, 'taste': 451, 'got': 182, 'accustomed': 0, 'level': 245, 'graphic': 184, 'injustice': 216, 'crooked': 85, 'guard': 189, 'sold': 416, 'nickel': 298, 'inmate': 217, 'kill': 231, 'order': 305, 'get': 174, 'away': 23, 'well': 501, 'mannered': 267, 'middle': 281, 'class': 64, 'turned': 477, 'bitch': 36, 'lack': 235, 'street': 434, 'skill': 412, 'experience': 140, 'may': 274, 'become': 29, 'comfortable': 70, 'uncomfortable': 479, 'viewing': 484, 'touch': 471, 'darker': 88, 'side': 406, 'wonderful': 507, 'little': 251, 'production': 347, 'filming': 156, 'technique': 454, 'fashion': 151, 'give': 175, 'comforting': 71, 'sometimes': 418, 'discomforting': 114, 'sense': 396, 'realism': 358, 'entire': 131, 'piece': 326, 'actor': 3, 'extremely': 143, 'michael': 280, 'sheen': 403, 'polari': 334, 'voice': 489, 'pat': 317, 'truly': 474, 'see': 391, 'seamless': 388, 'editing': 125, 'guided': 190, 'reference': 362, 'williams': 503, 'diary': 107, 'entry': 132, 'worth': 513, 'terrificly': 457, 'written': 517, 'performed': 322, 'masterful': 270, 'great': 185, 'master': 269, 'comedy': 69, 'life': 246, 'really': 360, 'come': 67, 'fantasy': 149, 'rather': 354, 'traditional': 472, 'remains': 365, 'solid': 417, 'disappears': 111, 'play': 328, 'knowledge': 234, 'sens': 395, 'particularly': 316, 'concerning': 74, 'orton': 307, 'halliwell': 194, 'flat': 160, 'mural': 289, 'decorating': 98, 'every': 136, 'surface': 445, 'terribly': 456, 'done': 118, 'thought': 463, 'way': 498, 'spend': 423, 'time': 466, 'hot': 207, 'summer': 442, 'weekend': 500, 'sitting': 410, 'air': 8, 'conditioned': 75, 'theater': 459, 'plot': 331, 'simplistic': 408, 'dialogue': 106, 'witty': 506, 'character': 57, 'likable': 247, 'even': 134, 'bread': 41, 'suspected': 447, 'serial': 397, 'killer': 232, 'disappointed': 112, 'realize': 359, 'match': 271, 'point': 333, 'risk': 374, 'addiction': 4, 'proof': 348, 'woody': 508, 'still': 431, 'fully': 170, 'control': 80, 'style': 437, 'many': 268, 'grown': 188, 'laughed': 239, 'year': 518, 'decade': 94, 'impressed': 214, 'scarlet': 383, 'johanson': 226, 'managed': 266, 'tone': 469, 'sexy': 401, 'image': 212, 'jumped': 227, 'average': 20, 'spirited': 424, 'young': 520, 'crown': 86, 'jewel': 225, 'career': 50, 'wittier': 505, 'devil': 104, 'wear': 499, 'prada': 338, 'interesting': 220, 'superman': 443, 'friend': 167, 'basically': 28, 'family': 148, 'boy': 40, 'jake': 224, 'think': 462, 'zombie': 521, 'closet': 66, 'parent': 315, 'fighting': 154, 'movie': 288, 'slower': 414, 'soap': 415, 'opera': 304, 'suddenly': 441, 'decides': 96, 'rambo': 352, 'going': 180, 'make': 264, 'film': 155, 'must': 291, 'decide': 95, 'thriller': 464, 'drama': 121, 'watchable': 494, 'divorcing': 116, 'arguing': 16, 'like': 248, 'real': 357, 'totally': 470, 'ruin': 379, 'expected': 139, 'boogeyman': 38, 'similar': 407, 'instead': 219, 'meaningless': 275, 'playing': 330, 'descent': 101, 'dialog': 105, 'shot': 404, 'ignore': 211, 'petter': 324, 'mattei': 272, 'love': 256, 'money': 286, 'visually': 487, 'stunning': 436, 'watch': 493, 'offer': 302, 'vivid': 488, 'portrait': 335, 'human': 209, 'relation': 364, 'seems': 392, 'telling': 455, 'power': 337, 'success': 440, 'people': 320, 'different': 108, 'situation': 411, 'encounter': 128, 'variation': 482, 'arthur': 18, 'schnitzler': 385, 'theme': 460, 'director': 110, 'transfer': 473, 'action': 2, 'present': 340, 'new': 295, 'york': 519, 'meet': 277, 'connect': 76, 'connected': 77, 'another': 12, 'next': 296, 'person': 323, 'know': 233, 'previous': 343, 'contact': 78, 'stylishly': 438, 'sophisticated': 420, 'luxurious': 259, 'look': 254, 'taken': 449, 'live': 252, 'world': 511, 'soul': 421, 'stage': 425, 'loneliness': 253, 'inhabits': 215, 'big': 34, 'best': 32, 'place': 327, 'find': 157, 'sincere': 409, 'fulfillment': 169, 'discerns': 113, 'case': 52, 'acting': 1, 'good': 181, 'direction': 109, 'steve': 430, 'buscemi': 47, 'rosario': 378, 'dawson': 91, 'carol': 51, 'kane': 228, 'imperioli': 213, 'adrian': 5, 'grenier': 186, 'rest': 369, 'talented': 450, 'cast': 53, 'wish': 504, 'luck': 257, 'await': 21, 'anxiously': 13, 'work': 510, 'probably': 346, 'favorite': 152, 'story': 432, 'selflessness': 394, 'sacrifice': 380, 'dedication': 99, 'noble': 300, 'cause': 54, 'preachy': 339, 'boring': 39, 'old': 303, 'despite': 102, 'seen': 393, 'last': 237, 'paul': 318, 'lukas': 258, 'performance': 321, 'brings': 45, 'tear': 452, 'eye': 144, 'bette': 33, 'davis': 90, 'sympathetic': 448, 'role': 375, 'delight': 100, 'kid': 230, 'grandma': 183, 'midget': 282, 'child': 60, 'fun': 171, 'mother': 287, 'slow': 413, 'awakening': 22, 'happening': 196, 'roof': 377, 'believable': 30, 'startling': 428, 'dozen': 120, 'thumb': 465, 'sure': 444, 'resurrection': 370, 'dated': 89, 'seahunt': 387, 'series': 398, 'tech': 453, 'today': 468, 'bring': 44, 'back': 25, 'excitement': 138, 'grew': 187, 'black': 37, 'white': 502, 'tv': 478, 'gunsmoke': 191, 'hero': 203, 'vote': 490, 'comeback': 68, 'need': 293, 'change': 56, 'pace': 311, 'water': 497, 'thank': 458, 'outlet': 309, 'view': 483, 'viewpoint': 485, 'believe': 31, 'wan': 491, 'nice': 297, 'read': 355, 'plus': 332, 'rhyme': 372, 'line': 250, 'let': 244, 'submit': 439, 'leave': 243, 'doubt': 119, 'quit': 351, 'amazing': 11, 'fresh': 166, 'innovative': 218, 'idea': 210, 'aired': 9, 'brilliant': 43, 'dropped': 122, 'funny': 172, 'anymore': 14, 'continued': 79, 'decline': 97, 'complete': 73, 'waste': 492, 'disgraceful': 115, 'fallen': 147, 'writing': 516, 'painfully': 313, 'bad': 26, 'almost': 10, 'mildly': 283, 'entertaining': 130, 'respite': 368, 'hard': 198, 'creator': 83, 'original': 306, 'chose': 61, 'band': 27, 'hack': 193, 'followed': 162, 'recognize': 361, 'brilliance': 42, 'fit': 159, 'replace': 366, 'mediocrity': 276, 'felt': 153, 'star': 426, 'respect': 367, 'made': 260, 'huge': 208, 'awful': 24, 'encouraged': 129, 'positive': 336, 'comment': 72, 'looking': 255, 'forward': 164, 'mistake': 284, 'worst': 512, 'pacing': 312, 'storyline': 433, 'soundtrack': 422, 'song': 419, 'lame': 236, 'country': 82, 'tune': 476, 'played': 329, 'le': 241, 'four': 165, 'cheap': 59, 'extreme': 142, 'rarely': 353, 'happy': 197, 'credit': 84, 'prevents': 342, 'giving': 177, 'harvey': 200, 'keitel': 229, 'least': 242, 'making': 265, 'bit': 35, 'effort': 126, 'obsessive': 301, 'gut': 192, 'wrenching': 515, 'laughter': 240, 'hell': 202, 'mom': 285, 'liked': 249, 'camp': 49}\n",
            "(10, 522)\n"
          ]
        },
        {
          "output_type": "stream",
          "name": "stderr",
          "text": [
            "/usr/local/lib/python3.7/dist-packages/sklearn/utils/deprecation.py:87: FutureWarning: Function get_feature_names is deprecated; get_feature_names is deprecated in 1.0 and will be removed in 1.2. Please use get_feature_names_out instead.\n",
            "  warnings.warn(msg, category=FutureWarning)\n"
          ]
        }
      ]
    },
    {
      "cell_type": "markdown",
      "metadata": {
        "id": "uBKhWY_DmknN"
      },
      "source": [
        "## TF-IDF"
      ]
    },
    {
      "cell_type": "markdown",
      "metadata": {
        "id": "kqz5VtJtwYTw"
      },
      "source": [
        "### contoh sederhana"
      ]
    },
    {
      "cell_type": "code",
      "metadata": {
        "colab": {
          "base_uri": "https://localhost:8080/"
        },
        "id": "ffqNkdYnKv9Q",
        "outputId": "953e2fd7-4ac4-43f1-ac5d-4315a380c5e7"
      },
      "source": [
        "from sklearn.feature_extraction.text import TfidfVectorizer\n",
        "doc1 = \"saya belajar pemrograman dan belajar melukis\"\n",
        "doc2 = \"saya membantu adik saya belajar menulis\"\n",
        "doc3 = \"ibu belajar menjahit\"\n",
        "new_doc = [doc1, doc2, doc3]\n",
        "\n",
        "tfidf_vectorizer = TfidfVectorizer(norm=None, smooth_idf=False)\n",
        "#ketika parameter smooth_idf=False, maka rumus idf menjadi idf(t) = log [ n / df(t) ] + 1\n",
        "#https://scikit-learn.org/stable/modules/generated/sklearn.feature_extraction.text.TfidfTransformer.html#sklearn.feature_extraction.text.TfidfTransformer\n",
        "X_input = tfidf_vectorizer.fit_transform(new_doc)\n",
        "\n",
        "print(tfidf_vectorizer.get_feature_names())\n",
        "print(X_input.toarray())\n",
        "print(tfidf_vectorizer.vocabulary_)"
      ],
      "execution_count": 55,
      "outputs": [
        {
          "output_type": "stream",
          "name": "stdout",
          "text": [
            "['adik', 'belajar', 'dan', 'ibu', 'melukis', 'membantu', 'menjahit', 'menulis', 'pemrograman', 'saya']\n",
            "[[0.         2.         2.09861229 0.         2.09861229 0.\n",
            "  0.         0.         2.09861229 1.40546511]\n",
            " [2.09861229 1.         0.         0.         0.         2.09861229\n",
            "  0.         2.09861229 0.         2.81093022]\n",
            " [0.         1.         0.         2.09861229 0.         0.\n",
            "  2.09861229 0.         0.         0.        ]]\n",
            "{'saya': 9, 'belajar': 1, 'pemrograman': 8, 'dan': 2, 'melukis': 4, 'membantu': 5, 'adik': 0, 'menulis': 7, 'ibu': 3, 'menjahit': 6}\n"
          ]
        },
        {
          "output_type": "stream",
          "name": "stderr",
          "text": [
            "/usr/local/lib/python3.7/dist-packages/sklearn/utils/deprecation.py:87: FutureWarning: Function get_feature_names is deprecated; get_feature_names is deprecated in 1.0 and will be removed in 1.2. Please use get_feature_names_out instead.\n",
            "  warnings.warn(msg, category=FutureWarning)\n"
          ]
        }
      ]
    },
    {
      "cell_type": "code",
      "metadata": {
        "colab": {
          "base_uri": "https://localhost:8080/"
        },
        "id": "11rfVkQULbGK",
        "outputId": "ddfcdac4-a3db-44e9-a784-2b832974fde2"
      },
      "source": [
        "import math\n",
        "#adik di dokumen ke-2\n",
        "1 * (math.log (3/ 1) + 1)"
      ],
      "execution_count": 22,
      "outputs": [
        {
          "output_type": "execute_result",
          "data": {
            "text/plain": [
              "2.09861228866811"
            ]
          },
          "metadata": {},
          "execution_count": 22
        }
      ]
    },
    {
      "cell_type": "code",
      "metadata": {
        "colab": {
          "base_uri": "https://localhost:8080/"
        },
        "id": "NFlaAJVLlFmF",
        "outputId": "0cacc2ab-e103-4d75-8ea1-76d6e9763ea8"
      },
      "source": [
        "#saya di dokumen ke-2\n",
        "2 * (math.log (3/ 2) + 1)"
      ],
      "execution_count": 23,
      "outputs": [
        {
          "output_type": "execute_result",
          "data": {
            "text/plain": [
              "2.8109302162163288"
            ]
          },
          "metadata": {},
          "execution_count": 23
        }
      ]
    },
    {
      "cell_type": "code",
      "metadata": {
        "colab": {
          "base_uri": "https://localhost:8080/"
        },
        "id": "mHDMUEqbLfBW",
        "outputId": "405d1857-cdbe-48a3-fbca-448fd4f2f9b7"
      },
      "source": [
        "#belajar di dokumen ke-1\n",
        "2 * (math.log (3 / 3) + 1)"
      ],
      "execution_count": 24,
      "outputs": [
        {
          "output_type": "execute_result",
          "data": {
            "text/plain": [
              "2.0"
            ]
          },
          "metadata": {},
          "execution_count": 24
        }
      ]
    },
    {
      "cell_type": "markdown",
      "metadata": {
        "id": "b0P7jC_XwdBv"
      },
      "source": [
        "### review dataset"
      ]
    },
    {
      "cell_type": "code",
      "metadata": {
        "id": "rOiMbDuFmnR9"
      },
      "source": [
        "from sklearn.feature_extraction.text import TfidfVectorizer\n",
        "new_doc = list()\n",
        "for doc in list_tokens:\n",
        "  row = ' '.join(doc)\n",
        "  new_doc.append(row)\n",
        "\n",
        "tfidf_vectorizer = TfidfVectorizer(max_features=1000)\n",
        "X_input = tfidf_vectorizer.fit_transform(new_doc)"
      ],
      "execution_count": 56,
      "outputs": []
    },
    {
      "cell_type": "code",
      "metadata": {
        "colab": {
          "base_uri": "https://localhost:8080/"
        },
        "id": "ElzECZZOoZet",
        "outputId": "0d938919-922a-4484-8e57-7cecdb051cbf"
      },
      "source": [
        "print(tfidf_vectorizer.get_feature_names())\n",
        "print(X_input.toarray())\n",
        "print(tfidf_vectorizer.vocabulary_)\n",
        "print(X_input.shape)"
      ],
      "execution_count": 57,
      "outputs": [
        {
          "output_type": "stream",
          "name": "stdout",
          "text": [
            "['accustomed', 'acting', 'action', 'actor', 'addiction', 'adrian', 'agenda', 'agreement', 'air', 'aired', 'almost', 'amazing', 'another', 'anxiously', 'anymore', 'appeal', 'arguing', 'around', 'arthur', 'audience', 'average', 'await', 'awakening', 'away', 'awful', 'back', 'bad', 'band', 'basically', 'become', 'believable', 'believe', 'best', 'bette', 'big', 'bit', 'bitch', 'black', 'boogeyman', 'boring', 'boy', 'bread', 'brilliance', 'brilliant', 'bring', 'brings', 'brutality', 'buscemi', 'called', 'camp', 'career', 'carol', 'case', 'cast', 'cause', 'cell', 'change', 'character', 'charm', 'cheap', 'child', 'chose', 'christian', 'city', 'class', 'classic', 'closet', 'come', 'comeback', 'comedy', 'comfortable', 'comforting', 'comment', 'complete', 'concerning', 'conditioned', 'connect', 'connected', 'contact', 'continued', 'control', 'could', 'country', 'creator', 'credit', 'crooked', 'crown', 'dare', 'darker', 'dated', 'davis', 'dawson', 'dealing', 'death', 'decade', 'decide', 'decides', 'decline', 'decorating', 'dedication', 'delight', 'descent', 'despite', 'developed', 'devil', 'dialog', 'dialogue', 'diary', 'different', 'direction', 'director', 'disappears', 'disappointed', 'discerns', 'discomforting', 'disgraceful', 'divorcing', 'dodgy', 'done', 'doubt', 'dozen', 'drama', 'dropped', 'drug', 'due', 'editing', 'effort', 'emerald', 'encounter', 'encouraged', 'entertaining', 'entire', 'entry', 'episode', 'even', 'ever', 'every', 'exactly', 'excitement', 'expected', 'experience', 'experimental', 'extreme', 'extremely', 'eye', 'fact', 'faint', 'fallen', 'family', 'fantasy', 'far', 'fashion', 'favorite', 'felt', 'fighting', 'film', 'filming', 'find', 'first', 'fit', 'flat', 'focus', 'followed', 'forget', 'forward', 'four', 'fresh', 'friend', 'front', 'fulfillment', 'fully', 'fun', 'funny', 'gangsta', 'get', 'give', 'given', 'giving', 'glass', 'go', 'going', 'good', 'got', 'grandma', 'graphic', 'great', 'grenier', 'grew', 'grown', 'guard', 'guided', 'gunsmoke', 'gut', 'hack', 'halliwell', 'happened', 'happening', 'happy', 'hard', 'hardcore', 'harvey', 'hearted', 'hell', 'hero', 'high', 'home', 'hooked', 'hot', 'huge', 'human', 'idea', 'ignore', 'image', 'imperioli', 'impressed', 'inhabits', 'injustice', 'inmate', 'innovative', 'instead', 'interesting', 'inwards', 'irish', 'italian', 'jake', 'jewel', 'johanson', 'jumped', 'kane', 'keitel', 'kid', 'kill', 'killer', 'know', 'knowledge', 'lack', 'lame', 'last', 'latino', 'laughed', 'laughter', 'le', 'least', 'leave', 'let', 'level', 'life', 'likable', 'like', 'liked', 'line', 'little', 'live', 'loneliness', 'look', 'looking', 'love', 'luck', 'lukas', 'luxurious', 'made', 'main', 'mainly', 'mainstream', 'make', 'making', 'managed', 'mannered', 'many', 'master', 'masterful', 'match', 'mattei', 'maximum', 'may', 'meaningless', 'mediocrity', 'meet', 'mentioned', 'mess', 'michael', 'middle', 'midget', 'mildly', 'mistake', 'mom', 'money', 'mother', 'movie', 'mural', 'muslim', 'must', 'nasty', 'need', 'never', 'new', 'next', 'nice', 'nickel', 'nickname', 'noble', 'obsessive', 'offer', 'old', 'opera', 'order', 'original', 'orton', 'oswald', 'outlet', 'oz', 'pace', 'pacing', 'painfully', 'painted', 'parent', 'particularly', 'pat', 'paul', 'penitentary', 'people', 'performance', 'performed', 'person', 'petter', 'picture', 'piece', 'place', 'play', 'played', 'playing', 'plot', 'plus', 'point', 'polari', 'portrait', 'positive', 'power', 'prada', 'preachy', 'present', 'pretty', 'prevents', 'previous', 'prison', 'privacy', 'probably', 'production', 'proof', 'pull', 'punch', 'quit', 'rambo', 'rarely', 'rather', 'read', 'ready', 'real', 'realism', 'realize', 'really', 'recognize', 'reference', 'regard', 'relation', 'remains', 'replace', 'respect', 'respite', 'rest', 'resurrection', 'reviewer', 'rhyme', 'right', 'risk', 'role', 'romance', 'roof', 'rosario', 'ruin', 'sacrifice', 'saw', 'say', 'scarlet', 'scene', 'schnitzler', 'scuffle', 'seahunt', 'seamless', 'section', 'security', 'see', 'seems', 'seen', 'selflessness', 'sens', 'sense', 'serial', 'series', 'set', 'sex', 'sexy', 'shady', 'sheen', 'shot', 'show', 'side', 'similar', 'simplistic', 'sincere', 'sitting', 'situation', 'skill', 'slow', 'slower', 'soap', 'sold', 'solid', 'sometimes', 'song', 'sophisticated', 'soul', 'soundtrack', 'spend', 'spirited', 'stage', 'star', 'stare', 'startling', 'state', 'steve', 'still', 'story', 'storyline', 'street', 'struck', 'stunning', 'style', 'stylishly', 'submit', 'success', 'suddenly', 'summer', 'superman', 'sure', 'surface', 'surreal', 'suspected', 'sympathetic', 'taken', 'talented', 'taste', 'tear', 'tech', 'technique', 'telling', 'terribly', 'terrificly', 'thank', 'theater', 'theme', 'thing', 'think', 'thought', 'thriller', 'thumb', 'time', 'timid', 'today', 'tone', 'totally', 'touch', 'traditional', 'transfer', 'truly', 'trust', 'tune', 'turned', 'tv', 'uncomfortable', 'unflinching', 'use', 'variation', 'view', 'viewing', 'viewpoint', 'violence', 'visually', 'vivid', 'voice', 'vote', 'wan', 'waste', 'watch', 'watchable', 'watched', 'watching', 'water', 'way', 'wear', 'weekend', 'well', 'white', 'williams', 'wish', 'wittier', 'witty', 'wonderful', 'woody', 'word', 'work', 'world', 'worst', 'worth', 'would', 'wrenching', 'writing', 'written', 'year', 'york', 'young', 'zombie']\n",
            "[[0.06681545 0.         0.         ... 0.         0.         0.        ]\n",
            " [0.         0.         0.         ... 0.         0.         0.        ]\n",
            " [0.         0.         0.         ... 0.         0.09669583 0.        ]\n",
            " ...\n",
            " [0.         0.         0.         ... 0.         0.         0.        ]\n",
            " [0.         0.         0.         ... 0.         0.         0.        ]\n",
            " [0.         0.         0.         ... 0.         0.2263006  0.        ]]\n",
            "{'reviewer': 371, 'mentioned': 278, 'watching': 496, 'oz': 310, 'episode': 133, 'hooked': 206, 'right': 373, 'exactly': 137, 'happened': 195, 'first': 158, 'thing': 461, 'struck': 435, 'brutality': 46, 'unflinching': 480, 'scene': 384, 'violence': 486, 'set': 399, 'word': 509, 'go': 179, 'trust': 475, 'show': 405, 'faint': 146, 'hearted': 201, 'timid': 467, 'pull': 349, 'punch': 350, 'regard': 363, 'drug': 123, 'sex': 400, 'hardcore': 199, 'classic': 65, 'use': 481, 'called': 48, 'nickname': 299, 'given': 176, 'oswald': 308, 'maximum': 273, 'security': 390, 'state': 429, 'penitentary': 319, 'focus': 161, 'mainly': 262, 'emerald': 127, 'city': 63, 'experimental': 141, 'section': 389, 'prison': 344, 'cell': 55, 'glass': 178, 'front': 168, 'inwards': 221, 'privacy': 345, 'high': 204, 'agenda': 6, 'home': 205, 'muslim': 290, 'gangsta': 173, 'latino': 238, 'christian': 62, 'italian': 223, 'irish': 222, 'scuffle': 386, 'death': 93, 'stare': 427, 'dodgy': 117, 'dealing': 92, 'shady': 402, 'agreement': 7, 'never': 294, 'far': 150, 'would': 514, 'say': 382, 'main': 261, 'appeal': 15, 'due': 124, 'fact': 145, 'dare': 87, 'forget': 163, 'pretty': 341, 'picture': 325, 'painted': 314, 'mainstream': 263, 'audience': 19, 'charm': 58, 'romance': 376, 'mess': 279, 'around': 17, 'ever': 135, 'saw': 381, 'nasty': 292, 'surreal': 446, 'could': 81, 'ready': 356, 'watched': 495, 'developed': 103, 'taste': 451, 'got': 182, 'accustomed': 0, 'level': 245, 'graphic': 184, 'injustice': 216, 'crooked': 85, 'guard': 189, 'sold': 416, 'nickel': 298, 'inmate': 217, 'kill': 231, 'order': 305, 'get': 174, 'away': 23, 'well': 501, 'mannered': 267, 'middle': 281, 'class': 64, 'turned': 477, 'bitch': 36, 'lack': 235, 'street': 434, 'skill': 412, 'experience': 140, 'may': 274, 'become': 29, 'comfortable': 70, 'uncomfortable': 479, 'viewing': 484, 'touch': 471, 'darker': 88, 'side': 406, 'wonderful': 507, 'little': 251, 'production': 347, 'filming': 156, 'technique': 454, 'fashion': 151, 'give': 175, 'comforting': 71, 'sometimes': 418, 'discomforting': 114, 'sense': 396, 'realism': 358, 'entire': 131, 'piece': 326, 'actor': 3, 'extremely': 143, 'michael': 280, 'sheen': 403, 'polari': 334, 'voice': 489, 'pat': 317, 'truly': 474, 'see': 391, 'seamless': 388, 'editing': 125, 'guided': 190, 'reference': 362, 'williams': 503, 'diary': 107, 'entry': 132, 'worth': 513, 'terrificly': 457, 'written': 517, 'performed': 322, 'masterful': 270, 'great': 185, 'master': 269, 'comedy': 69, 'life': 246, 'really': 360, 'come': 67, 'fantasy': 149, 'rather': 354, 'traditional': 472, 'remains': 365, 'solid': 417, 'disappears': 111, 'play': 328, 'knowledge': 234, 'sens': 395, 'particularly': 316, 'concerning': 74, 'orton': 307, 'halliwell': 194, 'flat': 160, 'mural': 289, 'decorating': 98, 'every': 136, 'surface': 445, 'terribly': 456, 'done': 118, 'thought': 463, 'way': 498, 'spend': 423, 'time': 466, 'hot': 207, 'summer': 442, 'weekend': 500, 'sitting': 410, 'air': 8, 'conditioned': 75, 'theater': 459, 'plot': 331, 'simplistic': 408, 'dialogue': 106, 'witty': 506, 'character': 57, 'likable': 247, 'even': 134, 'bread': 41, 'suspected': 447, 'serial': 397, 'killer': 232, 'disappointed': 112, 'realize': 359, 'match': 271, 'point': 333, 'risk': 374, 'addiction': 4, 'proof': 348, 'woody': 508, 'still': 431, 'fully': 170, 'control': 80, 'style': 437, 'many': 268, 'grown': 188, 'laughed': 239, 'year': 518, 'decade': 94, 'impressed': 214, 'scarlet': 383, 'johanson': 226, 'managed': 266, 'tone': 469, 'sexy': 401, 'image': 212, 'jumped': 227, 'average': 20, 'spirited': 424, 'young': 520, 'crown': 86, 'jewel': 225, 'career': 50, 'wittier': 505, 'devil': 104, 'wear': 499, 'prada': 338, 'interesting': 220, 'superman': 443, 'friend': 167, 'basically': 28, 'family': 148, 'boy': 40, 'jake': 224, 'think': 462, 'zombie': 521, 'closet': 66, 'parent': 315, 'fighting': 154, 'movie': 288, 'slower': 414, 'soap': 415, 'opera': 304, 'suddenly': 441, 'decides': 96, 'rambo': 352, 'going': 180, 'make': 264, 'film': 155, 'must': 291, 'decide': 95, 'thriller': 464, 'drama': 121, 'watchable': 494, 'divorcing': 116, 'arguing': 16, 'like': 248, 'real': 357, 'totally': 470, 'ruin': 379, 'expected': 139, 'boogeyman': 38, 'similar': 407, 'instead': 219, 'meaningless': 275, 'playing': 330, 'descent': 101, 'dialog': 105, 'shot': 404, 'ignore': 211, 'petter': 324, 'mattei': 272, 'love': 256, 'money': 286, 'visually': 487, 'stunning': 436, 'watch': 493, 'offer': 302, 'vivid': 488, 'portrait': 335, 'human': 209, 'relation': 364, 'seems': 392, 'telling': 455, 'power': 337, 'success': 440, 'people': 320, 'different': 108, 'situation': 411, 'encounter': 128, 'variation': 482, 'arthur': 18, 'schnitzler': 385, 'theme': 460, 'director': 110, 'transfer': 473, 'action': 2, 'present': 340, 'new': 295, 'york': 519, 'meet': 277, 'connect': 76, 'connected': 77, 'another': 12, 'next': 296, 'person': 323, 'know': 233, 'previous': 343, 'contact': 78, 'stylishly': 438, 'sophisticated': 420, 'luxurious': 259, 'look': 254, 'taken': 449, 'live': 252, 'world': 511, 'soul': 421, 'stage': 425, 'loneliness': 253, 'inhabits': 215, 'big': 34, 'best': 32, 'place': 327, 'find': 157, 'sincere': 409, 'fulfillment': 169, 'discerns': 113, 'case': 52, 'acting': 1, 'good': 181, 'direction': 109, 'steve': 430, 'buscemi': 47, 'rosario': 378, 'dawson': 91, 'carol': 51, 'kane': 228, 'imperioli': 213, 'adrian': 5, 'grenier': 186, 'rest': 369, 'talented': 450, 'cast': 53, 'wish': 504, 'luck': 257, 'await': 21, 'anxiously': 13, 'work': 510, 'probably': 346, 'favorite': 152, 'story': 432, 'selflessness': 394, 'sacrifice': 380, 'dedication': 99, 'noble': 300, 'cause': 54, 'preachy': 339, 'boring': 39, 'old': 303, 'despite': 102, 'seen': 393, 'last': 237, 'paul': 318, 'lukas': 258, 'performance': 321, 'brings': 45, 'tear': 452, 'eye': 144, 'bette': 33, 'davis': 90, 'sympathetic': 448, 'role': 375, 'delight': 100, 'kid': 230, 'grandma': 183, 'midget': 282, 'child': 60, 'fun': 171, 'mother': 287, 'slow': 413, 'awakening': 22, 'happening': 196, 'roof': 377, 'believable': 30, 'startling': 428, 'dozen': 120, 'thumb': 465, 'sure': 444, 'resurrection': 370, 'dated': 89, 'seahunt': 387, 'series': 398, 'tech': 453, 'today': 468, 'bring': 44, 'back': 25, 'excitement': 138, 'grew': 187, 'black': 37, 'white': 502, 'tv': 478, 'gunsmoke': 191, 'hero': 203, 'vote': 490, 'comeback': 68, 'need': 293, 'change': 56, 'pace': 311, 'water': 497, 'thank': 458, 'outlet': 309, 'view': 483, 'viewpoint': 485, 'believe': 31, 'wan': 491, 'nice': 297, 'read': 355, 'plus': 332, 'rhyme': 372, 'line': 250, 'let': 244, 'submit': 439, 'leave': 243, 'doubt': 119, 'quit': 351, 'amazing': 11, 'fresh': 166, 'innovative': 218, 'idea': 210, 'aired': 9, 'brilliant': 43, 'dropped': 122, 'funny': 172, 'anymore': 14, 'continued': 79, 'decline': 97, 'complete': 73, 'waste': 492, 'disgraceful': 115, 'fallen': 147, 'writing': 516, 'painfully': 313, 'bad': 26, 'almost': 10, 'mildly': 283, 'entertaining': 130, 'respite': 368, 'hard': 198, 'creator': 83, 'original': 306, 'chose': 61, 'band': 27, 'hack': 193, 'followed': 162, 'recognize': 361, 'brilliance': 42, 'fit': 159, 'replace': 366, 'mediocrity': 276, 'felt': 153, 'star': 426, 'respect': 367, 'made': 260, 'huge': 208, 'awful': 24, 'encouraged': 129, 'positive': 336, 'comment': 72, 'looking': 255, 'forward': 164, 'mistake': 284, 'worst': 512, 'pacing': 312, 'storyline': 433, 'soundtrack': 422, 'song': 419, 'lame': 236, 'country': 82, 'tune': 476, 'played': 329, 'le': 241, 'four': 165, 'cheap': 59, 'extreme': 142, 'rarely': 353, 'happy': 197, 'credit': 84, 'prevents': 342, 'giving': 177, 'harvey': 200, 'keitel': 229, 'least': 242, 'making': 265, 'bit': 35, 'effort': 126, 'obsessive': 301, 'gut': 192, 'wrenching': 515, 'laughter': 240, 'hell': 202, 'mom': 285, 'liked': 249, 'camp': 49}\n",
            "(10, 522)\n"
          ]
        },
        {
          "output_type": "stream",
          "name": "stderr",
          "text": [
            "/usr/local/lib/python3.7/dist-packages/sklearn/utils/deprecation.py:87: FutureWarning: Function get_feature_names is deprecated; get_feature_names is deprecated in 1.0 and will be removed in 1.2. Please use get_feature_names_out instead.\n",
            "  warnings.warn(msg, category=FutureWarning)\n"
          ]
        }
      ]
    }
  ]
}