{
  "nbformat": 4,
  "nbformat_minor": 0,
  "metadata": {
    "colab": {
      "name": "Semi-Supervised.ipynb",
      "provenance": []
    },
    "kernelspec": {
      "name": "python3",
      "display_name": "Python 3"
    },
    "language_info": {
      "name": "python"
    }
  },
  "cells": [
    {
      "cell_type": "markdown",
      "source": [
        "# Load Libraries"
      ],
      "metadata": {
        "id": "uX2D3DVLnZmP"
      }
    },
    {
      "cell_type": "code",
      "execution_count": 29,
      "metadata": {
        "id": "YV3nxuOAYyki"
      },
      "outputs": [],
      "source": [
        "import numpy as np, pandas as pd\n",
        "from sklearn import datasets"
      ]
    },
    {
      "cell_type": "markdown",
      "source": [
        "# Load Dataset"
      ],
      "metadata": {
        "id": "aDYyoblRnpXk"
      }
    },
    {
      "cell_type": "code",
      "source": [
        "df = datasets.load_iris()"
      ],
      "metadata": {
        "id": "OLDlhwU4ZTla"
      },
      "execution_count": 30,
      "outputs": []
    },
    {
      "cell_type": "code",
      "source": [
        "X = pd.DataFrame(df.data, columns=df.feature_names)\n",
        "y = np.copy(df.target)\n",
        "X.head()"
      ],
      "metadata": {
        "colab": {
          "base_uri": "https://localhost:8080/",
          "height": 206
        },
        "id": "NEXVZAbRamK4",
        "outputId": "31e3bee5-4b5c-417e-b2fd-2e3cbe29a8dc"
      },
      "execution_count": 33,
      "outputs": [
        {
          "output_type": "execute_result",
          "data": {
            "text/html": [
              "\n",
              "  <div id=\"df-a480a1e6-e674-4241-8b7c-f241f202f91d\">\n",
              "    <div class=\"colab-df-container\">\n",
              "      <div>\n",
              "<style scoped>\n",
              "    .dataframe tbody tr th:only-of-type {\n",
              "        vertical-align: middle;\n",
              "    }\n",
              "\n",
              "    .dataframe tbody tr th {\n",
              "        vertical-align: top;\n",
              "    }\n",
              "\n",
              "    .dataframe thead th {\n",
              "        text-align: right;\n",
              "    }\n",
              "</style>\n",
              "<table border=\"1\" class=\"dataframe\">\n",
              "  <thead>\n",
              "    <tr style=\"text-align: right;\">\n",
              "      <th></th>\n",
              "      <th>sepal length (cm)</th>\n",
              "      <th>sepal width (cm)</th>\n",
              "      <th>petal length (cm)</th>\n",
              "      <th>petal width (cm)</th>\n",
              "    </tr>\n",
              "  </thead>\n",
              "  <tbody>\n",
              "    <tr>\n",
              "      <th>0</th>\n",
              "      <td>5.1</td>\n",
              "      <td>3.5</td>\n",
              "      <td>1.4</td>\n",
              "      <td>0.2</td>\n",
              "    </tr>\n",
              "    <tr>\n",
              "      <th>1</th>\n",
              "      <td>4.9</td>\n",
              "      <td>3.0</td>\n",
              "      <td>1.4</td>\n",
              "      <td>0.2</td>\n",
              "    </tr>\n",
              "    <tr>\n",
              "      <th>2</th>\n",
              "      <td>4.7</td>\n",
              "      <td>3.2</td>\n",
              "      <td>1.3</td>\n",
              "      <td>0.2</td>\n",
              "    </tr>\n",
              "    <tr>\n",
              "      <th>3</th>\n",
              "      <td>4.6</td>\n",
              "      <td>3.1</td>\n",
              "      <td>1.5</td>\n",
              "      <td>0.2</td>\n",
              "    </tr>\n",
              "    <tr>\n",
              "      <th>4</th>\n",
              "      <td>5.0</td>\n",
              "      <td>3.6</td>\n",
              "      <td>1.4</td>\n",
              "      <td>0.2</td>\n",
              "    </tr>\n",
              "  </tbody>\n",
              "</table>\n",
              "</div>\n",
              "      <button class=\"colab-df-convert\" onclick=\"convertToInteractive('df-a480a1e6-e674-4241-8b7c-f241f202f91d')\"\n",
              "              title=\"Convert this dataframe to an interactive table.\"\n",
              "              style=\"display:none;\">\n",
              "        \n",
              "  <svg xmlns=\"http://www.w3.org/2000/svg\" height=\"24px\"viewBox=\"0 0 24 24\"\n",
              "       width=\"24px\">\n",
              "    <path d=\"M0 0h24v24H0V0z\" fill=\"none\"/>\n",
              "    <path d=\"M18.56 5.44l.94 2.06.94-2.06 2.06-.94-2.06-.94-.94-2.06-.94 2.06-2.06.94zm-11 1L8.5 8.5l.94-2.06 2.06-.94-2.06-.94L8.5 2.5l-.94 2.06-2.06.94zm10 10l.94 2.06.94-2.06 2.06-.94-2.06-.94-.94-2.06-.94 2.06-2.06.94z\"/><path d=\"M17.41 7.96l-1.37-1.37c-.4-.4-.92-.59-1.43-.59-.52 0-1.04.2-1.43.59L10.3 9.45l-7.72 7.72c-.78.78-.78 2.05 0 2.83L4 21.41c.39.39.9.59 1.41.59.51 0 1.02-.2 1.41-.59l7.78-7.78 2.81-2.81c.8-.78.8-2.07 0-2.86zM5.41 20L4 18.59l7.72-7.72 1.47 1.35L5.41 20z\"/>\n",
              "  </svg>\n",
              "      </button>\n",
              "      \n",
              "  <style>\n",
              "    .colab-df-container {\n",
              "      display:flex;\n",
              "      flex-wrap:wrap;\n",
              "      gap: 12px;\n",
              "    }\n",
              "\n",
              "    .colab-df-convert {\n",
              "      background-color: #E8F0FE;\n",
              "      border: none;\n",
              "      border-radius: 50%;\n",
              "      cursor: pointer;\n",
              "      display: none;\n",
              "      fill: #1967D2;\n",
              "      height: 32px;\n",
              "      padding: 0 0 0 0;\n",
              "      width: 32px;\n",
              "    }\n",
              "\n",
              "    .colab-df-convert:hover {\n",
              "      background-color: #E2EBFA;\n",
              "      box-shadow: 0px 1px 2px rgba(60, 64, 67, 0.3), 0px 1px 3px 1px rgba(60, 64, 67, 0.15);\n",
              "      fill: #174EA6;\n",
              "    }\n",
              "\n",
              "    [theme=dark] .colab-df-convert {\n",
              "      background-color: #3B4455;\n",
              "      fill: #D2E3FC;\n",
              "    }\n",
              "\n",
              "    [theme=dark] .colab-df-convert:hover {\n",
              "      background-color: #434B5C;\n",
              "      box-shadow: 0px 1px 3px 1px rgba(0, 0, 0, 0.15);\n",
              "      filter: drop-shadow(0px 1px 2px rgba(0, 0, 0, 0.3));\n",
              "      fill: #FFFFFF;\n",
              "    }\n",
              "  </style>\n",
              "\n",
              "      <script>\n",
              "        const buttonEl =\n",
              "          document.querySelector('#df-a480a1e6-e674-4241-8b7c-f241f202f91d button.colab-df-convert');\n",
              "        buttonEl.style.display =\n",
              "          google.colab.kernel.accessAllowed ? 'block' : 'none';\n",
              "\n",
              "        async function convertToInteractive(key) {\n",
              "          const element = document.querySelector('#df-a480a1e6-e674-4241-8b7c-f241f202f91d');\n",
              "          const dataTable =\n",
              "            await google.colab.kernel.invokeFunction('convertToInteractive',\n",
              "                                                     [key], {});\n",
              "          if (!dataTable) return;\n",
              "\n",
              "          const docLinkHtml = 'Like what you see? Visit the ' +\n",
              "            '<a target=\"_blank\" href=https://colab.research.google.com/notebooks/data_table.ipynb>data table notebook</a>'\n",
              "            + ' to learn more about interactive tables.';\n",
              "          element.innerHTML = '';\n",
              "          dataTable['output_type'] = 'display_data';\n",
              "          await google.colab.output.renderOutput(dataTable, element);\n",
              "          const docLink = document.createElement('div');\n",
              "          docLink.innerHTML = docLinkHtml;\n",
              "          element.appendChild(docLink);\n",
              "        }\n",
              "      </script>\n",
              "    </div>\n",
              "  </div>\n",
              "  "
            ],
            "text/plain": [
              "   sepal length (cm)  sepal width (cm)  petal length (cm)  petal width (cm)\n",
              "0                5.1               3.5                1.4               0.2\n",
              "1                4.9               3.0                1.4               0.2\n",
              "2                4.7               3.2                1.3               0.2\n",
              "3                4.6               3.1                1.5               0.2\n",
              "4                5.0               3.6                1.4               0.2"
            ]
          },
          "metadata": {},
          "execution_count": 33
        }
      ]
    },
    {
      "cell_type": "markdown",
      "source": [
        "#Train test Split"
      ],
      "metadata": {
        "id": "CLjcEELiefpr"
      }
    },
    {
      "cell_type": "code",
      "source": [
        "from sklearn.model_selection import train_test_split\n",
        "X_train, X_test, y_train, y_test = train_test_split(X, y, test_size=0.1, random_state=12)\n",
        "\n",
        "labels = np.copy(y_train)"
      ],
      "metadata": {
        "id": "g6s0hjIxeiMG"
      },
      "execution_count": 36,
      "outputs": []
    },
    {
      "cell_type": "code",
      "source": [
        "rng = np.random.RandomState(42)\n",
        "random_unlabeled_points = rng.rand(len(y_train)) < 0.5"
      ],
      "metadata": {
        "id": "7AYqA6ztZbvh"
      },
      "execution_count": 40,
      "outputs": []
    },
    {
      "cell_type": "code",
      "source": [
        "y_train"
      ],
      "metadata": {
        "colab": {
          "base_uri": "https://localhost:8080/"
        },
        "id": "h6YDoWVSZtaN",
        "outputId": "2f361222-680b-4b23-edbf-fa91eb0acf63"
      },
      "execution_count": 41,
      "outputs": [
        {
          "output_type": "execute_result",
          "data": {
            "text/plain": [
              "array([2, 2, 1, 0, 1, 0, 1, 2, 1, 0, 2, 1, 1, 0, 0, 0, 1, 2, 0, 2, 0, 1,\n",
              "       1, 0, 1, 1, 0, 0, 0, 0, 0, 0, 0, 2, 0, 2, 1, 1, 1, 0, 2, 1, 1, 2,\n",
              "       0, 2, 0, 2, 2, 2, 2, 1, 1, 1, 1, 2, 0, 2, 2, 0, 1, 0, 2, 2, 0, 1,\n",
              "       1, 0, 0, 1, 1, 1, 1, 2, 1, 2, 0, 0, 1, 1, 1, 0, 2, 1, 0, 2, 2, 1,\n",
              "       2, 2, 0, 0, 2, 1, 1, 2, 0, 1, 1, 0, 1, 1, 2, 2, 1, 0, 2, 0, 2, 0,\n",
              "       0, 1, 2, 2, 1, 2, 2, 0, 1, 1, 0, 2, 2, 2, 1, 2, 2, 2, 0, 0, 1, 0,\n",
              "       2, 2, 1])"
            ]
          },
          "metadata": {},
          "execution_count": 41
        }
      ]
    },
    {
      "cell_type": "code",
      "source": [
        "random_unlabeled_points"
      ],
      "metadata": {
        "colab": {
          "base_uri": "https://localhost:8080/"
        },
        "id": "iaMRsLCCZtmH",
        "outputId": "abfc7a30-2d92-4526-8d4d-956a3fc30fda"
      },
      "execution_count": 42,
      "outputs": [
        {
          "output_type": "execute_result",
          "data": {
            "text/plain": [
              "array([ True, False, False, False,  True,  True,  True, False, False,\n",
              "       False,  True, False, False,  True,  True,  True,  True, False,\n",
              "        True,  True, False,  True,  True,  True,  True, False,  True,\n",
              "       False, False,  True, False,  True,  True, False, False, False,\n",
              "        True,  True, False,  True,  True,  True,  True, False,  True,\n",
              "       False,  True, False, False,  True, False, False, False, False,\n",
              "       False, False,  True,  True,  True,  True,  True,  True, False,\n",
              "        True,  True, False,  True, False,  True, False, False,  True,\n",
              "        True, False, False, False, False,  True,  True,  True, False,\n",
              "       False,  True,  True,  True,  True, False, False, False,  True,\n",
              "        True, False, False, False, False,  True, False,  True,  True,\n",
              "        True,  True, False,  True, False, False,  True,  True, False,\n",
              "        True,  True,  True,  True, False, False, False, False, False,\n",
              "        True, False, False, False, False,  True,  True,  True,  True,\n",
              "       False, False,  True, False,  True,  True,  True,  True, False])"
            ]
          },
          "metadata": {},
          "execution_count": 42
        }
      ]
    },
    {
      "cell_type": "code",
      "source": [
        "labels[random_unlabeled_points] = -1\n",
        "labels"
      ],
      "metadata": {
        "colab": {
          "base_uri": "https://localhost:8080/"
        },
        "id": "HW72_kOcZ3Yk",
        "outputId": "0231854b-ab2a-45eb-c963-816f8d7e9f53"
      },
      "execution_count": 43,
      "outputs": [
        {
          "output_type": "execute_result",
          "data": {
            "text/plain": [
              "array([-1,  2,  1,  0, -1, -1, -1,  2,  1,  0, -1,  1,  1, -1, -1, -1, -1,\n",
              "        2, -1, -1,  0, -1, -1, -1, -1,  1, -1,  0,  0, -1,  0, -1, -1,  2,\n",
              "        0,  2, -1, -1,  1, -1, -1, -1, -1,  2, -1,  2, -1,  2,  2, -1,  2,\n",
              "        1,  1,  1,  1,  2, -1, -1, -1, -1, -1, -1,  2, -1, -1,  1, -1,  0,\n",
              "       -1,  1,  1, -1, -1,  2,  1,  2,  0, -1, -1, -1,  1,  0, -1, -1, -1,\n",
              "       -1,  2,  1,  2, -1, -1,  0,  2,  1,  1, -1,  0, -1, -1, -1, -1,  1,\n",
              "       -1,  2,  1, -1, -1,  0, -1, -1, -1, -1,  2,  2,  1,  2,  2, -1,  1,\n",
              "        1,  0,  2, -1, -1, -1, -1,  2,  2, -1,  0, -1, -1, -1, -1,  1])"
            ]
          },
          "metadata": {},
          "execution_count": 43
        }
      ]
    },
    {
      "cell_type": "markdown",
      "source": [
        "# Model Creation"
      ],
      "metadata": {
        "id": "Gv0ybTl4b-T9"
      }
    },
    {
      "cell_type": "code",
      "source": [
        "from sklearn.semi_supervised import LabelPropagation\n",
        "from sklearn.metrics import confusion_matrix, classification_report"
      ],
      "metadata": {
        "id": "GUp9XN3abBJo"
      },
      "execution_count": 44,
      "outputs": []
    },
    {
      "cell_type": "code",
      "source": [
        "lp = LabelPropagation(kernel='knn', n_neighbors=9, max_iter=100)\n",
        "lp.fit(X_train, labels)"
      ],
      "metadata": {
        "colab": {
          "base_uri": "https://localhost:8080/"
        },
        "id": "BB9IkCdfbXw8",
        "outputId": "6a0811f0-38e8-4c00-8bfc-f480ad4f4196"
      },
      "execution_count": 45,
      "outputs": [
        {
          "output_type": "execute_result",
          "data": {
            "text/plain": [
              "LabelPropagation(kernel='knn', max_iter=100, n_neighbors=9)"
            ]
          },
          "metadata": {},
          "execution_count": 45
        }
      ]
    },
    {
      "cell_type": "code",
      "source": [
        "y_pred = lp.predict(X_train)"
      ],
      "metadata": {
        "id": "6NC_DAdidmyx"
      },
      "execution_count": 47,
      "outputs": []
    },
    {
      "cell_type": "code",
      "source": [
        "print(confusion_matrix(y_train, y_pred))"
      ],
      "metadata": {
        "colab": {
          "base_uri": "https://localhost:8080/"
        },
        "id": "tPUsulVaeDhx",
        "outputId": "44ebba66-21c0-4eef-b5d2-1eed8f00c2b5"
      },
      "execution_count": 48,
      "outputs": [
        {
          "output_type": "stream",
          "name": "stdout",
          "text": [
            "[[43  0  0]\n",
            " [ 0 45  2]\n",
            " [ 0  1 44]]\n"
          ]
        }
      ]
    },
    {
      "cell_type": "code",
      "source": [
        "print(classification_report(y_train, y_pred))"
      ],
      "metadata": {
        "colab": {
          "base_uri": "https://localhost:8080/"
        },
        "id": "8n8FwhEzeIEM",
        "outputId": "80e4e967-c43a-4769-ede6-6562c0e683bc"
      },
      "execution_count": 49,
      "outputs": [
        {
          "output_type": "stream",
          "name": "stdout",
          "text": [
            "              precision    recall  f1-score   support\n",
            "\n",
            "           0       1.00      1.00      1.00        43\n",
            "           1       0.98      0.96      0.97        47\n",
            "           2       0.96      0.98      0.97        45\n",
            "\n",
            "    accuracy                           0.98       135\n",
            "   macro avg       0.98      0.98      0.98       135\n",
            "weighted avg       0.98      0.98      0.98       135\n",
            "\n"
          ]
        }
      ]
    },
    {
      "cell_type": "code",
      "source": [
        "y_pred_test = lp.predict(X_test)\n",
        "print(confusion_matrix(y_test, y_pred_test))\n",
        "print(classification_report(y_test, y_pred_test))"
      ],
      "metadata": {
        "colab": {
          "base_uri": "https://localhost:8080/"
        },
        "id": "kTUmsMaVeOWR",
        "outputId": "93ca0124-5d78-4405-fa5a-47aaa13a27fa"
      },
      "execution_count": 51,
      "outputs": [
        {
          "output_type": "stream",
          "name": "stdout",
          "text": [
            "[[7 0 0]\n",
            " [0 3 0]\n",
            " [0 0 5]]\n",
            "              precision    recall  f1-score   support\n",
            "\n",
            "           0       1.00      1.00      1.00         7\n",
            "           1       1.00      1.00      1.00         3\n",
            "           2       1.00      1.00      1.00         5\n",
            "\n",
            "    accuracy                           1.00        15\n",
            "   macro avg       1.00      1.00      1.00        15\n",
            "weighted avg       1.00      1.00      1.00        15\n",
            "\n"
          ]
        }
      ]
    },
    {
      "cell_type": "code",
      "source": [
        "X_labeled = X_train.copy()\n",
        "X_labeled['label'] = labels\n",
        "X_labeled = X_labeled.loc[X_labeled['label'] != -1]"
      ],
      "metadata": {
        "id": "i-MGjWKjft9q"
      },
      "execution_count": 80,
      "outputs": []
    },
    {
      "cell_type": "code",
      "source": [
        "y_pre_labels = lp.predict(X_labeled.drop(['label'], 1))\n",
        "print(confusion_matrix(X_labeled['label'], y_pre_labels))\n",
        "print(classification_report(X_labeled['label'], y_pre_labels))"
      ],
      "metadata": {
        "colab": {
          "base_uri": "https://localhost:8080/"
        },
        "id": "V7G06Yk1gQ0D",
        "outputId": "68fd5eb4-dff5-4cc2-8d48-46cc29e0ca96"
      },
      "execution_count": 81,
      "outputs": [
        {
          "output_type": "stream",
          "name": "stdout",
          "text": [
            "[[15  0  0]\n",
            " [ 0 23  1]\n",
            " [ 0  1 24]]\n",
            "              precision    recall  f1-score   support\n",
            "\n",
            "           0       1.00      1.00      1.00        15\n",
            "           1       0.96      0.96      0.96        24\n",
            "           2       0.96      0.96      0.96        25\n",
            "\n",
            "    accuracy                           0.97        64\n",
            "   macro avg       0.97      0.97      0.97        64\n",
            "weighted avg       0.97      0.97      0.97        64\n",
            "\n"
          ]
        }
      ]
    },
    {
      "cell_type": "code",
      "source": [
        "from sklearn.semi_supervised import LabelSpreading"
      ],
      "metadata": {
        "id": "-MN2UpKpge-9"
      },
      "execution_count": 70,
      "outputs": []
    },
    {
      "cell_type": "code",
      "source": [
        "ls = LabelSpreading(kernel='rbf', gamma=21, max_iter=35, alpha=0.3)\n",
        "ls.fit(X_train, labels)"
      ],
      "metadata": {
        "colab": {
          "base_uri": "https://localhost:8080/"
        },
        "id": "sD9G6wEjjCLQ",
        "outputId": "9a0a0583-f0e9-4743-fe83-f7d795ba1aea"
      },
      "execution_count": 76,
      "outputs": [
        {
          "output_type": "execute_result",
          "data": {
            "text/plain": [
              "LabelSpreading(alpha=0.3, gamma=21, max_iter=35)"
            ]
          },
          "metadata": {},
          "execution_count": 76
        }
      ]
    },
    {
      "cell_type": "code",
      "source": [
        "y_pred = ls.predict(X_train)\n",
        "print(confusion_matrix(y_train, y_pred))\n",
        "print(classification_report(y_train, y_pred))"
      ],
      "metadata": {
        "colab": {
          "base_uri": "https://localhost:8080/"
        },
        "id": "o3SUsVFUjrm5",
        "outputId": "66733d05-343b-416d-8717-4f954dbd4aa5"
      },
      "execution_count": 77,
      "outputs": [
        {
          "output_type": "stream",
          "name": "stdout",
          "text": [
            "[[43  0  0]\n",
            " [ 0 46  1]\n",
            " [ 0  0 45]]\n",
            "              precision    recall  f1-score   support\n",
            "\n",
            "           0       1.00      1.00      1.00        43\n",
            "           1       1.00      0.98      0.99        47\n",
            "           2       0.98      1.00      0.99        45\n",
            "\n",
            "    accuracy                           0.99       135\n",
            "   macro avg       0.99      0.99      0.99       135\n",
            "weighted avg       0.99      0.99      0.99       135\n",
            "\n"
          ]
        }
      ]
    },
    {
      "cell_type": "code",
      "source": [
        "y_pred_test = ls.predict(X_test)\n",
        "print(confusion_matrix(y_test, y_pred_test))\n",
        "print(classification_report(y_test, y_pred_test))"
      ],
      "metadata": {
        "colab": {
          "base_uri": "https://localhost:8080/"
        },
        "id": "Due96kr4j1Zc",
        "outputId": "4aa7056b-12f9-4914-cbf2-4ff7e5ea270d"
      },
      "execution_count": 78,
      "outputs": [
        {
          "output_type": "stream",
          "name": "stdout",
          "text": [
            "[[7 0 0]\n",
            " [0 3 0]\n",
            " [0 0 5]]\n",
            "              precision    recall  f1-score   support\n",
            "\n",
            "           0       1.00      1.00      1.00         7\n",
            "           1       1.00      1.00      1.00         3\n",
            "           2       1.00      1.00      1.00         5\n",
            "\n",
            "    accuracy                           1.00        15\n",
            "   macro avg       1.00      1.00      1.00        15\n",
            "weighted avg       1.00      1.00      1.00        15\n",
            "\n"
          ]
        }
      ]
    },
    {
      "cell_type": "code",
      "source": [
        "y_pre_labels = ls.predict(X_labeled.drop(['label'], 1))\n",
        "print(confusion_matrix(X_labeled['label'], y_pre_labels))\n",
        "print(classification_report(X_labeled['label'], y_pre_labels))"
      ],
      "metadata": {
        "colab": {
          "base_uri": "https://localhost:8080/"
        },
        "id": "9VAAvcBaj9zt",
        "outputId": "d3be8a67-e927-4cd5-c083-de1eab80e2ec"
      },
      "execution_count": 82,
      "outputs": [
        {
          "output_type": "stream",
          "name": "stdout",
          "text": [
            "[[15  0  0]\n",
            " [ 0 24  0]\n",
            " [ 0  0 25]]\n",
            "              precision    recall  f1-score   support\n",
            "\n",
            "           0       1.00      1.00      1.00        15\n",
            "           1       1.00      1.00      1.00        24\n",
            "           2       1.00      1.00      1.00        25\n",
            "\n",
            "    accuracy                           1.00        64\n",
            "   macro avg       1.00      1.00      1.00        64\n",
            "weighted avg       1.00      1.00      1.00        64\n",
            "\n"
          ]
        }
      ]
    },
    {
      "cell_type": "code",
      "source": [
        "X_non_labeled = X_train.copy()\n",
        "X_non_labeled['label'] = labels\n",
        "X_non_labeled = X_non_labeled.loc[X_non_labeled['label'] == -1]"
      ],
      "metadata": {
        "id": "1VBacaHYkCHA"
      },
      "execution_count": 83,
      "outputs": []
    },
    {
      "cell_type": "code",
      "source": [
        "ls.predict(X_non_labeled.drop(['label'], 1))"
      ],
      "metadata": {
        "colab": {
          "base_uri": "https://localhost:8080/"
        },
        "id": "2jhnKW-lklH5",
        "outputId": "0937ab4e-6374-4bbb-9425-b8daa5b57fe5"
      },
      "execution_count": 86,
      "outputs": [
        {
          "output_type": "execute_result",
          "data": {
            "text/plain": [
              "array([2, 2, 0, 1, 2, 0, 0, 0, 1, 0, 2, 1, 1, 0, 1, 0, 0, 0, 0, 1, 1, 0,\n",
              "       2, 1, 1, 0, 0, 2, 0, 2, 2, 0, 1, 0, 2, 0, 1, 0, 1, 1, 0, 1, 1, 2,\n",
              "       1, 0, 2, 2, 0, 2, 1, 1, 0, 1, 2, 0, 2, 2, 0, 0, 1, 0, 2, 2, 1, 2,\n",
              "       0, 1, 0, 2, 2])"
            ]
          },
          "metadata": {},
          "execution_count": 86
        }
      ]
    },
    {
      "cell_type": "code",
      "source": [
        ""
      ],
      "metadata": {
        "id": "YQ_bWgx6ko8T"
      },
      "execution_count": null,
      "outputs": []
    }
  ]
}