{
  "nbformat": 4,
  "nbformat_minor": 0,
  "metadata": {
    "colab": {
      "name": "SIB-B - Sesi 12 : Basic Programming III.ipynb",
      "provenance": []
    },
    "kernelspec": {
      "name": "python3",
      "display_name": "Python 3"
    },
    "language_info": {
      "name": "python"
    }
  },
  "cells": [
    {
      "cell_type": "markdown",
      "metadata": {
        "id": "JOiyltuoEF4R"
      },
      "source": [
        "# List"
      ]
    },
    {
      "cell_type": "markdown",
      "metadata": {
        "id": "C7tfZY3LEaY-"
      },
      "source": [
        "## Create List"
      ]
    },
    {
      "cell_type": "code",
      "metadata": {
        "colab": {
          "base_uri": "https://localhost:8080/"
        },
        "id": "i9s8qxyqEG-U",
        "outputId": "63bac357-6e3f-423f-e1e7-f9c0a45f9fcf"
      },
      "source": [
        "# create list\n",
        "list_1 = [1,'a','b',2,4.5]\n",
        "list_1"
      ],
      "execution_count": 2,
      "outputs": [
        {
          "output_type": "execute_result",
          "data": {
            "text/plain": [
              "[1, 'a', 'b', 2, 4.5]"
            ]
          },
          "metadata": {},
          "execution_count": 2
        }
      ]
    },
    {
      "cell_type": "code",
      "metadata": {
        "colab": {
          "base_uri": "https://localhost:8080/",
          "height": 35
        },
        "id": "uibLHB0kjmOn",
        "outputId": "1fcbf428-e804-44f9-9865-06e314ba9f79"
      },
      "source": [
        "list_1[1]"
      ],
      "execution_count": 3,
      "outputs": [
        {
          "output_type": "execute_result",
          "data": {
            "application/vnd.google.colaboratory.intrinsic+json": {
              "type": "string"
            },
            "text/plain": [
              "'a'"
            ]
          },
          "metadata": {},
          "execution_count": 3
        }
      ]
    },
    {
      "cell_type": "code",
      "metadata": {
        "colab": {
          "base_uri": "https://localhost:8080/"
        },
        "id": "iTogk8skju1n",
        "outputId": "5647f38f-f8a7-4c89-c528-fb0cc4df36ff"
      },
      "source": [
        "list_1[:]"
      ],
      "execution_count": 4,
      "outputs": [
        {
          "output_type": "execute_result",
          "data": {
            "text/plain": [
              "[1, 'a', 'b', 2, 4.5]"
            ]
          },
          "metadata": {},
          "execution_count": 4
        }
      ]
    },
    {
      "cell_type": "code",
      "metadata": {
        "colab": {
          "base_uri": "https://localhost:8080/"
        },
        "id": "n0hjQ3XFkLUx",
        "outputId": "a95a4d3d-9dfc-4ac7-8c49-1e965d5d5dfb"
      },
      "source": [
        "list_1[0:]"
      ],
      "execution_count": 6,
      "outputs": [
        {
          "output_type": "execute_result",
          "data": {
            "text/plain": [
              "[1, 'a', 'b', 2, 4.5]"
            ]
          },
          "metadata": {},
          "execution_count": 6
        }
      ]
    },
    {
      "cell_type": "code",
      "metadata": {
        "colab": {
          "base_uri": "https://localhost:8080/"
        },
        "id": "OLezc7Lzj1Bx",
        "outputId": "358a34ce-7292-4f5c-91e0-caa0b8828881"
      },
      "source": [
        "list_1[1:4]"
      ],
      "execution_count": 5,
      "outputs": [
        {
          "output_type": "execute_result",
          "data": {
            "text/plain": [
              "['a', 'b', 2]"
            ]
          },
          "metadata": {},
          "execution_count": 5
        }
      ]
    },
    {
      "cell_type": "code",
      "metadata": {
        "colab": {
          "base_uri": "https://localhost:8080/"
        },
        "id": "XGwl_D80kSqR",
        "outputId": "640a9d37-e65a-4de9-b737-e8be1874765b"
      },
      "source": [
        "# q1 : variable dalam list\n",
        "v = 2\n",
        "w = 'r'\n",
        "\n",
        "list_2 = [1,2,3,4.5,'a','b',v,w]\n",
        "list_2"
      ],
      "execution_count": 7,
      "outputs": [
        {
          "output_type": "execute_result",
          "data": {
            "text/plain": [
              "[1, 2, 3, 4.5, 'a', 'b', 2, 'r']"
            ]
          },
          "metadata": {},
          "execution_count": 7
        }
      ]
    },
    {
      "cell_type": "code",
      "metadata": {
        "colab": {
          "base_uri": "https://localhost:8080/",
          "height": 35
        },
        "id": "E5EBScyBkrcF",
        "outputId": "f310ad21-4a77-46b3-f57e-7bfd348d5dc0"
      },
      "source": [
        "list_2[-1]"
      ],
      "execution_count": 8,
      "outputs": [
        {
          "output_type": "execute_result",
          "data": {
            "application/vnd.google.colaboratory.intrinsic+json": {
              "type": "string"
            },
            "text/plain": [
              "'r'"
            ]
          },
          "metadata": {},
          "execution_count": 8
        }
      ]
    },
    {
      "cell_type": "code",
      "metadata": {
        "colab": {
          "base_uri": "https://localhost:8080/"
        },
        "id": "tQja5BOTk92x",
        "outputId": "f85cba47-c951-4705-bb5b-3dc796ae1ef9"
      },
      "source": [
        "list_2[-2]"
      ],
      "execution_count": 11,
      "outputs": [
        {
          "output_type": "execute_result",
          "data": {
            "text/plain": [
              "2"
            ]
          },
          "metadata": {},
          "execution_count": 11
        }
      ]
    },
    {
      "cell_type": "code",
      "metadata": {
        "colab": {
          "base_uri": "https://localhost:8080/"
        },
        "id": "cYxFpMILlrll",
        "outputId": "6cd99e97-2f49-4cc2-94bc-e074ff0124f4"
      },
      "source": [
        "# panjang list\n",
        "print(len(list_1))"
      ],
      "execution_count": 14,
      "outputs": [
        {
          "output_type": "stream",
          "name": "stdout",
          "text": [
            "5\n"
          ]
        }
      ]
    },
    {
      "cell_type": "code",
      "metadata": {
        "colab": {
          "base_uri": "https://localhost:8080/"
        },
        "id": "GsG9RezWl3ji",
        "outputId": "8b400fb6-9384-423c-ed79-92c46025e66e"
      },
      "source": [
        "print(len(list_2))"
      ],
      "execution_count": 15,
      "outputs": [
        {
          "output_type": "stream",
          "name": "stdout",
          "text": [
            "8\n"
          ]
        }
      ]
    },
    {
      "cell_type": "code",
      "metadata": {
        "colab": {
          "base_uri": "https://localhost:8080/"
        },
        "id": "ANZJLewomDra",
        "outputId": "daabf080-2394-4da1-8774-5dd94341b4eb"
      },
      "source": [
        "# mengetahui index suatu elemen dalam list \n",
        "list_2.index(4.5)"
      ],
      "execution_count": 16,
      "outputs": [
        {
          "output_type": "execute_result",
          "data": {
            "text/plain": [
              "3"
            ]
          },
          "metadata": {},
          "execution_count": 16
        }
      ]
    },
    {
      "cell_type": "code",
      "metadata": {
        "colab": {
          "base_uri": "https://localhost:8080/"
        },
        "id": "dGkRPs0ImVTz",
        "outputId": "de12a8f2-6e20-41ad-d9be-a1dc95b87236"
      },
      "source": [
        "list_3 = [4,6,3,1,2,5.7,9.6]\n",
        "list_3"
      ],
      "execution_count": 22,
      "outputs": [
        {
          "output_type": "execute_result",
          "data": {
            "text/plain": [
              "[4, 6, 3, 1, 2, 5.7, 9.6]"
            ]
          },
          "metadata": {},
          "execution_count": 22
        }
      ]
    },
    {
      "cell_type": "code",
      "metadata": {
        "colab": {
          "base_uri": "https://localhost:8080/"
        },
        "id": "vLjG7uy4mbnF",
        "outputId": "732862c1-9ac2-4189-d61d-14996749a0a5"
      },
      "source": [
        "# mengurutkan komponen dalam list\n",
        "list_3.sort()\n",
        "list_3"
      ],
      "execution_count": 20,
      "outputs": [
        {
          "output_type": "execute_result",
          "data": {
            "text/plain": [
              "[1, 2, 3, 4, 5.7, 6, 9.6]"
            ]
          },
          "metadata": {},
          "execution_count": 20
        }
      ]
    },
    {
      "cell_type": "code",
      "metadata": {
        "colab": {
          "base_uri": "https://localhost:8080/"
        },
        "id": "VESXQLeXmqed",
        "outputId": "647efe7d-d813-4682-8154-fd4d4d534b91"
      },
      "source": [
        "list_3.sort(reverse=True)\n",
        "list_3"
      ],
      "execution_count": 21,
      "outputs": [
        {
          "output_type": "execute_result",
          "data": {
            "text/plain": [
              "[9.6, 6, 5.7, 4, 3, 2, 1]"
            ]
          },
          "metadata": {},
          "execution_count": 21
        }
      ]
    },
    {
      "cell_type": "code",
      "metadata": {
        "colab": {
          "base_uri": "https://localhost:8080/"
        },
        "id": "1jDDPUYtmx8h",
        "outputId": "b9773682-c904-48eb-8ea7-5231316110e8"
      },
      "source": [
        "list_3.reverse()\n",
        "list_3"
      ],
      "execution_count": 23,
      "outputs": [
        {
          "output_type": "execute_result",
          "data": {
            "text/plain": [
              "[9.6, 5.7, 2, 1, 3, 6, 4]"
            ]
          },
          "metadata": {},
          "execution_count": 23
        }
      ]
    },
    {
      "cell_type": "code",
      "metadata": {
        "colab": {
          "base_uri": "https://localhost:8080/"
        },
        "id": "wxl4ZYTipCru",
        "outputId": "89311580-327c-4daa-ac8a-7812f6f0a0e6"
      },
      "source": [
        "# mengganti elemen dalam list\n",
        "list_4 = [1,2,3,4,5]\n",
        "list_4[2] = 10\n",
        "list_4"
      ],
      "execution_count": 30,
      "outputs": [
        {
          "output_type": "execute_result",
          "data": {
            "text/plain": [
              "[1, 2, 10, 4, 5]"
            ]
          },
          "metadata": {},
          "execution_count": 30
        }
      ]
    },
    {
      "cell_type": "code",
      "metadata": {
        "colab": {
          "base_uri": "https://localhost:8080/"
        },
        "id": "aTWF2m892rlj",
        "outputId": "eee82dae-4689-4edb-d3af-5d6e9ae3b8b7"
      },
      "source": [
        "# melakukan manipulasi tanpa merubah list asli\n",
        "list_1_man = []\n",
        "list_1_man.extend(list_1)\n",
        "list_1_man"
      ],
      "execution_count": 82,
      "outputs": [
        {
          "output_type": "execute_result",
          "data": {
            "text/plain": [
              "[1, 'a', 'z', 2, 4.5]"
            ]
          },
          "metadata": {},
          "execution_count": 82
        }
      ]
    },
    {
      "cell_type": "code",
      "metadata": {
        "colab": {
          "base_uri": "https://localhost:8080/"
        },
        "id": "wGa26f9I2ZVd",
        "outputId": "37227a5d-a455-4903-a677-177b6fc36d0c"
      },
      "source": [
        "list_1_man[2] = 'x'\n",
        "list_1_man"
      ],
      "execution_count": 83,
      "outputs": [
        {
          "output_type": "execute_result",
          "data": {
            "text/plain": [
              "[1, 'a', 'x', 2, 4.5]"
            ]
          },
          "metadata": {},
          "execution_count": 83
        }
      ]
    },
    {
      "cell_type": "code",
      "metadata": {
        "colab": {
          "base_uri": "https://localhost:8080/"
        },
        "id": "1gG4OhdF26c3",
        "outputId": "032bf0c0-101b-4559-af1a-47cdc4b1e7ba"
      },
      "source": [
        "list_1"
      ],
      "execution_count": 84,
      "outputs": [
        {
          "output_type": "execute_result",
          "data": {
            "text/plain": [
              "[1, 'a', 'z', 2, 4.5]"
            ]
          },
          "metadata": {},
          "execution_count": 84
        }
      ]
    },
    {
      "cell_type": "markdown",
      "metadata": {
        "id": "4u1VvxlrEjta"
      },
      "source": [
        "## Manipulate List"
      ]
    },
    {
      "cell_type": "markdown",
      "metadata": {
        "id": "iuPlfe4HE4bF"
      },
      "source": [
        "### Mengganti Elemen dalam List"
      ]
    },
    {
      "cell_type": "code",
      "metadata": {
        "colab": {
          "base_uri": "https://localhost:8080/"
        },
        "id": "6roFp3acEnhE",
        "outputId": "781861e9-7735-4922-ce6d-890af1366a64"
      },
      "source": [
        "# mengganti elemen dalam list\n",
        "list_5 = [1,2,3,4.5,6,7,8.9,'a','b','c']\n",
        "list_5[2] = 9.3\n",
        "list_5"
      ],
      "execution_count": 45,
      "outputs": [
        {
          "output_type": "execute_result",
          "data": {
            "text/plain": [
              "[1, 2, 9.3, 4.5, 6, 7, 8.9, 'a', 'b', 'c']"
            ]
          },
          "metadata": {},
          "execution_count": 45
        }
      ]
    },
    {
      "cell_type": "code",
      "metadata": {
        "colab": {
          "base_uri": "https://localhost:8080/"
        },
        "id": "x_d6fA-rvY9n",
        "outputId": "de0fca46-07c3-4a8f-af36-065ba877029f"
      },
      "source": [
        "list_5[ list_5.index(8.9) ] = 72\n",
        "list_5"
      ],
      "execution_count": 46,
      "outputs": [
        {
          "output_type": "execute_result",
          "data": {
            "text/plain": [
              "[1, 2, 9.3, 4.5, 6, 7, 72, 'a', 'b', 'c']"
            ]
          },
          "metadata": {},
          "execution_count": 46
        }
      ]
    },
    {
      "cell_type": "code",
      "metadata": {
        "colab": {
          "base_uri": "https://localhost:8080/"
        },
        "id": "Hnyz9bX_v7jd",
        "outputId": "61c1ac46-53cd-4f6f-e2ab-45d42644b48e"
      },
      "source": [
        "list_6 = [1,2,3,4.5,6,7,8.9,1,2,3]\n",
        "list_6"
      ],
      "execution_count": 53,
      "outputs": [
        {
          "output_type": "execute_result",
          "data": {
            "text/plain": [
              "[1, 2, 3, 4.5, 6, 7, 8.9, 1, 2, 3]"
            ]
          },
          "metadata": {},
          "execution_count": 53
        }
      ]
    },
    {
      "cell_type": "code",
      "metadata": {
        "colab": {
          "base_uri": "https://localhost:8080/"
        },
        "id": "JXHdxeePwAQ2",
        "outputId": "5649c1cc-1edf-47a6-c8f9-e53056867213"
      },
      "source": [
        "list_6[ list_6.index(2) ] = 11\n",
        "list_6"
      ],
      "execution_count": 54,
      "outputs": [
        {
          "output_type": "execute_result",
          "data": {
            "text/plain": [
              "[1, 11, 3, 4.5, 6, 7, 8.9, 1, 2, 3]"
            ]
          },
          "metadata": {},
          "execution_count": 54
        }
      ]
    },
    {
      "cell_type": "markdown",
      "metadata": {
        "id": "ldqHFoZoE7t4"
      },
      "source": [
        "### List Slicing"
      ]
    },
    {
      "cell_type": "code",
      "metadata": {
        "colab": {
          "base_uri": "https://localhost:8080/"
        },
        "id": "kPgBuy3eEtyb",
        "outputId": "7819f732-1b49-4457-b347-faec931d1929"
      },
      "source": [
        "# list slicing\n",
        "list_5[2:5]"
      ],
      "execution_count": 47,
      "outputs": [
        {
          "output_type": "execute_result",
          "data": {
            "text/plain": [
              "[9.3, 4.5, 6]"
            ]
          },
          "metadata": {},
          "execution_count": 47
        }
      ]
    },
    {
      "cell_type": "markdown",
      "metadata": {
        "id": "ZG0pY0qmE9xJ"
      },
      "source": [
        "### List Extension"
      ]
    },
    {
      "cell_type": "code",
      "metadata": {
        "colab": {
          "base_uri": "https://localhost:8080/"
        },
        "id": "VH9hZfWYEvB8",
        "outputId": "ad720127-fb8b-4f12-8f28-fde4f43df4a4"
      },
      "source": [
        "# append\n",
        "list_6.append('z')\n",
        "list_6"
      ],
      "execution_count": 56,
      "outputs": [
        {
          "output_type": "execute_result",
          "data": {
            "text/plain": [
              "[1, 11, 3, 4.5, 6, 7, 8.9, 1, 2, 3, 'z']"
            ]
          },
          "metadata": {},
          "execution_count": 56
        }
      ]
    },
    {
      "cell_type": "code",
      "metadata": {
        "colab": {
          "base_uri": "https://localhost:8080/"
        },
        "id": "I8U9UmBow6f0",
        "outputId": "ea3553f7-80fd-4bd2-f860-890fd1463cdf"
      },
      "source": [
        "list_6.append(list_1)\n",
        "list_6"
      ],
      "execution_count": 58,
      "outputs": [
        {
          "output_type": "execute_result",
          "data": {
            "text/plain": [
              "[1, 11, 3, 4.5, 6, 7, 8.9, 1, 2, 3, 'z', [1, 'a', 'b', 2, 4.5]]"
            ]
          },
          "metadata": {},
          "execution_count": 58
        }
      ]
    },
    {
      "cell_type": "code",
      "metadata": {
        "colab": {
          "base_uri": "https://localhost:8080/"
        },
        "id": "1tfaO4hcFEKY",
        "outputId": "33f69167-8e38-4633-ff9b-066c10bb060d"
      },
      "source": [
        "# extend\n",
        "list_5"
      ],
      "execution_count": 59,
      "outputs": [
        {
          "output_type": "execute_result",
          "data": {
            "text/plain": [
              "[1, 2, 9.3, 4.5, 6, 7, 72, 'a', 'b', 'c']"
            ]
          },
          "metadata": {},
          "execution_count": 59
        }
      ]
    },
    {
      "cell_type": "code",
      "metadata": {
        "colab": {
          "base_uri": "https://localhost:8080/"
        },
        "id": "7sB_9F1vxQWU",
        "outputId": "cc63a832-ae3b-4026-b635-cbac2acc9eed"
      },
      "source": [
        "list_5.extend(list_1)\n",
        "list_5"
      ],
      "execution_count": 60,
      "outputs": [
        {
          "output_type": "execute_result",
          "data": {
            "text/plain": [
              "[1, 2, 9.3, 4.5, 6, 7, 72, 'a', 'b', 'c', 1, 'a', 'b', 2, 4.5]"
            ]
          },
          "metadata": {},
          "execution_count": 60
        }
      ]
    },
    {
      "cell_type": "code",
      "metadata": {
        "colab": {
          "base_uri": "https://localhost:8080/"
        },
        "id": "AbjtVwtKFFMX",
        "outputId": "8603f90c-0711-4680-cf61-3e8fd079d9c1"
      },
      "source": [
        "# insert\n",
        "list_4.insert(1,25)\n",
        "list_4"
      ],
      "execution_count": 63,
      "outputs": [
        {
          "output_type": "execute_result",
          "data": {
            "text/plain": [
              "[1, 25, 2, 10, 4, 5]"
            ]
          },
          "metadata": {},
          "execution_count": 63
        }
      ]
    },
    {
      "cell_type": "code",
      "metadata": {
        "colab": {
          "base_uri": "https://localhost:8080/"
        },
        "id": "fFXAPgH0yDSW",
        "outputId": "625ff8b2-3cc6-4d16-adb1-8815ac9a36ef"
      },
      "source": [
        "list_4.insert(2,list_1)\n",
        "list_4"
      ],
      "execution_count": 64,
      "outputs": [
        {
          "output_type": "execute_result",
          "data": {
            "text/plain": [
              "[1, 25, [1, 'a', 'b', 2, 4.5], 2, 10, 4, 5]"
            ]
          },
          "metadata": {},
          "execution_count": 64
        }
      ]
    },
    {
      "cell_type": "code",
      "metadata": {
        "colab": {
          "base_uri": "https://localhost:8080/"
        },
        "id": "QE4hh1wRFGtm",
        "outputId": "b166b9d8-0f5e-4e82-c52f-539489371439"
      },
      "source": [
        "# combine\n",
        "list_7 = list_2 + list_3\n",
        "list_7"
      ],
      "execution_count": 70,
      "outputs": [
        {
          "output_type": "execute_result",
          "data": {
            "text/plain": [
              "[1, 2, 3, 4.5, 'a', 'b', 2, 'r', 9.6, 5.7, 2, 1, 3, 6, 4]"
            ]
          },
          "metadata": {},
          "execution_count": 70
        }
      ]
    },
    {
      "cell_type": "markdown",
      "metadata": {
        "id": "utS7HsY3FAW5"
      },
      "source": [
        "### List Deletion"
      ]
    },
    {
      "cell_type": "code",
      "metadata": {
        "colab": {
          "base_uri": "https://localhost:8080/"
        },
        "id": "LzFu0CxBEzjN",
        "outputId": "6d3d5b46-669c-457c-8224-0835abd3cd6f"
      },
      "source": [
        "# list deletion\n",
        "list_7.remove(2)\n",
        "list_7"
      ],
      "execution_count": 68,
      "outputs": [
        {
          "output_type": "execute_result",
          "data": {
            "text/plain": [
              "[1, 3, 4.5, 'a', 'b', 2, 'r', 9.6, 5.7, 2, 1, 3, 6, 4]"
            ]
          },
          "metadata": {},
          "execution_count": 68
        }
      ]
    },
    {
      "cell_type": "code",
      "metadata": {
        "colab": {
          "base_uri": "https://localhost:8080/"
        },
        "id": "jMIU9JXEzia_",
        "outputId": "479cba40-40ad-4179-dd41-cd91ce26c8a8"
      },
      "source": [
        "del list_7[ list_7.index(2) ]\n",
        "list_7"
      ],
      "execution_count": 69,
      "outputs": [
        {
          "output_type": "execute_result",
          "data": {
            "text/plain": [
              "[1, 3, 4.5, 'a', 'b', 'r', 9.6, 5.7, 2, 1, 3, 6, 4]"
            ]
          },
          "metadata": {},
          "execution_count": 69
        }
      ]
    },
    {
      "cell_type": "code",
      "metadata": {
        "colab": {
          "base_uri": "https://localhost:8080/"
        },
        "id": "CNEoCP_iz4ys",
        "outputId": "e6094eed-ef0e-4d3e-e663-b0ee6bc917fd"
      },
      "source": [
        "# menghapus semua angka 2\n",
        "for i in range(len(list_7)):\n",
        "    if list_7[i] == 2 :\n",
        "        del list_7[i]\n",
        "\n",
        "list_7"
      ],
      "execution_count": 75,
      "outputs": [
        {
          "output_type": "execute_result",
          "data": {
            "text/plain": [
              "[1, 3, 4.5, 'a', 'b', 'r', 9.6, 5.7, 1, 3, 6, 4]"
            ]
          },
          "metadata": {},
          "execution_count": 75
        }
      ]
    },
    {
      "cell_type": "markdown",
      "metadata": {
        "id": "ZWsvK2pKEHMn"
      },
      "source": [
        "# Dictionary"
      ]
    },
    {
      "cell_type": "markdown",
      "metadata": {
        "id": "ti7eOIsaFRrG"
      },
      "source": [
        "## Create Dictionary"
      ]
    },
    {
      "cell_type": "code",
      "metadata": {
        "colab": {
          "base_uri": "https://localhost:8080/"
        },
        "id": "70rRigtoEIqW",
        "outputId": "c44d8af9-2438-4fe7-a71f-6248c3ed9037"
      },
      "source": [
        "# create dictionary\n",
        "dict_1 = {'a':10,'b':20.6,'c':[10,20,30]}\n",
        "dict_1"
      ],
      "execution_count": 24,
      "outputs": [
        {
          "output_type": "execute_result",
          "data": {
            "text/plain": [
              "{'a': 10, 'b': 20.6, 'c': [10, 20, 30]}"
            ]
          },
          "metadata": {},
          "execution_count": 24
        }
      ]
    },
    {
      "cell_type": "code",
      "metadata": {
        "colab": {
          "base_uri": "https://localhost:8080/"
        },
        "id": "Agv-lGu0oMRH",
        "outputId": "73081571-6384-4c2e-89a8-64b26e9037b8"
      },
      "source": [
        "dict_1['c']"
      ],
      "execution_count": 26,
      "outputs": [
        {
          "output_type": "execute_result",
          "data": {
            "text/plain": [
              "[10, 20, 30]"
            ]
          },
          "metadata": {},
          "execution_count": 26
        }
      ]
    },
    {
      "cell_type": "code",
      "metadata": {
        "colab": {
          "base_uri": "https://localhost:8080/"
        },
        "id": "2EX-nw4voUD7",
        "outputId": "8df20eac-bf89-4520-a952-08d77df5517a"
      },
      "source": [
        "dict_1['a'] = 15\n",
        "dict_1"
      ],
      "execution_count": 27,
      "outputs": [
        {
          "output_type": "execute_result",
          "data": {
            "text/plain": [
              "{'a': 15, 'b': 20.6, 'c': [10, 20, 30]}"
            ]
          },
          "metadata": {},
          "execution_count": 27
        }
      ]
    },
    {
      "cell_type": "code",
      "metadata": {
        "colab": {
          "base_uri": "https://localhost:8080/"
        },
        "id": "OowEsW2Aowvz",
        "outputId": "f77dcd66-3a33-4096-960c-f6631b0b6883"
      },
      "source": [
        "dict_1['c'][0] = 15\n",
        "dict_1"
      ],
      "execution_count": 29,
      "outputs": [
        {
          "output_type": "execute_result",
          "data": {
            "text/plain": [
              "{'a': 15, 'b': 20.6, 'c': [15, 20, 30]}"
            ]
          },
          "metadata": {},
          "execution_count": 29
        }
      ]
    },
    {
      "cell_type": "markdown",
      "metadata": {
        "id": "jzMjgCmOFVgo"
      },
      "source": [
        "## Manipulate Dictionary"
      ]
    },
    {
      "cell_type": "code",
      "metadata": {
        "colab": {
          "base_uri": "https://localhost:8080/"
        },
        "id": "THYbnD1YFYRR",
        "outputId": "cc5e574d-b758-4b5b-8697-cad32c03b36a"
      },
      "source": [
        "# menambahkan element ke dalam dictionary\n",
        "dict_1['d'] = 156\n",
        "dict_1"
      ],
      "execution_count": 76,
      "outputs": [
        {
          "output_type": "execute_result",
          "data": {
            "text/plain": [
              "{'a': 15, 'b': 20.6, 'c': [15, 20, 30], 'd': 156, 'e': [1, 'a', 'b', 2, 4.5]}"
            ]
          },
          "metadata": {},
          "execution_count": 76
        }
      ]
    },
    {
      "cell_type": "code",
      "metadata": {
        "id": "cqLcNFhE1U1Y"
      },
      "source": [
        "dict_1['e'] = list_1\n",
        "dict_1"
      ],
      "execution_count": null,
      "outputs": []
    },
    {
      "cell_type": "code",
      "metadata": {
        "colab": {
          "base_uri": "https://localhost:8080/"
        },
        "id": "I6WD_FQLFcK6",
        "outputId": "1ed69dcf-8fd6-49d0-d1be-cbf06d351db0"
      },
      "source": [
        "# delete dictionary\n",
        "del dict_1['e']\n",
        "dict_1"
      ],
      "execution_count": 77,
      "outputs": [
        {
          "output_type": "execute_result",
          "data": {
            "text/plain": [
              "{'a': 15, 'b': 20.6, 'c': [15, 20, 30], 'd': 156}"
            ]
          },
          "metadata": {},
          "execution_count": 77
        }
      ]
    },
    {
      "cell_type": "code",
      "metadata": {
        "colab": {
          "base_uri": "https://localhost:8080/"
        },
        "id": "8_uL9sBV1ntC",
        "outputId": "2f1ddaed-940b-4077-89ac-554480209f49"
      },
      "source": [
        "dict_1.pop('c')\n",
        "dict_1"
      ],
      "execution_count": 78,
      "outputs": [
        {
          "output_type": "execute_result",
          "data": {
            "text/plain": [
              "{'a': 15, 'b': 20.6, 'd': 156}"
            ]
          },
          "metadata": {},
          "execution_count": 78
        }
      ]
    },
    {
      "cell_type": "markdown",
      "metadata": {
        "id": "8PkCa6GoEI6I"
      },
      "source": [
        "# Tuple"
      ]
    },
    {
      "cell_type": "code",
      "metadata": {
        "colab": {
          "base_uri": "https://localhost:8080/"
        },
        "id": "VpBNV8npEKTl",
        "outputId": "67d9f65b-a68a-4f71-f25e-7a9771b6a005"
      },
      "source": [
        "# create tuple\n",
        "tup_1 = (1,'a','b',2,4.5)\n",
        "tup_1"
      ],
      "execution_count": 31,
      "outputs": [
        {
          "output_type": "execute_result",
          "data": {
            "text/plain": [
              "(1, 'a', 'b', 2, 4.5)"
            ]
          },
          "metadata": {},
          "execution_count": 31
        }
      ]
    },
    {
      "cell_type": "code",
      "metadata": {
        "colab": {
          "base_uri": "https://localhost:8080/",
          "height": 35
        },
        "id": "_7P8SMZNp97M",
        "outputId": "c95fc6ef-d07d-46d8-ad40-281eac20c04e"
      },
      "source": [
        "tup_1[1]"
      ],
      "execution_count": 32,
      "outputs": [
        {
          "output_type": "execute_result",
          "data": {
            "application/vnd.google.colaboratory.intrinsic+json": {
              "type": "string"
            },
            "text/plain": [
              "'a'"
            ]
          },
          "metadata": {},
          "execution_count": 32
        }
      ]
    },
    {
      "cell_type": "code",
      "metadata": {
        "colab": {
          "base_uri": "https://localhost:8080/",
          "height": 183
        },
        "id": "6gtEmjvLqA-s",
        "outputId": "e836b65f-05bc-4a46-fba8-ed9109319b3a"
      },
      "source": [
        "# bukti bahwa tuple != list, dimana isi tuple tidak bisa diubah (immutable)\n",
        "tup_1[1] = 'z'\n",
        "tup_1"
      ],
      "execution_count": 34,
      "outputs": [
        {
          "output_type": "error",
          "ename": "TypeError",
          "evalue": "ignored",
          "traceback": [
            "\u001b[0;31m---------------------------------------------------------------------------\u001b[0m",
            "\u001b[0;31mTypeError\u001b[0m                                 Traceback (most recent call last)",
            "\u001b[0;32m<ipython-input-34-e9bf5557a9b1>\u001b[0m in \u001b[0;36m<module>\u001b[0;34m()\u001b[0m\n\u001b[0;32m----> 1\u001b[0;31m \u001b[0mtup_1\u001b[0m\u001b[0;34m[\u001b[0m\u001b[0;36m1\u001b[0m\u001b[0;34m]\u001b[0m \u001b[0;34m=\u001b[0m \u001b[0;34m'z'\u001b[0m\u001b[0;34m\u001b[0m\u001b[0;34m\u001b[0m\u001b[0m\n\u001b[0m\u001b[1;32m      2\u001b[0m \u001b[0mtup_1\u001b[0m\u001b[0;34m\u001b[0m\u001b[0;34m\u001b[0m\u001b[0m\n",
            "\u001b[0;31mTypeError\u001b[0m: 'tuple' object does not support item assignment"
          ]
        }
      ]
    },
    {
      "cell_type": "markdown",
      "metadata": {
        "id": "xaahc_pXEKgD"
      },
      "source": [
        "# Set"
      ]
    },
    {
      "cell_type": "markdown",
      "metadata": {
        "id": "YDKsfhNSFlxc"
      },
      "source": [
        "## Create Set"
      ]
    },
    {
      "cell_type": "code",
      "metadata": {
        "colab": {
          "base_uri": "https://localhost:8080/"
        },
        "id": "MdSVwfbMELww",
        "outputId": "c2902583-2f7c-4fbd-c570-db59d2f1d9d8"
      },
      "source": [
        "# create set\n",
        "buah_manis = {\"apel\", \"semangka\", \"pisang\", \"pisang\", \"apel\", \"mangga\", \"mangga\"}\n",
        "buah_manis"
      ],
      "execution_count": 37,
      "outputs": [
        {
          "output_type": "execute_result",
          "data": {
            "text/plain": [
              "{'apel', 'mangga', 'pisang', 'semangka'}"
            ]
          },
          "metadata": {},
          "execution_count": 37
        }
      ]
    },
    {
      "cell_type": "markdown",
      "metadata": {
        "id": "F1bGpjSpuxGB"
      },
      "source": [
        "## Manipulate Set"
      ]
    },
    {
      "cell_type": "code",
      "metadata": {
        "colab": {
          "base_uri": "https://localhost:8080/"
        },
        "id": "lNqNkBRFsJnp",
        "outputId": "bde3f76b-1f72-418d-f8c1-7e17c663902f"
      },
      "source": [
        "list_buah_asam = [\"mangga\", \"jeruk\", \"jeruk\", \"strawberry\", \"strawberry\", \"mangga\"]\n",
        "buah_asam = set(list_buah_asam)\n",
        "buah_asam"
      ],
      "execution_count": 38,
      "outputs": [
        {
          "output_type": "execute_result",
          "data": {
            "text/plain": [
              "{'jeruk', 'mangga', 'strawberry'}"
            ]
          },
          "metadata": {},
          "execution_count": 38
        }
      ]
    },
    {
      "cell_type": "code",
      "metadata": {
        "colab": {
          "base_uri": "https://localhost:8080/"
        },
        "id": "hbnXofrgtVe5",
        "outputId": "17ae5e2a-4a78-48bc-d319-4b323241b66a"
      },
      "source": [
        "himpunan_union = buah_manis.union(buah_asam)\n",
        "himpunan_union"
      ],
      "execution_count": 40,
      "outputs": [
        {
          "output_type": "execute_result",
          "data": {
            "text/plain": [
              "{'apel', 'jeruk', 'mangga', 'pisang', 'semangka', 'strawberry'}"
            ]
          },
          "metadata": {},
          "execution_count": 40
        }
      ]
    },
    {
      "cell_type": "code",
      "metadata": {
        "colab": {
          "base_uri": "https://localhost:8080/"
        },
        "id": "OATm9Tgxt1qZ",
        "outputId": "b79cdd61-1052-43a2-eb2a-cd8738964be3"
      },
      "source": [
        "himpunan_irisan = buah_manis.intersection(buah_asam)\n",
        "himpunan_irisan"
      ],
      "execution_count": 41,
      "outputs": [
        {
          "output_type": "execute_result",
          "data": {
            "text/plain": [
              "{'mangga'}"
            ]
          },
          "metadata": {},
          "execution_count": 41
        }
      ]
    },
    {
      "cell_type": "code",
      "metadata": {
        "colab": {
          "base_uri": "https://localhost:8080/"
        },
        "id": "caMiPEIiuBQr",
        "outputId": "547a4628-6ca3-4ca9-fc26-f5a1fb595857"
      },
      "source": [
        "himpunan_difference_1 = buah_manis.difference(buah_asam)\n",
        "himpunan_difference_1"
      ],
      "execution_count": 42,
      "outputs": [
        {
          "output_type": "execute_result",
          "data": {
            "text/plain": [
              "{'apel', 'pisang', 'semangka'}"
            ]
          },
          "metadata": {},
          "execution_count": 42
        }
      ]
    },
    {
      "cell_type": "code",
      "metadata": {
        "colab": {
          "base_uri": "https://localhost:8080/"
        },
        "id": "-MLX1t9kuLIo",
        "outputId": "86b240eb-f1ac-4eee-a5a2-a87e097538d1"
      },
      "source": [
        "himpunan_difference_2 = buah_asam.difference(buah_manis)\n",
        "himpunan_difference_2"
      ],
      "execution_count": 43,
      "outputs": [
        {
          "output_type": "execute_result",
          "data": {
            "text/plain": [
              "{'jeruk', 'strawberry'}"
            ]
          },
          "metadata": {},
          "execution_count": 43
        }
      ]
    },
    {
      "cell_type": "code",
      "metadata": {
        "colab": {
          "base_uri": "https://localhost:8080/"
        },
        "id": "hAmRNd4OuSLn",
        "outputId": "28bc5b9a-71db-4311-959f-800419271f5e"
      },
      "source": [
        "himpunan_non_irisan = buah_manis.symmetric_difference(buah_asam)\n",
        "himpunan_non_irisan"
      ],
      "execution_count": 44,
      "outputs": [
        {
          "output_type": "execute_result",
          "data": {
            "text/plain": [
              "{'apel', 'jeruk', 'pisang', 'semangka', 'strawberry'}"
            ]
          },
          "metadata": {},
          "execution_count": 44
        }
      ]
    },
    {
      "cell_type": "markdown",
      "metadata": {
        "id": "vYTxPA623RI1"
      },
      "source": [
        "# List Iteration"
      ]
    },
    {
      "cell_type": "code",
      "metadata": {
        "colab": {
          "base_uri": "https://localhost:8080/"
        },
        "id": "D_B4GLgg3TtV",
        "outputId": "88fdcc7b-0add-4ed9-9e21-0cd23147d4ec"
      },
      "source": [
        "list_10 = [1,2,3,4,5,6,7,8,9,10]\n",
        "list_10"
      ],
      "execution_count": 85,
      "outputs": [
        {
          "output_type": "execute_result",
          "data": {
            "text/plain": [
              "[1, 2, 3, 4, 5, 6, 7, 8, 9, 10]"
            ]
          },
          "metadata": {},
          "execution_count": 85
        }
      ]
    },
    {
      "cell_type": "code",
      "metadata": {
        "colab": {
          "base_uri": "https://localhost:8080/"
        },
        "id": "pYgS2Wet3an3",
        "outputId": "04f45acb-35d7-468f-c5a8-e6cabf99d928"
      },
      "source": [
        "list_10_x = []\n",
        "for i in range(10):\n",
        "  list_10_x.append(i+1)\n",
        "\n",
        "list_10_x"
      ],
      "execution_count": 88,
      "outputs": [
        {
          "output_type": "execute_result",
          "data": {
            "text/plain": [
              "[1, 2, 3, 4, 5, 6, 7, 8, 9, 10]"
            ]
          },
          "metadata": {},
          "execution_count": 88
        }
      ]
    },
    {
      "cell_type": "code",
      "metadata": {
        "colab": {
          "base_uri": "https://localhost:8080/"
        },
        "id": "vhd8a5Py3003",
        "outputId": "796677a9-5c9e-4896-cea9-55d7105c1aad"
      },
      "source": [
        "# cara 1 untuk mendapat list berisi kuadrat dari angka 1-10 (basic iteration)\n",
        "list_10_xx = []\n",
        "for i in range(10):\n",
        "  list_10_xx.append((i+1)**2)\n",
        "\n",
        "list_10_xx"
      ],
      "execution_count": 89,
      "outputs": [
        {
          "output_type": "execute_result",
          "data": {
            "text/plain": [
              "[1, 4, 9, 16, 25, 36, 49, 64, 81, 100]"
            ]
          },
          "metadata": {},
          "execution_count": 89
        }
      ]
    },
    {
      "cell_type": "code",
      "metadata": {
        "colab": {
          "base_uri": "https://localhost:8080/"
        },
        "id": "U1OaTIFJ4DO6",
        "outputId": "824bcedb-d9a4-49be-9769-30029a0de916"
      },
      "source": [
        "# cara 2 untuk mendapat list berisi kuadrat dari angka 1-10 (list comprehension)\n",
        "[ (i+1)**2 for i in range(10) ]"
      ],
      "execution_count": 90,
      "outputs": [
        {
          "output_type": "execute_result",
          "data": {
            "text/plain": [
              "[1, 4, 9, 16, 25, 36, 49, 64, 81, 100]"
            ]
          },
          "metadata": {},
          "execution_count": 90
        }
      ]
    },
    {
      "cell_type": "code",
      "metadata": {
        "colab": {
          "base_uri": "https://localhost:8080/"
        },
        "id": "03qzLtVf4ikd",
        "outputId": "1d3d5f98-5bfb-4110-dc5d-f5c7ee9cb68d"
      },
      "source": [
        "# cara 3 untuk mendapat list berisi kuadrat dari angka 1-10 (list comprehension dengan sebelumnya sudah ada list angka)\n",
        "[ i**2 for i in list_10_x ]"
      ],
      "execution_count": 91,
      "outputs": [
        {
          "output_type": "execute_result",
          "data": {
            "text/plain": [
              "[1, 4, 9, 16, 25, 36, 49, 64, 81, 100]"
            ]
          },
          "metadata": {},
          "execution_count": 91
        }
      ]
    }
  ]
}